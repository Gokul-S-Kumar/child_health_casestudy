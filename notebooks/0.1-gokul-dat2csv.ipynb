{
 "cells": [
  {
   "cell_type": "code",
   "execution_count": 1,
   "id": "protecting-details",
   "metadata": {},
   "outputs": [],
   "source": [
    "import csv\n",
    "from glob import glob\n",
    "import os\n",
    "from pathlib import Path\n",
    "import pandas as pd"
   ]
  },
  {
   "cell_type": "markdown",
   "id": "specialized-college",
   "metadata": {},
   "source": [
    "## Converting DAT files to CSV"
   ]
  },
  {
   "cell_type": "code",
   "execution_count": 30,
   "id": "portuguese-consideration",
   "metadata": {},
   "outputs": [],
   "source": [
    "for file in file_list:\n",
    "    df = pd.read_csv(file, sep = '\\t' , header = None, skipinitialspace = True, low_memory = False, index_col = False)\n",
    "    df.to_csv('../data/csv_data/{}.csv'.format(file.split('\\\\')[1].split('.')[0]), index = False)"
   ]
  },
  {
   "cell_type": "markdown",
   "id": "olive-belle",
   "metadata": {},
   "source": [
    "## Adding feature names to ecregistration, ectracking, pw, pw_med, delivery, infant_registration, anc"
   ]
  },
  {
   "cell_type": "code",
   "execution_count": 34,
   "id": "understood-ending",
   "metadata": {},
   "outputs": [],
   "source": [
    "def add_feature_names(data_file, column_list):\n",
    "    df = pd.read_csv(data_file, sep = '\\t', header = None, na_values = '\\\\N', low_memory = False)\n",
    "    df.columns = column_list\n",
    "    df.to_csv(f'../data/csv_data/complete_data/{os.path.basename(data_file).split(\".\")[0]}.csv', index = False)"
   ]
  },
  {
   "cell_type": "code",
   "execution_count": 35,
   "id": "pointed-diploma",
   "metadata": {},
   "outputs": [],
   "source": [
    "feature_dict = {'ecregistration' : ['id','state','district','poverty_line','case_no','caste','registration_date','mother_deleted',\n",
    "                          'mother_deleted_time','female_child_born','female_child_live','infertility_options',\n",
    "                          'infertility_refer','infertility_status','male_child_born','male_child_live','is_pregnant',\n",
    "                          'pregnancy_test_result','pw_aadhaar_linked','re_reg_status','reason_for_deletion',\n",
    "                          'registration_no','religion','rural_urban','wife_current_age','wife_marry_age',\n",
    "                          'young_child_age_month','young_child_age_year','young_child_gender','hus_current_age',\n",
    "                          'hus_marry_age','isactive','previous_status','created_on'], \n",
    "                'ectracking' : ['id','state','district','case_no','contraception_method','other','pregnancy_test_done',\n",
    "                          'pregnancy_test_result','registration_no','rural_urban','visit_date','visit_no','isactive',\n",
    "                          'previous_status','created_on'],\n",
    "                'pw' : ['id','state','district','poverty_line','age','birth_date','case_no','caste','mother_deleted','deleted_on',\n",
    "                          'reason_for_deletion','registration_date','registration_no','religion','rural_urban','incremental',\n",
    "                          'sync_response','isactive','previous_status','weight','created_on','height'], \n",
    "                'pw_med' : ['id','state','district','blood_group','blood_group_test','case_no','edd_date','expected_delivery_place',\n",
    "                          'hiv_date','hiv_result','hiv_test','l2l_preg_complication','last_preg_complication','lmp_date',\n",
    "                          'no_of_pregnancy','other_l2l_complication','other_last_complication','other_past_illness',\n",
    "                          'outcome_l2l_preg','outcome_last_preg','past_illness','place_name','re_reg_done','reg_12weeks',\n",
    "                          'registration_no','rural_urban','vdrl_date','vdrl_result','vdrl_test','isactive','previous_status',\n",
    "                          'created_on'],\n",
    "                'delivery' : ['id','state','district','case_no','death_cause','death_other','delivery_comp1','delivery_comp2',\n",
    "                            'delivery_comp3','delivery_comp4','delivery_comp5','delivery_complication','delivery_conducted_by',\n",
    "                            'delivery_date','delivery_outcomes','delivery_place','delivery_type','discharge_date','registration_no',\n",
    "                            'rural_urban','still_birth','isactive','other_delivery_complication','previous_status','created_on',\n",
    "                            'live_birth'],\n",
    "                'infant_registration' : ['id','state','district','case_no','bcg_date','breast_feeding','any_defect_seen_at_birth',\n",
    "                           'infant_cried_status','hep_b_date','infant_gender','infant_term','inj_corticosteriods_given',\n",
    "                           'registration_no','rural_urban','vit_k_date','weight','isactive','previous_status',\n",
    "                           'created_on','infant_id'],\n",
    "                'anc' : ['id','state','district','abortion_type','abortion_date','abortion_if_any','abortion_preg_weeks',\n",
    "                           'rural_urban','odema_feet','anc_date','anc_no','bp_distolic','bp_systolic','case_no','blood_sugar_fasting',\n",
    "                           'blood_sugar_post_prandial','other_symptoms_high_risk','blood_sugar_test','maternal_death',\n",
    "                           'other_death_reason','death_date','death_reason','registration_no','symptoms_high_risk','tt1_date',\n",
    "                           'tt2_date','tt_date','ttb_date','pregnancy_month','urine_albumin','urine_sugar','weight','isactive',\n",
    "                           'previous_status','ifa_given','ppmc','tt_code','urine_test','foetal_movements','created_on','hb_gm']}"
   ]
  },
  {
   "cell_type": "code",
   "execution_count": 36,
   "id": "confidential-scholar",
   "metadata": {},
   "outputs": [],
   "source": [
    "for key, value in feature_dict.items():\n",
    "    add_feature_names(f'../data/{key}.dat', value)"
   ]
  },
  {
   "cell_type": "code",
   "execution_count": null,
   "id": "norwegian-calvin",
   "metadata": {},
   "outputs": [],
   "source": []
  }
 ],
 "metadata": {
  "kernelspec": {
   "display_name": "Python 3",
   "language": "python",
   "name": "python3"
  },
  "language_info": {
   "codemirror_mode": {
    "name": "ipython",
    "version": 3
   },
   "file_extension": ".py",
   "mimetype": "text/x-python",
   "name": "python",
   "nbconvert_exporter": "python",
   "pygments_lexer": "ipython3",
   "version": "3.8.8"
  }
 },
 "nbformat": 4,
 "nbformat_minor": 5
}
