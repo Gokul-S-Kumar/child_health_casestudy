{
 "cells": [
  {
   "cell_type": "markdown",
   "id": "political-hamilton",
   "metadata": {},
   "source": [
    "## Importing libs"
   ]
  },
  {
   "cell_type": "code",
   "execution_count": 1,
   "id": "wicked-rescue",
   "metadata": {},
   "outputs": [],
   "source": [
    "import pandas as pd\n",
    "import numpy as np\n",
    "import matplotlib.pyplot as plt\n",
    "import seaborn as sns"
   ]
  },
  {
   "cell_type": "markdown",
   "id": "authentic-leave",
   "metadata": {},
   "source": [
    "## Loading data"
   ]
  },
  {
   "cell_type": "code",
   "execution_count": 2,
   "id": "artificial-liver",
   "metadata": {},
   "outputs": [
    {
     "name": "stderr",
     "output_type": "stream",
     "text": [
      "E:\\Gokul\\Anaconda\\envs\\mldev\\lib\\site-packages\\IPython\\core\\interactiveshell.py:3165: DtypeWarning: Columns (0,21,22) have mixed types.Specify dtype option on import or set low_memory=False.\n",
      "  has_raised = await self.run_ast_nodes(code_ast.body, cell_name,\n"
     ]
    }
   ],
   "source": [
    "df_raw = pd.read_csv('../data/interim/attr_added/delivery.csv')"
   ]
  },
  {
   "cell_type": "code",
   "execution_count": 3,
   "id": "sixth-science",
   "metadata": {},
   "outputs": [
    {
     "data": {
      "text/html": [
       "<div>\n",
       "<style scoped>\n",
       "    .dataframe tbody tr th:only-of-type {\n",
       "        vertical-align: middle;\n",
       "    }\n",
       "\n",
       "    .dataframe tbody tr th {\n",
       "        vertical-align: top;\n",
       "    }\n",
       "\n",
       "    .dataframe thead th {\n",
       "        text-align: right;\n",
       "    }\n",
       "</style>\n",
       "<table border=\"1\" class=\"dataframe\">\n",
       "  <thead>\n",
       "    <tr style=\"text-align: right;\">\n",
       "      <th></th>\n",
       "      <th>id</th>\n",
       "      <th>state</th>\n",
       "      <th>district</th>\n",
       "      <th>case_no</th>\n",
       "      <th>death_cause</th>\n",
       "      <th>death_other</th>\n",
       "      <th>delivery_comp1</th>\n",
       "      <th>delivery_comp2</th>\n",
       "      <th>delivery_comp3</th>\n",
       "      <th>delivery_comp4</th>\n",
       "      <th>...</th>\n",
       "      <th>delivery_type</th>\n",
       "      <th>discharge_date</th>\n",
       "      <th>registration_no</th>\n",
       "      <th>rural_urban</th>\n",
       "      <th>still_birth</th>\n",
       "      <th>isactive</th>\n",
       "      <th>other_delivery_complication</th>\n",
       "      <th>previous_status</th>\n",
       "      <th>created_on</th>\n",
       "      <th>live_birth</th>\n",
       "    </tr>\n",
       "  </thead>\n",
       "  <tbody>\n",
       "    <tr>\n",
       "      <th>0</th>\n",
       "      <td>1623315</td>\n",
       "      <td>Haryana</td>\n",
       "      <td>Panchkula</td>\n",
       "      <td>1.0</td>\n",
       "      <td>NaN</td>\n",
       "      <td>NaN</td>\n",
       "      <td>N</td>\n",
       "      <td>N</td>\n",
       "      <td>N</td>\n",
       "      <td>N</td>\n",
       "      <td>...</td>\n",
       "      <td>Normal</td>\n",
       "      <td>2018-11-22 00:00:00</td>\n",
       "      <td>1.060029e+11</td>\n",
       "      <td>R</td>\n",
       "      <td>0.0</td>\n",
       "      <td>NaN</td>\n",
       "      <td>NaN</td>\n",
       "      <td>ANC</td>\n",
       "      <td>2019-01-17 11:55:40</td>\n",
       "      <td>1.0</td>\n",
       "    </tr>\n",
       "    <tr>\n",
       "      <th>1</th>\n",
       "      <td>1623316</td>\n",
       "      <td>Haryana</td>\n",
       "      <td>Panchkula</td>\n",
       "      <td>1.0</td>\n",
       "      <td>NaN</td>\n",
       "      <td>NaN</td>\n",
       "      <td>N</td>\n",
       "      <td>N</td>\n",
       "      <td>N</td>\n",
       "      <td>N</td>\n",
       "      <td>...</td>\n",
       "      <td>Normal</td>\n",
       "      <td>2018-07-01 00:00:00</td>\n",
       "      <td>1.060029e+11</td>\n",
       "      <td>R</td>\n",
       "      <td>0.0</td>\n",
       "      <td>NaN</td>\n",
       "      <td>NaN</td>\n",
       "      <td>ANC</td>\n",
       "      <td>2019-01-17 12:01:52</td>\n",
       "      <td>1.0</td>\n",
       "    </tr>\n",
       "    <tr>\n",
       "      <th>2</th>\n",
       "      <td>1623317</td>\n",
       "      <td>Haryana</td>\n",
       "      <td>Panchkula</td>\n",
       "      <td>1.0</td>\n",
       "      <td>NaN</td>\n",
       "      <td>NaN</td>\n",
       "      <td>N</td>\n",
       "      <td>N</td>\n",
       "      <td>N</td>\n",
       "      <td>N</td>\n",
       "      <td>...</td>\n",
       "      <td>Normal</td>\n",
       "      <td>2018-12-06 00:00:00</td>\n",
       "      <td>1.060029e+11</td>\n",
       "      <td>R</td>\n",
       "      <td>0.0</td>\n",
       "      <td>NaN</td>\n",
       "      <td>NaN</td>\n",
       "      <td>ANC</td>\n",
       "      <td>2019-03-15 12:19:35</td>\n",
       "      <td>1.0</td>\n",
       "    </tr>\n",
       "    <tr>\n",
       "      <th>3</th>\n",
       "      <td>1623318</td>\n",
       "      <td>Haryana</td>\n",
       "      <td>Panchkula</td>\n",
       "      <td>1.0</td>\n",
       "      <td>NaN</td>\n",
       "      <td>NaN</td>\n",
       "      <td>N</td>\n",
       "      <td>N</td>\n",
       "      <td>N</td>\n",
       "      <td>N</td>\n",
       "      <td>...</td>\n",
       "      <td>Normal</td>\n",
       "      <td>2018-11-12 00:00:00</td>\n",
       "      <td>1.060029e+11</td>\n",
       "      <td>R</td>\n",
       "      <td>0.0</td>\n",
       "      <td>NaN</td>\n",
       "      <td>NaN</td>\n",
       "      <td>ANC</td>\n",
       "      <td>2019-03-15 12:30:10</td>\n",
       "      <td>1.0</td>\n",
       "    </tr>\n",
       "    <tr>\n",
       "      <th>4</th>\n",
       "      <td>1623319</td>\n",
       "      <td>Haryana</td>\n",
       "      <td>Panchkula</td>\n",
       "      <td>1.0</td>\n",
       "      <td>NaN</td>\n",
       "      <td>NaN</td>\n",
       "      <td>N</td>\n",
       "      <td>N</td>\n",
       "      <td>N</td>\n",
       "      <td>N</td>\n",
       "      <td>...</td>\n",
       "      <td>Normal</td>\n",
       "      <td>2018-12-29 00:00:00</td>\n",
       "      <td>1.060029e+11</td>\n",
       "      <td>R</td>\n",
       "      <td>0.0</td>\n",
       "      <td>NaN</td>\n",
       "      <td>NaN</td>\n",
       "      <td>ANC</td>\n",
       "      <td>2019-03-15 14:34:53</td>\n",
       "      <td>1.0</td>\n",
       "    </tr>\n",
       "  </tbody>\n",
       "</table>\n",
       "<p>5 rows × 26 columns</p>\n",
       "</div>"
      ],
      "text/plain": [
       "        id    state   district  case_no death_cause death_other  \\\n",
       "0  1623315  Haryana  Panchkula      1.0         NaN         NaN   \n",
       "1  1623316  Haryana  Panchkula      1.0         NaN         NaN   \n",
       "2  1623317  Haryana  Panchkula      1.0         NaN         NaN   \n",
       "3  1623318  Haryana  Panchkula      1.0         NaN         NaN   \n",
       "4  1623319  Haryana  Panchkula      1.0         NaN         NaN   \n",
       "\n",
       "  delivery_comp1 delivery_comp2 delivery_comp3 delivery_comp4  ...  \\\n",
       "0              N              N              N              N  ...   \n",
       "1              N              N              N              N  ...   \n",
       "2              N              N              N              N  ...   \n",
       "3              N              N              N              N  ...   \n",
       "4              N              N              N              N  ...   \n",
       "\n",
       "   delivery_type       discharge_date registration_no rural_urban still_birth  \\\n",
       "0         Normal  2018-11-22 00:00:00    1.060029e+11           R         0.0   \n",
       "1         Normal  2018-07-01 00:00:00    1.060029e+11           R         0.0   \n",
       "2         Normal  2018-12-06 00:00:00    1.060029e+11           R         0.0   \n",
       "3         Normal  2018-11-12 00:00:00    1.060029e+11           R         0.0   \n",
       "4         Normal  2018-12-29 00:00:00    1.060029e+11           R         0.0   \n",
       "\n",
       "  isactive other_delivery_complication previous_status           created_on  \\\n",
       "0      NaN                         NaN             ANC  2019-01-17 11:55:40   \n",
       "1      NaN                         NaN             ANC  2019-01-17 12:01:52   \n",
       "2      NaN                         NaN             ANC  2019-03-15 12:19:35   \n",
       "3      NaN                         NaN             ANC  2019-03-15 12:30:10   \n",
       "4      NaN                         NaN             ANC  2019-03-15 14:34:53   \n",
       "\n",
       "  live_birth  \n",
       "0        1.0  \n",
       "1        1.0  \n",
       "2        1.0  \n",
       "3        1.0  \n",
       "4        1.0  \n",
       "\n",
       "[5 rows x 26 columns]"
      ]
     },
     "execution_count": 3,
     "metadata": {},
     "output_type": "execute_result"
    }
   ],
   "source": [
    "df_raw.head()"
   ]
  },
  {
   "cell_type": "code",
   "execution_count": 4,
   "id": "herbal-juice",
   "metadata": {},
   "outputs": [
    {
     "name": "stdout",
     "output_type": "stream",
     "text": [
      "<class 'pandas.core.frame.DataFrame'>\n",
      "RangeIndex: 332463 entries, 0 to 332462\n",
      "Data columns (total 26 columns):\n",
      " #   Column                       Non-Null Count   Dtype  \n",
      "---  ------                       --------------   -----  \n",
      " 0   id                           332463 non-null  object \n",
      " 1   state                        332462 non-null  object \n",
      " 2   district                     332236 non-null  object \n",
      " 3   case_no                      332462 non-null  float64\n",
      " 4   death_cause                  124 non-null     object \n",
      " 5   death_other                  67 non-null      object \n",
      " 6   delivery_comp1               258864 non-null  object \n",
      " 7   delivery_comp2               258864 non-null  object \n",
      " 8   delivery_comp3               258864 non-null  object \n",
      " 9   delivery_comp4               258864 non-null  object \n",
      " 10  delivery_comp5               0 non-null       float64\n",
      " 11  delivery_complication        5053 non-null    object \n",
      " 12  delivery_conducted_by        332462 non-null  object \n",
      " 13  delivery_date                332462 non-null  object \n",
      " 14  delivery_outcomes            331665 non-null  object \n",
      " 15  delivery_place               310954 non-null  object \n",
      " 16  delivery_type                332462 non-null  object \n",
      " 17  discharge_date               240032 non-null  object \n",
      " 18  registration_no              332462 non-null  float64\n",
      " 19  rural_urban                  332462 non-null  object \n",
      " 20  still_birth                  332462 non-null  float64\n",
      " 21  isactive                     73598 non-null   object \n",
      " 22  other_delivery_complication  636 non-null     object \n",
      " 23  previous_status              332462 non-null  object \n",
      " 24  created_on                   332462 non-null  object \n",
      " 25  live_birth                   332462 non-null  float64\n",
      "dtypes: float64(5), object(21)\n",
      "memory usage: 65.9+ MB\n"
     ]
    }
   ],
   "source": [
    "df_raw.info()"
   ]
  },
  {
   "cell_type": "code",
   "execution_count": 5,
   "id": "meaning-diving",
   "metadata": {},
   "outputs": [],
   "source": [
    "df = df_raw.iloc[:-1, :].copy()"
   ]
  },
  {
   "cell_type": "markdown",
   "id": "seeing-finding",
   "metadata": {},
   "source": [
    "## EDA"
   ]
  },
  {
   "cell_type": "code",
   "execution_count": 6,
   "id": "treated-leadership",
   "metadata": {},
   "outputs": [
    {
     "data": {
      "text/plain": [
       "(332462, 26)"
      ]
     },
     "execution_count": 6,
     "metadata": {},
     "output_type": "execute_result"
    }
   ],
   "source": [
    "df.shape"
   ]
  },
  {
   "cell_type": "markdown",
   "id": "mental-herald",
   "metadata": {},
   "source": [
    "### id"
   ]
  },
  {
   "cell_type": "code",
   "execution_count": 15,
   "id": "reverse-maker",
   "metadata": {},
   "outputs": [
    {
     "data": {
      "text/plain": [
       "array([1623315, 1623316, 1623317, ..., '1955774', '1955775', '1955776'],\n",
       "      dtype=object)"
      ]
     },
     "execution_count": 15,
     "metadata": {},
     "output_type": "execute_result"
    }
   ],
   "source": [
    "df['id'].unique()"
   ]
  },
  {
   "cell_type": "code",
   "execution_count": 7,
   "id": "satisfactory-terrorism",
   "metadata": {},
   "outputs": [
    {
     "data": {
      "text/plain": [
       "332462"
      ]
     },
     "execution_count": 7,
     "metadata": {},
     "output_type": "execute_result"
    }
   ],
   "source": [
    "df['id'].nunique()"
   ]
  },
  {
   "cell_type": "code",
   "execution_count": 9,
   "id": "occupied-routine",
   "metadata": {},
   "outputs": [
    {
     "data": {
      "text/plain": [
       "0"
      ]
     },
     "execution_count": 9,
     "metadata": {},
     "output_type": "execute_result"
    }
   ],
   "source": [
    "df['id'].isna().sum()"
   ]
  },
  {
   "cell_type": "markdown",
   "id": "f9a3d3fc",
   "metadata": {},
   "source": [
    "### state"
   ]
  },
  {
   "cell_type": "code",
   "execution_count": 10,
   "id": "fcab31b4",
   "metadata": {},
   "outputs": [
    {
     "data": {
      "text/plain": [
       "array(['Haryana'], dtype=object)"
      ]
     },
     "execution_count": 10,
     "metadata": {},
     "output_type": "execute_result"
    }
   ],
   "source": [
    "df['state'].unique()"
   ]
  },
  {
   "cell_type": "code",
   "execution_count": null,
   "id": "4d77d9fd",
   "metadata": {},
   "outputs": [],
   "source": []
  }
 ],
 "metadata": {
  "kernelspec": {
   "display_name": "Python 3",
   "language": "python",
   "name": "python3"
  },
  "language_info": {
   "codemirror_mode": {
    "name": "ipython",
    "version": 3
   },
   "file_extension": ".py",
   "mimetype": "text/x-python",
   "name": "python",
   "nbconvert_exporter": "python",
   "pygments_lexer": "ipython3",
   "version": "3.8.8"
  }
 },
 "nbformat": 4,
 "nbformat_minor": 5
}
