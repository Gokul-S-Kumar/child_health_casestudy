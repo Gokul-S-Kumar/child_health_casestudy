{
 "cells": [
  {
   "cell_type": "markdown",
   "metadata": {},
   "source": [
    "## Importing libs"
   ]
  },
  {
   "cell_type": "code",
   "execution_count": 1,
   "metadata": {},
   "outputs": [],
   "source": [
    "import pandas as pd\n",
    "import numpy as np\n",
    "import matplotlib.pyplot as plt\n",
    "import seaborn as sns\n",
    "from src.visualization.visualize import categorical_eda, timeseries_eda\n",
    "sns.set(style = 'whitegrid')\n",
    "%load_ext autoreload\n",
    "%autoreload 2"
   ]
  },
  {
   "cell_type": "markdown",
   "metadata": {},
   "source": [
    "## Loading data"
   ]
  },
  {
   "cell_type": "code",
   "execution_count": 2,
   "metadata": {},
   "outputs": [
    {
     "name": "stderr",
     "output_type": "stream",
     "text": [
      "E:\\Gokul\\Anaconda\\envs\\mldev\\lib\\site-packages\\IPython\\core\\interactiveshell.py:3165: DtypeWarning: Columns (0,8,12,20,31) have mixed types.Specify dtype option on import or set low_memory=False.\n",
      "  has_raised = await self.run_ast_nodes(code_ast.body, cell_name,\n"
     ]
    }
   ],
   "source": [
    "df_raw = pd.read_csv('../data/interim/attr_added/ecregistration.csv')"
   ]
  },
  {
   "cell_type": "code",
   "execution_count": 3,
   "metadata": {},
   "outputs": [
    {
     "data": {
      "text/html": [
       "<div>\n",
       "<style scoped>\n",
       "    .dataframe tbody tr th:only-of-type {\n",
       "        vertical-align: middle;\n",
       "    }\n",
       "\n",
       "    .dataframe tbody tr th {\n",
       "        vertical-align: top;\n",
       "    }\n",
       "\n",
       "    .dataframe thead th {\n",
       "        text-align: right;\n",
       "    }\n",
       "</style>\n",
       "<table border=\"1\" class=\"dataframe\">\n",
       "  <thead>\n",
       "    <tr style=\"text-align: right;\">\n",
       "      <th></th>\n",
       "      <th>id</th>\n",
       "      <th>state</th>\n",
       "      <th>district</th>\n",
       "      <th>poverty_line</th>\n",
       "      <th>case_no</th>\n",
       "      <th>caste</th>\n",
       "      <th>registration_date</th>\n",
       "      <th>mother_deleted</th>\n",
       "      <th>mother_deleted_time</th>\n",
       "      <th>female_child_born</th>\n",
       "      <th>female_child_live</th>\n",
       "      <th>infertility_options</th>\n",
       "      <th>infertility_refer</th>\n",
       "      <th>infertility_status</th>\n",
       "      <th>male_child_born</th>\n",
       "      <th>male_child_live</th>\n",
       "      <th>is_pregnant</th>\n",
       "      <th>pregnancy_test_result</th>\n",
       "      <th>pw_aadhaar_linked</th>\n",
       "      <th>re_reg_status</th>\n",
       "      <th>reason_for_deletion</th>\n",
       "      <th>registration_no</th>\n",
       "      <th>religion</th>\n",
       "      <th>rural_urban</th>\n",
       "      <th>wife_current_age</th>\n",
       "      <th>wife_marry_age</th>\n",
       "      <th>young_child_age_month</th>\n",
       "      <th>young_child_age_year</th>\n",
       "      <th>young_child_gender</th>\n",
       "      <th>hus_current_age</th>\n",
       "      <th>hus_marry_age</th>\n",
       "      <th>isactive</th>\n",
       "      <th>previous_status</th>\n",
       "      <th>created_on</th>\n",
       "    </tr>\n",
       "  </thead>\n",
       "  <tbody>\n",
       "    <tr>\n",
       "      <th>0</th>\n",
       "      <td>1</td>\n",
       "      <td>Haryana</td>\n",
       "      <td>Panchkula</td>\n",
       "      <td>Not known</td>\n",
       "      <td>2.0</td>\n",
       "      <td>SC</td>\n",
       "      <td>2018-04-09 00:00:00</td>\n",
       "      <td>No</td>\n",
       "      <td>NaN</td>\n",
       "      <td>0.0</td>\n",
       "      <td>0.0</td>\n",
       "      <td>Default</td>\n",
       "      <td>NaN</td>\n",
       "      <td>N</td>\n",
       "      <td>0.0</td>\n",
       "      <td>0.0</td>\n",
       "      <td>No</td>\n",
       "      <td>NaN</td>\n",
       "      <td>Not known</td>\n",
       "      <td>ReRegistrationDone</td>\n",
       "      <td>NaN</td>\n",
       "      <td>1.060000e+11</td>\n",
       "      <td>Not known</td>\n",
       "      <td>Rural</td>\n",
       "      <td>25.0</td>\n",
       "      <td>NaN</td>\n",
       "      <td>0.0</td>\n",
       "      <td>0.0</td>\n",
       "      <td>NaN</td>\n",
       "      <td>NaN</td>\n",
       "      <td>NaN</td>\n",
       "      <td>NaN</td>\n",
       "      <td>NaN</td>\n",
       "      <td>2019-05-22 15:26:59</td>\n",
       "    </tr>\n",
       "    <tr>\n",
       "      <th>1</th>\n",
       "      <td>2</td>\n",
       "      <td>Haryana</td>\n",
       "      <td>Panchkula</td>\n",
       "      <td>Not known</td>\n",
       "      <td>2.0</td>\n",
       "      <td>SC</td>\n",
       "      <td>2018-04-02 00:00:00</td>\n",
       "      <td>No</td>\n",
       "      <td>NaN</td>\n",
       "      <td>0.0</td>\n",
       "      <td>0.0</td>\n",
       "      <td>Default</td>\n",
       "      <td>NaN</td>\n",
       "      <td>N</td>\n",
       "      <td>0.0</td>\n",
       "      <td>0.0</td>\n",
       "      <td>No</td>\n",
       "      <td>NaN</td>\n",
       "      <td>Not known</td>\n",
       "      <td>ReRegistrationDone</td>\n",
       "      <td>NaN</td>\n",
       "      <td>1.060000e+11</td>\n",
       "      <td>Not known</td>\n",
       "      <td>Rural</td>\n",
       "      <td>26.0</td>\n",
       "      <td>NaN</td>\n",
       "      <td>0.0</td>\n",
       "      <td>0.0</td>\n",
       "      <td>NaN</td>\n",
       "      <td>NaN</td>\n",
       "      <td>NaN</td>\n",
       "      <td>NaN</td>\n",
       "      <td>NaN</td>\n",
       "      <td>2019-05-22 15:26:59</td>\n",
       "    </tr>\n",
       "    <tr>\n",
       "      <th>2</th>\n",
       "      <td>3</td>\n",
       "      <td>Haryana</td>\n",
       "      <td>Panchkula</td>\n",
       "      <td>Not known</td>\n",
       "      <td>2.0</td>\n",
       "      <td>SC</td>\n",
       "      <td>2018-04-09 00:00:00</td>\n",
       "      <td>No</td>\n",
       "      <td>NaN</td>\n",
       "      <td>0.0</td>\n",
       "      <td>0.0</td>\n",
       "      <td>Default</td>\n",
       "      <td>NaN</td>\n",
       "      <td>N</td>\n",
       "      <td>0.0</td>\n",
       "      <td>0.0</td>\n",
       "      <td>No</td>\n",
       "      <td>NaN</td>\n",
       "      <td>Not known</td>\n",
       "      <td>ReRegistrationDone</td>\n",
       "      <td>NaN</td>\n",
       "      <td>1.060000e+11</td>\n",
       "      <td>Not known</td>\n",
       "      <td>Rural</td>\n",
       "      <td>30.0</td>\n",
       "      <td>NaN</td>\n",
       "      <td>0.0</td>\n",
       "      <td>0.0</td>\n",
       "      <td>NaN</td>\n",
       "      <td>NaN</td>\n",
       "      <td>NaN</td>\n",
       "      <td>NaN</td>\n",
       "      <td>NaN</td>\n",
       "      <td>2019-05-22 15:26:59</td>\n",
       "    </tr>\n",
       "    <tr>\n",
       "      <th>3</th>\n",
       "      <td>4</td>\n",
       "      <td>Haryana</td>\n",
       "      <td>Panchkula</td>\n",
       "      <td>Not known</td>\n",
       "      <td>2.0</td>\n",
       "      <td>Other</td>\n",
       "      <td>2018-04-09 00:00:00</td>\n",
       "      <td>No</td>\n",
       "      <td>NaN</td>\n",
       "      <td>0.0</td>\n",
       "      <td>0.0</td>\n",
       "      <td>Default</td>\n",
       "      <td>NaN</td>\n",
       "      <td>N</td>\n",
       "      <td>0.0</td>\n",
       "      <td>0.0</td>\n",
       "      <td>No</td>\n",
       "      <td>NaN</td>\n",
       "      <td>Not known</td>\n",
       "      <td>ReRegistrationDone</td>\n",
       "      <td>NaN</td>\n",
       "      <td>1.060000e+11</td>\n",
       "      <td>Not known</td>\n",
       "      <td>Rural</td>\n",
       "      <td>28.0</td>\n",
       "      <td>NaN</td>\n",
       "      <td>0.0</td>\n",
       "      <td>0.0</td>\n",
       "      <td>NaN</td>\n",
       "      <td>NaN</td>\n",
       "      <td>NaN</td>\n",
       "      <td>NaN</td>\n",
       "      <td>NaN</td>\n",
       "      <td>2019-05-22 15:26:59</td>\n",
       "    </tr>\n",
       "    <tr>\n",
       "      <th>4</th>\n",
       "      <td>5</td>\n",
       "      <td>Haryana</td>\n",
       "      <td>Panchkula</td>\n",
       "      <td>Not known</td>\n",
       "      <td>2.0</td>\n",
       "      <td>Other</td>\n",
       "      <td>2018-04-09 00:00:00</td>\n",
       "      <td>No</td>\n",
       "      <td>NaN</td>\n",
       "      <td>0.0</td>\n",
       "      <td>0.0</td>\n",
       "      <td>Default</td>\n",
       "      <td>NaN</td>\n",
       "      <td>N</td>\n",
       "      <td>0.0</td>\n",
       "      <td>0.0</td>\n",
       "      <td>No</td>\n",
       "      <td>NaN</td>\n",
       "      <td>Not known</td>\n",
       "      <td>ReRegistrationDone</td>\n",
       "      <td>NaN</td>\n",
       "      <td>1.060000e+11</td>\n",
       "      <td>Not known</td>\n",
       "      <td>Rural</td>\n",
       "      <td>32.0</td>\n",
       "      <td>NaN</td>\n",
       "      <td>0.0</td>\n",
       "      <td>0.0</td>\n",
       "      <td>NaN</td>\n",
       "      <td>NaN</td>\n",
       "      <td>NaN</td>\n",
       "      <td>NaN</td>\n",
       "      <td>NaN</td>\n",
       "      <td>2019-05-22 15:26:59</td>\n",
       "    </tr>\n",
       "  </tbody>\n",
       "</table>\n",
       "</div>"
      ],
      "text/plain": [
       "  id    state   district  ... isactive  previous_status           created_on\n",
       "0  1  Haryana  Panchkula  ...      NaN              NaN  2019-05-22 15:26:59\n",
       "1  2  Haryana  Panchkula  ...      NaN              NaN  2019-05-22 15:26:59\n",
       "2  3  Haryana  Panchkula  ...      NaN              NaN  2019-05-22 15:26:59\n",
       "3  4  Haryana  Panchkula  ...      NaN              NaN  2019-05-22 15:26:59\n",
       "4  5  Haryana  Panchkula  ...      NaN              NaN  2019-05-22 15:26:59\n",
       "\n",
       "[5 rows x 34 columns]"
      ]
     },
     "execution_count": 3,
     "metadata": {},
     "output_type": "execute_result"
    }
   ],
   "source": [
    "df_raw.head()"
   ]
  },
  {
   "cell_type": "code",
   "execution_count": 4,
   "metadata": {},
   "outputs": [
    {
     "name": "stdout",
     "output_type": "stream",
     "text": [
      "<class 'pandas.core.frame.DataFrame'>\n",
      "RangeIndex: 1741979 entries, 0 to 1741978\n",
      "Data columns (total 34 columns):\n",
      " #   Column                 Dtype  \n",
      "---  ------                 -----  \n",
      " 0   id                     object \n",
      " 1   state                  object \n",
      " 2   district               object \n",
      " 3   poverty_line           object \n",
      " 4   case_no                float64\n",
      " 5   caste                  object \n",
      " 6   registration_date      object \n",
      " 7   mother_deleted         object \n",
      " 8   mother_deleted_time    object \n",
      " 9   female_child_born      float64\n",
      " 10  female_child_live      float64\n",
      " 11  infertility_options    object \n",
      " 12  infertility_refer      object \n",
      " 13  infertility_status     object \n",
      " 14  male_child_born        float64\n",
      " 15  male_child_live        float64\n",
      " 16  is_pregnant            object \n",
      " 17  pregnancy_test_result  object \n",
      " 18  pw_aadhaar_linked      object \n",
      " 19  re_reg_status          object \n",
      " 20  reason_for_deletion    object \n",
      " 21  registration_no        float64\n",
      " 22  religion               object \n",
      " 23  rural_urban            object \n",
      " 24  wife_current_age       float64\n",
      " 25  wife_marry_age         float64\n",
      " 26  young_child_age_month  float64\n",
      " 27  young_child_age_year   float64\n",
      " 28  young_child_gender     object \n",
      " 29  hus_current_age        float64\n",
      " 30  hus_marry_age          float64\n",
      " 31  isactive               object \n",
      " 32  previous_status        float64\n",
      " 33  created_on             object \n",
      "dtypes: float64(13), object(21)\n",
      "memory usage: 451.9+ MB\n"
     ]
    }
   ],
   "source": [
    "df_raw.info()"
   ]
  },
  {
   "cell_type": "code",
   "execution_count": 5,
   "metadata": {},
   "outputs": [
    {
     "data": {
      "text/html": [
       "<div>\n",
       "<style scoped>\n",
       "    .dataframe tbody tr th:only-of-type {\n",
       "        vertical-align: middle;\n",
       "    }\n",
       "\n",
       "    .dataframe tbody tr th {\n",
       "        vertical-align: top;\n",
       "    }\n",
       "\n",
       "    .dataframe thead th {\n",
       "        text-align: right;\n",
       "    }\n",
       "</style>\n",
       "<table border=\"1\" class=\"dataframe\">\n",
       "  <thead>\n",
       "    <tr style=\"text-align: right;\">\n",
       "      <th></th>\n",
       "      <th>id</th>\n",
       "      <th>state</th>\n",
       "      <th>district</th>\n",
       "      <th>poverty_line</th>\n",
       "      <th>case_no</th>\n",
       "      <th>caste</th>\n",
       "      <th>registration_date</th>\n",
       "      <th>mother_deleted</th>\n",
       "      <th>mother_deleted_time</th>\n",
       "      <th>female_child_born</th>\n",
       "      <th>female_child_live</th>\n",
       "      <th>infertility_options</th>\n",
       "      <th>infertility_refer</th>\n",
       "      <th>infertility_status</th>\n",
       "      <th>male_child_born</th>\n",
       "      <th>male_child_live</th>\n",
       "      <th>is_pregnant</th>\n",
       "      <th>pregnancy_test_result</th>\n",
       "      <th>pw_aadhaar_linked</th>\n",
       "      <th>re_reg_status</th>\n",
       "      <th>reason_for_deletion</th>\n",
       "      <th>registration_no</th>\n",
       "      <th>religion</th>\n",
       "      <th>rural_urban</th>\n",
       "      <th>wife_current_age</th>\n",
       "      <th>wife_marry_age</th>\n",
       "      <th>young_child_age_month</th>\n",
       "      <th>young_child_age_year</th>\n",
       "      <th>young_child_gender</th>\n",
       "      <th>hus_current_age</th>\n",
       "      <th>hus_marry_age</th>\n",
       "      <th>isactive</th>\n",
       "      <th>previous_status</th>\n",
       "      <th>created_on</th>\n",
       "    </tr>\n",
       "  </thead>\n",
       "  <tbody>\n",
       "    <tr>\n",
       "      <th>1741974</th>\n",
       "      <td>1741975</td>\n",
       "      <td>Haryana</td>\n",
       "      <td>Panchkula</td>\n",
       "      <td>APL</td>\n",
       "      <td>2.0</td>\n",
       "      <td>Other</td>\n",
       "      <td>2019-12-12 00:00:00</td>\n",
       "      <td>No</td>\n",
       "      <td>NaN</td>\n",
       "      <td>0.0</td>\n",
       "      <td>0.0</td>\n",
       "      <td>Default</td>\n",
       "      <td>NaN</td>\n",
       "      <td>N</td>\n",
       "      <td>0.0</td>\n",
       "      <td>0.0</td>\n",
       "      <td>Yes</td>\n",
       "      <td>Test Not Done</td>\n",
       "      <td>No</td>\n",
       "      <td>ReRegistrationDone</td>\n",
       "      <td>NaN</td>\n",
       "      <td>1.060041e+11</td>\n",
       "      <td>Hindu</td>\n",
       "      <td>Rural</td>\n",
       "      <td>20.0</td>\n",
       "      <td>18.0</td>\n",
       "      <td>0.0</td>\n",
       "      <td>0.0</td>\n",
       "      <td>0</td>\n",
       "      <td>NaN</td>\n",
       "      <td>NaN</td>\n",
       "      <td>NaN</td>\n",
       "      <td>NaN</td>\n",
       "      <td>2020-05-30 11:41:59</td>\n",
       "    </tr>\n",
       "    <tr>\n",
       "      <th>1741975</th>\n",
       "      <td>1741976</td>\n",
       "      <td>Haryana</td>\n",
       "      <td>Kaithal</td>\n",
       "      <td>APL</td>\n",
       "      <td>1.0</td>\n",
       "      <td>Other</td>\n",
       "      <td>2019-08-16 00:00:00</td>\n",
       "      <td>No</td>\n",
       "      <td>NaN</td>\n",
       "      <td>0.0</td>\n",
       "      <td>0.0</td>\n",
       "      <td>Default</td>\n",
       "      <td>NaN</td>\n",
       "      <td>N</td>\n",
       "      <td>0.0</td>\n",
       "      <td>0.0</td>\n",
       "      <td>Yes</td>\n",
       "      <td>Positive</td>\n",
       "      <td>No</td>\n",
       "      <td>Eligible</td>\n",
       "      <td>NaN</td>\n",
       "      <td>1.060044e+11</td>\n",
       "      <td>Hindu</td>\n",
       "      <td>Rural</td>\n",
       "      <td>21.0</td>\n",
       "      <td>NaN</td>\n",
       "      <td>0.0</td>\n",
       "      <td>0.0</td>\n",
       "      <td>NaN</td>\n",
       "      <td>NaN</td>\n",
       "      <td>NaN</td>\n",
       "      <td>NaN</td>\n",
       "      <td>NaN</td>\n",
       "      <td>2020-03-13 13:46:00</td>\n",
       "    </tr>\n",
       "    <tr>\n",
       "      <th>1741976</th>\n",
       "      <td>1741977</td>\n",
       "      <td>Haryana</td>\n",
       "      <td>Kaithal</td>\n",
       "      <td>APL</td>\n",
       "      <td>1.0</td>\n",
       "      <td>Other</td>\n",
       "      <td>2019-05-15 00:00:00</td>\n",
       "      <td>No</td>\n",
       "      <td>NaN</td>\n",
       "      <td>0.0</td>\n",
       "      <td>0.0</td>\n",
       "      <td>Default</td>\n",
       "      <td>NaN</td>\n",
       "      <td>N</td>\n",
       "      <td>0.0</td>\n",
       "      <td>0.0</td>\n",
       "      <td>Yes</td>\n",
       "      <td>Positive</td>\n",
       "      <td>No</td>\n",
       "      <td>ReRegistrationDone</td>\n",
       "      <td>NaN</td>\n",
       "      <td>1.060044e+11</td>\n",
       "      <td>Hindu</td>\n",
       "      <td>Rural</td>\n",
       "      <td>21.0</td>\n",
       "      <td>21.0</td>\n",
       "      <td>0.0</td>\n",
       "      <td>0.0</td>\n",
       "      <td>NaN</td>\n",
       "      <td>NaN</td>\n",
       "      <td>NaN</td>\n",
       "      <td>NaN</td>\n",
       "      <td>NaN</td>\n",
       "      <td>2020-03-17 12:01:00</td>\n",
       "    </tr>\n",
       "    <tr>\n",
       "      <th>1741977</th>\n",
       "      <td>1741978</td>\n",
       "      <td>Haryana</td>\n",
       "      <td>Karnal</td>\n",
       "      <td>APL</td>\n",
       "      <td>2.0</td>\n",
       "      <td>Other</td>\n",
       "      <td>2019-08-07 00:00:00</td>\n",
       "      <td>No</td>\n",
       "      <td>NaN</td>\n",
       "      <td>1.0</td>\n",
       "      <td>1.0</td>\n",
       "      <td>Default</td>\n",
       "      <td>NaN</td>\n",
       "      <td>N</td>\n",
       "      <td>0.0</td>\n",
       "      <td>0.0</td>\n",
       "      <td>Yes</td>\n",
       "      <td>Positive</td>\n",
       "      <td>No</td>\n",
       "      <td>ReRegistrationDone</td>\n",
       "      <td>NaN</td>\n",
       "      <td>1.060038e+11</td>\n",
       "      <td>Sikh</td>\n",
       "      <td>Rural</td>\n",
       "      <td>36.0</td>\n",
       "      <td>21.0</td>\n",
       "      <td>0.0</td>\n",
       "      <td>6.0</td>\n",
       "      <td>F</td>\n",
       "      <td>NaN</td>\n",
       "      <td>NaN</td>\n",
       "      <td>NaN</td>\n",
       "      <td>NaN</td>\n",
       "      <td>2020-05-26 13:49:13</td>\n",
       "    </tr>\n",
       "    <tr>\n",
       "      <th>1741978</th>\n",
       "      <td>\\.</td>\n",
       "      <td>NaN</td>\n",
       "      <td>NaN</td>\n",
       "      <td>NaN</td>\n",
       "      <td>NaN</td>\n",
       "      <td>NaN</td>\n",
       "      <td>NaN</td>\n",
       "      <td>NaN</td>\n",
       "      <td>NaN</td>\n",
       "      <td>NaN</td>\n",
       "      <td>NaN</td>\n",
       "      <td>NaN</td>\n",
       "      <td>NaN</td>\n",
       "      <td>NaN</td>\n",
       "      <td>NaN</td>\n",
       "      <td>NaN</td>\n",
       "      <td>NaN</td>\n",
       "      <td>NaN</td>\n",
       "      <td>NaN</td>\n",
       "      <td>NaN</td>\n",
       "      <td>NaN</td>\n",
       "      <td>NaN</td>\n",
       "      <td>NaN</td>\n",
       "      <td>NaN</td>\n",
       "      <td>NaN</td>\n",
       "      <td>NaN</td>\n",
       "      <td>NaN</td>\n",
       "      <td>NaN</td>\n",
       "      <td>NaN</td>\n",
       "      <td>NaN</td>\n",
       "      <td>NaN</td>\n",
       "      <td>NaN</td>\n",
       "      <td>NaN</td>\n",
       "      <td>NaN</td>\n",
       "    </tr>\n",
       "  </tbody>\n",
       "</table>\n",
       "</div>"
      ],
      "text/plain": [
       "              id    state  ... previous_status           created_on\n",
       "1741974  1741975  Haryana  ...             NaN  2020-05-30 11:41:59\n",
       "1741975  1741976  Haryana  ...             NaN  2020-03-13 13:46:00\n",
       "1741976  1741977  Haryana  ...             NaN  2020-03-17 12:01:00\n",
       "1741977  1741978  Haryana  ...             NaN  2020-05-26 13:49:13\n",
       "1741978       \\.      NaN  ...             NaN                  NaN\n",
       "\n",
       "[5 rows x 34 columns]"
      ]
     },
     "execution_count": 5,
     "metadata": {},
     "output_type": "execute_result"
    }
   ],
   "source": [
    "df_raw.tail()"
   ]
  },
  {
   "cell_type": "code",
   "execution_count": 6,
   "metadata": {},
   "outputs": [],
   "source": [
    "df = df_raw.iloc[:-1, :].copy()"
   ]
  },
  {
   "cell_type": "markdown",
   "metadata": {},
   "source": [
    "## EDA"
   ]
  },
  {
   "cell_type": "markdown",
   "metadata": {},
   "source": [
    "### id"
   ]
  },
  {
   "cell_type": "code",
   "execution_count": 7,
   "metadata": {},
   "outputs": [
    {
     "data": {
      "text/plain": [
       "1741978"
      ]
     },
     "execution_count": 7,
     "metadata": {},
     "output_type": "execute_result"
    }
   ],
   "source": [
    "df['id'].nunique()"
   ]
  },
  {
   "cell_type": "markdown",
   "metadata": {},
   "source": [
    "### state"
   ]
  },
  {
   "cell_type": "code",
   "execution_count": 8,
   "metadata": {},
   "outputs": [
    {
     "name": "stdout",
     "output_type": "stream",
     "text": [
      "Unique values: ['Haryana']\n",
      "No. of unique values: 1\n",
      "Missing values count: 0 / 1741978\n",
      "Missing values %: 0.0\n",
      "Value counts: \n",
      "Haryana    100.0\n",
      "Name: state, dtype: float64\n"
     ]
    },
    {
     "data": {
      "image/png": "[encoded data removed]",
      "text/plain": [
       "<Figure size 720x360 with 1 Axes>"
      ]
     },
     "metadata": {},
     "output_type": "display_data"
    }
   ],
   "source": [
    "categorical_eda(df, 'state', (10, 5))"
   ]
  },
  {
   "cell_type": "markdown",
   "metadata": {},
   "source": [
    "### district"
   ]
  },
  {
   "cell_type": "code",
   "execution_count": 11,
   "metadata": {},
   "outputs": [
    {
     "name": "stdout",
     "output_type": "stream",
     "text": [
      "Unique values: ['Panchkula' 'Mewat' 'Palwal' 'Yamunanagar' 'Ambala' 'Mahendragarh'\n",
      " 'Karnal' 'Gurgaon' 'Hisar' 'Jind' 'Sirsa' 'Kaithal']\n",
      "No. of unique values: 12\n",
      "Missing values count: 0 / 1741978\n",
      "Missing values %: 0.0\n",
      "Value counts: \n",
      "Karnal          14.037261\n",
      "Jind            13.521239\n",
      "Hisar           13.231510\n",
      "Yamunanagar     11.369317\n",
      "Kaithal          9.811720\n",
      "Sirsa            8.207853\n",
      "Ambala           8.207164\n",
      "Mewat            7.327417\n",
      "Gurgaon          3.992358\n",
      "Mahendragarh     3.555613\n",
      "Panchkula        3.436266\n",
      "Palwal           3.302281\n",
      "Name: district, dtype: float64\n"
     ]
    },
    {
     "data": {
      "image/png": "[encoded data removed]",
      "text/plain": [
       "<Figure size 1080x360 with 1 Axes>"
      ]
     },
     "metadata": {},
     "output_type": "display_data"
    }
   ],
   "source": [
    "categorical_eda(df, 'district', (15, 5))"
   ]
  },
  {
   "cell_type": "markdown",
   "metadata": {},
   "source": [
    "### poverty_line"
   ]
  },
  {
   "cell_type": "code",
   "execution_count": 15,
   "metadata": {},
   "outputs": [
    {
     "name": "stdout",
     "output_type": "stream",
     "text": [
      "Unique values: ['Not known' 'APL' 'BPL']\n",
      "No. of unique values: 3\n",
      "Missing values count: 0 / 1741978\n",
      "Missing values %: 0.0\n",
      "Value counts: \n",
      "APL          48.818010\n",
      "Not known    37.124235\n",
      "BPL          14.057755\n",
      "Name: poverty_line, dtype: float64\n"
     ]
    },
    {
     "data": {
      "image/png": "[encoded data removed]",
      "text/plain": [
       "<Figure size 216x360 with 1 Axes>"
      ]
     },
     "metadata": {},
     "output_type": "display_data"
    }
   ],
   "source": [
    "categorical_eda(df, 'poverty_line', (3, 5))"
   ]
  },
  {
   "cell_type": "code",
   "execution_count": 16,
   "metadata": {},
   "outputs": [
    {
     "name": "stdout",
     "output_type": "stream",
     "text": [
      "<class 'pandas.core.frame.DataFrame'>\n",
      "RangeIndex: 1741978 entries, 0 to 1741977\n",
      "Data columns (total 34 columns):\n",
      " #   Column                 Dtype  \n",
      "---  ------                 -----  \n",
      " 0   id                     object \n",
      " 1   state                  object \n",
      " 2   district               object \n",
      " 3   poverty_line           object \n",
      " 4   case_no                float64\n",
      " 5   caste                  object \n",
      " 6   registration_date      object \n",
      " 7   mother_deleted         object \n",
      " 8   mother_deleted_time    object \n",
      " 9   female_child_born      float64\n",
      " 10  female_child_live      float64\n",
      " 11  infertility_options    object \n",
      " 12  infertility_refer      object \n",
      " 13  infertility_status     object \n",
      " 14  male_child_born        float64\n",
      " 15  male_child_live        float64\n",
      " 16  is_pregnant            object \n",
      " 17  pregnancy_test_result  object \n",
      " 18  pw_aadhaar_linked      object \n",
      " 19  re_reg_status          object \n",
      " 20  reason_for_deletion    object \n",
      " 21  registration_no        float64\n",
      " 22  religion               object \n",
      " 23  rural_urban            object \n",
      " 24  wife_current_age       float64\n",
      " 25  wife_marry_age         float64\n",
      " 26  young_child_age_month  float64\n",
      " 27  young_child_age_year   float64\n",
      " 28  young_child_gender     object \n",
      " 29  hus_current_age        float64\n",
      " 30  hus_marry_age          float64\n",
      " 31  isactive               object \n",
      " 32  previous_status        float64\n",
      " 33  created_on             object \n",
      "dtypes: float64(13), object(21)\n",
      "memory usage: 451.9+ MB\n"
     ]
    }
   ],
   "source": [
    "df.info()"
   ]
  },
  {
   "cell_type": "markdown",
   "metadata": {},
   "source": [
    "### case_no"
   ]
  },
  {
   "cell_type": "code",
   "execution_count": 18,
   "metadata": {},
   "outputs": [
    {
     "name": "stdout",
     "output_type": "stream",
     "text": [
      "Unique values: [2. 1. 3. 4. 5.]\n",
      "No. of unique values: 5\n",
      "Missing values count: 0 / 1741978\n",
      "Missing values %: 0.0\n",
      "Value counts: \n",
      "1.0    56.353008\n",
      "2.0    43.059786\n",
      "3.0     0.563842\n",
      "4.0     0.022044\n",
      "5.0     0.001320\n",
      "Name: case_no, dtype: float64\n"
     ]
    },
    {
     "data": {
      "image/png": "[encoded data removed]",
      "text/plain": [
       "<Figure size 360x360 with 1 Axes>"
      ]
     },
     "metadata": {},
     "output_type": "display_data"
    }
   ],
   "source": [
    "categorical_eda(df, 'case_no', (5, 5))"
   ]
  },
  {
   "cell_type": "markdown",
   "metadata": {},
   "source": [
    "### caste"
   ]
  },
  {
   "cell_type": "code",
   "execution_count": 20,
   "metadata": {},
   "outputs": [
    {
     "name": "stdout",
     "output_type": "stream",
     "text": [
      "Unique values: ['SC' 'Other' 'Not known' 'ST']\n",
      "No. of unique values: 4\n",
      "Missing values count: 0 / 1741978\n",
      "Missing values %: 0.0\n",
      "Value counts: \n",
      "Other        71.465311\n",
      "SC           23.809658\n",
      "Not known     4.342822\n",
      "ST            0.382209\n",
      "Name: caste, dtype: float64\n"
     ]
    },
    {
     "data": {
      "image/png": "[encoded data removed]",
      "text/plain": [
       "<Figure size 288x360 with 1 Axes>"
      ]
     },
     "metadata": {},
     "output_type": "display_data"
    }
   ],
   "source": [
    "categorical_eda(df, 'caste', (4, 5))"
   ]
  },
  {
   "cell_type": "markdown",
   "metadata": {},
   "source": [
    "### registration_date"
   ]
  },
  {
   "cell_type": "code",
   "execution_count": 25,
   "metadata": {},
   "outputs": [
    {
     "name": "stdout",
     "output_type": "stream",
     "text": [
      "Unique values: ['2018-04-09 00:00:00' '2018-04-02 00:00:00' '2018-04-04 00:00:00' ...\n",
      " '2020-06-10 00:00:00' '2020-06-24 00:00:00' '2020-05-27 00:00:00']\n",
      "No. of unique values: 1155\n",
      "Missing values count: 0 / 1741978\n",
      "Missing values %: 0.0\n",
      "Value counts: \n",
      "2018-04-01 00:00:00    4.692310\n",
      "2019-03-01 00:00:00    3.531847\n",
      "2017-04-01 00:00:00    3.522892\n",
      "2018-04-04 00:00:00    3.355209\n",
      "2019-04-01 00:00:00    3.117261\n",
      "                         ...   \n",
      "2020-05-17 00:00:00    0.000057\n",
      "2020-05-28 00:00:00    0.000057\n",
      "2020-05-24 00:00:00    0.000057\n",
      "2020-11-15 00:00:00    0.000057\n",
      "2020-06-24 00:00:00    0.000057\n",
      "Name: registration_date, Length: 1155, dtype: float64\n",
      "Description: \n",
      "count        40.00000\n",
      "mean      43549.45000\n",
      "std       70193.32739\n",
      "min           1.00000\n",
      "25%       10704.75000\n",
      "50%       17025.50000\n",
      "75%       39217.25000\n",
      "max      363339.00000\n",
      "Name: id, dtype: float64\n"
     ]
    },
    {
     "data": {
      "image/png": "[encoded data removed]",
      "text/plain": [
       "<Figure size 1080x360 with 1 Axes>"
      ]
     },
     "metadata": {},
     "output_type": "display_data"
    }
   ],
   "source": [
    "timeseries_eda(df, 'registration_date', (15, 5))"
   ]
  },
  {
   "cell_type": "markdown",
   "metadata": {},
   "source": [
    "### mother_deleted"
   ]
  },
  {
   "cell_type": "code",
   "execution_count": 26,
   "metadata": {},
   "outputs": [
    {
     "data": {
      "text/plain": [
       "2"
      ]
     },
     "execution_count": 26,
     "metadata": {},
     "output_type": "execute_result"
    }
   ],
   "source": [
    "df['mother_deleted'].nunique()"
   ]
  },
  {
   "cell_type": "code",
   "execution_count": 30,
   "metadata": {},
   "outputs": [
    {
     "name": "stdout",
     "output_type": "stream",
     "text": [
      "Unique values: ['No' 'Yes']\n",
      "No. of unique values: 2\n",
      "Missing values count: 0 / 1741978\n",
      "Missing values %: 0.0\n",
      "Value counts: \n",
      "No     99.92032\n",
      "Yes     0.07968\n",
      "Name: mother_deleted, dtype: float64\n"
     ]
    },
    {
     "data": {
      "image/png": "[encoded data removed]",
      "text/plain": [
       "<Figure size 720x360 with 1 Axes>"
      ]
     },
     "metadata": {},
     "output_type": "display_data"
    }
   ],
   "source": [
    "categorical_eda(df, 'mother_deleted', (10, 5))"
   ]
  },
  {
   "cell_type": "code",
   "execution_count": null,
   "metadata": {},
   "outputs": [],
   "source": []
  }
 ],
 "metadata": {
  "interpreter": {
   "hash": "61f292929c70be9f47fe75d2ecc2313898416d309dcb2c8bc8f4dc81e69dae7f"
  },
  "kernelspec": {
   "display_name": "Python 3.8.8 64-bit ('mldev': conda)",
   "language": "python",
   "name": "python3"
  },
  "language_info": {
   "codemirror_mode": {
    "name": "ipython",
    "version": 3
   },
   "file_extension": ".py",
   "mimetype": "text/x-python",
   "name": "python",
   "nbconvert_exporter": "python",
   "pygments_lexer": "ipython3",
   "version": "3.8.8"
  },
  "orig_nbformat": 4
 },
 "nbformat": 4,
 "nbformat_minor": 2
}
