{
 "cells": [
  {
   "cell_type": "markdown",
   "metadata": {},
   "source": [
    "## Importing libs"
   ]
  },
  {
   "cell_type": "code",
   "execution_count": 1,
   "metadata": {},
   "outputs": [],
   "source": [
    "import pandas as pd\n",
    "import numpy as np\n",
    "import matplotlib.pyplot as plt\n",
    "import seaborn as sns\n",
    "from src.visualization.visualize import categorical_eda, timeseries_eda\n",
    "sns.set(style = 'whitegrid')\n",
    "%load_ext autoreload\n",
    "%autoreload 2"
   ]
  },
  {
   "cell_type": "markdown",
   "metadata": {},
   "source": [
    "## Loading data"
   ]
  },
  {
   "cell_type": "code",
   "execution_count": 2,
   "metadata": {},
   "outputs": [
    {
     "name": "stderr",
     "output_type": "stream",
     "text": [
      "E:\\Gokul\\Anaconda\\envs\\mldev\\lib\\site-packages\\IPython\\core\\interactiveshell.py:3165: DtypeWarning: Columns (0,8,12,20,31) have mixed types.Specify dtype option on import or set low_memory=False.\n",
      "  has_raised = await self.run_ast_nodes(code_ast.body, cell_name,\n"
     ]
    }
   ],
   "source": [
    "df_raw = pd.read_csv('../data/interim/attr_added/ecregistration.csv')"
   ]
  },
  {
   "cell_type": "code",
   "execution_count": 3,
   "metadata": {},
   "outputs": [
    {
     "data": {
      "text/html": [
       "<div>\n",
       "<style scoped>\n",
       "    .dataframe tbody tr th:only-of-type {\n",
       "        vertical-align: middle;\n",
       "    }\n",
       "\n",
       "    .dataframe tbody tr th {\n",
       "        vertical-align: top;\n",
       "    }\n",
       "\n",
       "    .dataframe thead th {\n",
       "        text-align: right;\n",
       "    }\n",
       "</style>\n",
       "<table border=\"1\" class=\"dataframe\">\n",
       "  <thead>\n",
       "    <tr style=\"text-align: right;\">\n",
       "      <th></th>\n",
       "      <th>id</th>\n",
       "      <th>state</th>\n",
       "      <th>district</th>\n",
       "      <th>poverty_line</th>\n",
       "      <th>case_no</th>\n",
       "      <th>caste</th>\n",
       "      <th>registration_date</th>\n",
       "      <th>mother_deleted</th>\n",
       "      <th>mother_deleted_time</th>\n",
       "      <th>female_child_born</th>\n",
       "      <th>...</th>\n",
       "      <th>wife_current_age</th>\n",
       "      <th>wife_marry_age</th>\n",
       "      <th>young_child_age_month</th>\n",
       "      <th>young_child_age_year</th>\n",
       "      <th>young_child_gender</th>\n",
       "      <th>hus_current_age</th>\n",
       "      <th>hus_marry_age</th>\n",
       "      <th>isactive</th>\n",
       "      <th>previous_status</th>\n",
       "      <th>created_on</th>\n",
       "    </tr>\n",
       "  </thead>\n",
       "  <tbody>\n",
       "    <tr>\n",
       "      <th>0</th>\n",
       "      <td>1</td>\n",
       "      <td>Haryana</td>\n",
       "      <td>Panchkula</td>\n",
       "      <td>Not known</td>\n",
       "      <td>2.0</td>\n",
       "      <td>SC</td>\n",
       "      <td>2018-04-09 00:00:00</td>\n",
       "      <td>No</td>\n",
       "      <td>NaN</td>\n",
       "      <td>0.0</td>\n",
       "      <td>...</td>\n",
       "      <td>25.0</td>\n",
       "      <td>NaN</td>\n",
       "      <td>0.0</td>\n",
       "      <td>0.0</td>\n",
       "      <td>NaN</td>\n",
       "      <td>NaN</td>\n",
       "      <td>NaN</td>\n",
       "      <td>NaN</td>\n",
       "      <td>NaN</td>\n",
       "      <td>2019-05-22 15:26:59</td>\n",
       "    </tr>\n",
       "    <tr>\n",
       "      <th>1</th>\n",
       "      <td>2</td>\n",
       "      <td>Haryana</td>\n",
       "      <td>Panchkula</td>\n",
       "      <td>Not known</td>\n",
       "      <td>2.0</td>\n",
       "      <td>SC</td>\n",
       "      <td>2018-04-02 00:00:00</td>\n",
       "      <td>No</td>\n",
       "      <td>NaN</td>\n",
       "      <td>0.0</td>\n",
       "      <td>...</td>\n",
       "      <td>26.0</td>\n",
       "      <td>NaN</td>\n",
       "      <td>0.0</td>\n",
       "      <td>0.0</td>\n",
       "      <td>NaN</td>\n",
       "      <td>NaN</td>\n",
       "      <td>NaN</td>\n",
       "      <td>NaN</td>\n",
       "      <td>NaN</td>\n",
       "      <td>2019-05-22 15:26:59</td>\n",
       "    </tr>\n",
       "    <tr>\n",
       "      <th>2</th>\n",
       "      <td>3</td>\n",
       "      <td>Haryana</td>\n",
       "      <td>Panchkula</td>\n",
       "      <td>Not known</td>\n",
       "      <td>2.0</td>\n",
       "      <td>SC</td>\n",
       "      <td>2018-04-09 00:00:00</td>\n",
       "      <td>No</td>\n",
       "      <td>NaN</td>\n",
       "      <td>0.0</td>\n",
       "      <td>...</td>\n",
       "      <td>30.0</td>\n",
       "      <td>NaN</td>\n",
       "      <td>0.0</td>\n",
       "      <td>0.0</td>\n",
       "      <td>NaN</td>\n",
       "      <td>NaN</td>\n",
       "      <td>NaN</td>\n",
       "      <td>NaN</td>\n",
       "      <td>NaN</td>\n",
       "      <td>2019-05-22 15:26:59</td>\n",
       "    </tr>\n",
       "    <tr>\n",
       "      <th>3</th>\n",
       "      <td>4</td>\n",
       "      <td>Haryana</td>\n",
       "      <td>Panchkula</td>\n",
       "      <td>Not known</td>\n",
       "      <td>2.0</td>\n",
       "      <td>Other</td>\n",
       "      <td>2018-04-09 00:00:00</td>\n",
       "      <td>No</td>\n",
       "      <td>NaN</td>\n",
       "      <td>0.0</td>\n",
       "      <td>...</td>\n",
       "      <td>28.0</td>\n",
       "      <td>NaN</td>\n",
       "      <td>0.0</td>\n",
       "      <td>0.0</td>\n",
       "      <td>NaN</td>\n",
       "      <td>NaN</td>\n",
       "      <td>NaN</td>\n",
       "      <td>NaN</td>\n",
       "      <td>NaN</td>\n",
       "      <td>2019-05-22 15:26:59</td>\n",
       "    </tr>\n",
       "    <tr>\n",
       "      <th>4</th>\n",
       "      <td>5</td>\n",
       "      <td>Haryana</td>\n",
       "      <td>Panchkula</td>\n",
       "      <td>Not known</td>\n",
       "      <td>2.0</td>\n",
       "      <td>Other</td>\n",
       "      <td>2018-04-09 00:00:00</td>\n",
       "      <td>No</td>\n",
       "      <td>NaN</td>\n",
       "      <td>0.0</td>\n",
       "      <td>...</td>\n",
       "      <td>32.0</td>\n",
       "      <td>NaN</td>\n",
       "      <td>0.0</td>\n",
       "      <td>0.0</td>\n",
       "      <td>NaN</td>\n",
       "      <td>NaN</td>\n",
       "      <td>NaN</td>\n",
       "      <td>NaN</td>\n",
       "      <td>NaN</td>\n",
       "      <td>2019-05-22 15:26:59</td>\n",
       "    </tr>\n",
       "  </tbody>\n",
       "</table>\n",
       "<p>5 rows × 34 columns</p>\n",
       "</div>"
      ],
      "text/plain": [
       "  id    state   district poverty_line  case_no  caste    registration_date  \\\n",
       "0  1  Haryana  Panchkula    Not known      2.0     SC  2018-04-09 00:00:00   \n",
       "1  2  Haryana  Panchkula    Not known      2.0     SC  2018-04-02 00:00:00   \n",
       "2  3  Haryana  Panchkula    Not known      2.0     SC  2018-04-09 00:00:00   \n",
       "3  4  Haryana  Panchkula    Not known      2.0  Other  2018-04-09 00:00:00   \n",
       "4  5  Haryana  Panchkula    Not known      2.0  Other  2018-04-09 00:00:00   \n",
       "\n",
       "  mother_deleted mother_deleted_time  female_child_born  ...  \\\n",
       "0             No                 NaN                0.0  ...   \n",
       "1             No                 NaN                0.0  ...   \n",
       "2             No                 NaN                0.0  ...   \n",
       "3             No                 NaN                0.0  ...   \n",
       "4             No                 NaN                0.0  ...   \n",
       "\n",
       "   wife_current_age wife_marry_age young_child_age_month young_child_age_year  \\\n",
       "0              25.0            NaN                   0.0                  0.0   \n",
       "1              26.0            NaN                   0.0                  0.0   \n",
       "2              30.0            NaN                   0.0                  0.0   \n",
       "3              28.0            NaN                   0.0                  0.0   \n",
       "4              32.0            NaN                   0.0                  0.0   \n",
       "\n",
       "   young_child_gender  hus_current_age hus_marry_age isactive previous_status  \\\n",
       "0                 NaN              NaN           NaN      NaN             NaN   \n",
       "1                 NaN              NaN           NaN      NaN             NaN   \n",
       "2                 NaN              NaN           NaN      NaN             NaN   \n",
       "3                 NaN              NaN           NaN      NaN             NaN   \n",
       "4                 NaN              NaN           NaN      NaN             NaN   \n",
       "\n",
       "            created_on  \n",
       "0  2019-05-22 15:26:59  \n",
       "1  2019-05-22 15:26:59  \n",
       "2  2019-05-22 15:26:59  \n",
       "3  2019-05-22 15:26:59  \n",
       "4  2019-05-22 15:26:59  \n",
       "\n",
       "[5 rows x 34 columns]"
      ]
     },
     "execution_count": 3,
     "metadata": {},
     "output_type": "execute_result"
    }
   ],
   "source": [
    "df_raw.head()"
   ]
  },
  {
   "cell_type": "code",
   "execution_count": 4,
   "metadata": {},
   "outputs": [
    {
     "name": "stdout",
     "output_type": "stream",
     "text": [
      "<class 'pandas.core.frame.DataFrame'>\n",
      "RangeIndex: 1741979 entries, 0 to 1741978\n",
      "Data columns (total 34 columns):\n",
      " #   Column                 Dtype  \n",
      "---  ------                 -----  \n",
      " 0   id                     object \n",
      " 1   state                  object \n",
      " 2   district               object \n",
      " 3   poverty_line           object \n",
      " 4   case_no                float64\n",
      " 5   caste                  object \n",
      " 6   registration_date      object \n",
      " 7   mother_deleted         object \n",
      " 8   mother_deleted_time    object \n",
      " 9   female_child_born      float64\n",
      " 10  female_child_live      float64\n",
      " 11  infertility_options    object \n",
      " 12  infertility_refer      object \n",
      " 13  infertility_status     object \n",
      " 14  male_child_born        float64\n",
      " 15  male_child_live        float64\n",
      " 16  is_pregnant            object \n",
      " 17  pregnancy_test_result  object \n",
      " 18  pw_aadhaar_linked      object \n",
      " 19  re_reg_status          object \n",
      " 20  reason_for_deletion    object \n",
      " 21  registration_no        float64\n",
      " 22  religion               object \n",
      " 23  rural_urban            object \n",
      " 24  wife_current_age       float64\n",
      " 25  wife_marry_age         float64\n",
      " 26  young_child_age_month  float64\n",
      " 27  young_child_age_year   float64\n",
      " 28  young_child_gender     object \n",
      " 29  hus_current_age        float64\n",
      " 30  hus_marry_age          float64\n",
      " 31  isactive               object \n",
      " 32  previous_status        float64\n",
      " 33  created_on             object \n",
      "dtypes: float64(13), object(21)\n",
      "memory usage: 451.9+ MB\n"
     ]
    }
   ],
   "source": [
    "df_raw.info()"
   ]
  },
  {
   "cell_type": "code",
   "execution_count": 5,
   "metadata": {},
   "outputs": [
    {
     "data": {
      "text/html": [
       "<div>\n",
       "<style scoped>\n",
       "    .dataframe tbody tr th:only-of-type {\n",
       "        vertical-align: middle;\n",
       "    }\n",
       "\n",
       "    .dataframe tbody tr th {\n",
       "        vertical-align: top;\n",
       "    }\n",
       "\n",
       "    .dataframe thead th {\n",
       "        text-align: right;\n",
       "    }\n",
       "</style>\n",
       "<table border=\"1\" class=\"dataframe\">\n",
       "  <thead>\n",
       "    <tr style=\"text-align: right;\">\n",
       "      <th></th>\n",
       "      <th>id</th>\n",
       "      <th>state</th>\n",
       "      <th>district</th>\n",
       "      <th>poverty_line</th>\n",
       "      <th>case_no</th>\n",
       "      <th>caste</th>\n",
       "      <th>registration_date</th>\n",
       "      <th>mother_deleted</th>\n",
       "      <th>mother_deleted_time</th>\n",
       "      <th>female_child_born</th>\n",
       "      <th>...</th>\n",
       "      <th>wife_current_age</th>\n",
       "      <th>wife_marry_age</th>\n",
       "      <th>young_child_age_month</th>\n",
       "      <th>young_child_age_year</th>\n",
       "      <th>young_child_gender</th>\n",
       "      <th>hus_current_age</th>\n",
       "      <th>hus_marry_age</th>\n",
       "      <th>isactive</th>\n",
       "      <th>previous_status</th>\n",
       "      <th>created_on</th>\n",
       "    </tr>\n",
       "  </thead>\n",
       "  <tbody>\n",
       "    <tr>\n",
       "      <th>1741974</th>\n",
       "      <td>1741975</td>\n",
       "      <td>Haryana</td>\n",
       "      <td>Panchkula</td>\n",
       "      <td>APL</td>\n",
       "      <td>2.0</td>\n",
       "      <td>Other</td>\n",
       "      <td>2019-12-12 00:00:00</td>\n",
       "      <td>No</td>\n",
       "      <td>NaN</td>\n",
       "      <td>0.0</td>\n",
       "      <td>...</td>\n",
       "      <td>20.0</td>\n",
       "      <td>18.0</td>\n",
       "      <td>0.0</td>\n",
       "      <td>0.0</td>\n",
       "      <td>0</td>\n",
       "      <td>NaN</td>\n",
       "      <td>NaN</td>\n",
       "      <td>NaN</td>\n",
       "      <td>NaN</td>\n",
       "      <td>2020-05-30 11:41:59</td>\n",
       "    </tr>\n",
       "    <tr>\n",
       "      <th>1741975</th>\n",
       "      <td>1741976</td>\n",
       "      <td>Haryana</td>\n",
       "      <td>Kaithal</td>\n",
       "      <td>APL</td>\n",
       "      <td>1.0</td>\n",
       "      <td>Other</td>\n",
       "      <td>2019-08-16 00:00:00</td>\n",
       "      <td>No</td>\n",
       "      <td>NaN</td>\n",
       "      <td>0.0</td>\n",
       "      <td>...</td>\n",
       "      <td>21.0</td>\n",
       "      <td>NaN</td>\n",
       "      <td>0.0</td>\n",
       "      <td>0.0</td>\n",
       "      <td>NaN</td>\n",
       "      <td>NaN</td>\n",
       "      <td>NaN</td>\n",
       "      <td>NaN</td>\n",
       "      <td>NaN</td>\n",
       "      <td>2020-03-13 13:46:00</td>\n",
       "    </tr>\n",
       "    <tr>\n",
       "      <th>1741976</th>\n",
       "      <td>1741977</td>\n",
       "      <td>Haryana</td>\n",
       "      <td>Kaithal</td>\n",
       "      <td>APL</td>\n",
       "      <td>1.0</td>\n",
       "      <td>Other</td>\n",
       "      <td>2019-05-15 00:00:00</td>\n",
       "      <td>No</td>\n",
       "      <td>NaN</td>\n",
       "      <td>0.0</td>\n",
       "      <td>...</td>\n",
       "      <td>21.0</td>\n",
       "      <td>21.0</td>\n",
       "      <td>0.0</td>\n",
       "      <td>0.0</td>\n",
       "      <td>NaN</td>\n",
       "      <td>NaN</td>\n",
       "      <td>NaN</td>\n",
       "      <td>NaN</td>\n",
       "      <td>NaN</td>\n",
       "      <td>2020-03-17 12:01:00</td>\n",
       "    </tr>\n",
       "    <tr>\n",
       "      <th>1741977</th>\n",
       "      <td>1741978</td>\n",
       "      <td>Haryana</td>\n",
       "      <td>Karnal</td>\n",
       "      <td>APL</td>\n",
       "      <td>2.0</td>\n",
       "      <td>Other</td>\n",
       "      <td>2019-08-07 00:00:00</td>\n",
       "      <td>No</td>\n",
       "      <td>NaN</td>\n",
       "      <td>1.0</td>\n",
       "      <td>...</td>\n",
       "      <td>36.0</td>\n",
       "      <td>21.0</td>\n",
       "      <td>0.0</td>\n",
       "      <td>6.0</td>\n",
       "      <td>F</td>\n",
       "      <td>NaN</td>\n",
       "      <td>NaN</td>\n",
       "      <td>NaN</td>\n",
       "      <td>NaN</td>\n",
       "      <td>2020-05-26 13:49:13</td>\n",
       "    </tr>\n",
       "    <tr>\n",
       "      <th>1741978</th>\n",
       "      <td>\\.</td>\n",
       "      <td>NaN</td>\n",
       "      <td>NaN</td>\n",
       "      <td>NaN</td>\n",
       "      <td>NaN</td>\n",
       "      <td>NaN</td>\n",
       "      <td>NaN</td>\n",
       "      <td>NaN</td>\n",
       "      <td>NaN</td>\n",
       "      <td>NaN</td>\n",
       "      <td>...</td>\n",
       "      <td>NaN</td>\n",
       "      <td>NaN</td>\n",
       "      <td>NaN</td>\n",
       "      <td>NaN</td>\n",
       "      <td>NaN</td>\n",
       "      <td>NaN</td>\n",
       "      <td>NaN</td>\n",
       "      <td>NaN</td>\n",
       "      <td>NaN</td>\n",
       "      <td>NaN</td>\n",
       "    </tr>\n",
       "  </tbody>\n",
       "</table>\n",
       "<p>5 rows × 34 columns</p>\n",
       "</div>"
      ],
      "text/plain": [
       "              id    state   district poverty_line  case_no  caste  \\\n",
       "1741974  1741975  Haryana  Panchkula          APL      2.0  Other   \n",
       "1741975  1741976  Haryana    Kaithal          APL      1.0  Other   \n",
       "1741976  1741977  Haryana    Kaithal          APL      1.0  Other   \n",
       "1741977  1741978  Haryana     Karnal          APL      2.0  Other   \n",
       "1741978       \\.      NaN        NaN          NaN      NaN    NaN   \n",
       "\n",
       "           registration_date mother_deleted mother_deleted_time  \\\n",
       "1741974  2019-12-12 00:00:00             No                 NaN   \n",
       "1741975  2019-08-16 00:00:00             No                 NaN   \n",
       "1741976  2019-05-15 00:00:00             No                 NaN   \n",
       "1741977  2019-08-07 00:00:00             No                 NaN   \n",
       "1741978                  NaN            NaN                 NaN   \n",
       "\n",
       "         female_child_born  ...  wife_current_age wife_marry_age  \\\n",
       "1741974                0.0  ...              20.0           18.0   \n",
       "1741975                0.0  ...              21.0            NaN   \n",
       "1741976                0.0  ...              21.0           21.0   \n",
       "1741977                1.0  ...              36.0           21.0   \n",
       "1741978                NaN  ...               NaN            NaN   \n",
       "\n",
       "        young_child_age_month young_child_age_year  young_child_gender  \\\n",
       "1741974                   0.0                  0.0                   0   \n",
       "1741975                   0.0                  0.0                 NaN   \n",
       "1741976                   0.0                  0.0                 NaN   \n",
       "1741977                   0.0                  6.0                   F   \n",
       "1741978                   NaN                  NaN                 NaN   \n",
       "\n",
       "         hus_current_age hus_marry_age isactive previous_status  \\\n",
       "1741974              NaN           NaN      NaN             NaN   \n",
       "1741975              NaN           NaN      NaN             NaN   \n",
       "1741976              NaN           NaN      NaN             NaN   \n",
       "1741977              NaN           NaN      NaN             NaN   \n",
       "1741978              NaN           NaN      NaN             NaN   \n",
       "\n",
       "                  created_on  \n",
       "1741974  2020-05-30 11:41:59  \n",
       "1741975  2020-03-13 13:46:00  \n",
       "1741976  2020-03-17 12:01:00  \n",
       "1741977  2020-05-26 13:49:13  \n",
       "1741978                  NaN  \n",
       "\n",
       "[5 rows x 34 columns]"
      ]
     },
     "execution_count": 5,
     "metadata": {},
     "output_type": "execute_result"
    }
   ],
   "source": [
    "df_raw.tail()"
   ]
  },
  {
   "cell_type": "code",
   "execution_count": 6,
   "metadata": {},
   "outputs": [],
   "source": [
    "df = df_raw.iloc[:-1, :].copy()"
   ]
  },
  {
   "cell_type": "markdown",
   "metadata": {},
   "source": [
    "## EDA"
   ]
  },
  {
   "cell_type": "markdown",
   "metadata": {},
   "source": [
    "### id"
   ]
  },
  {
   "cell_type": "code",
   "execution_count": 7,
   "metadata": {},
   "outputs": [
    {
     "data": {
      "text/plain": [
       "1741978"
      ]
     },
     "execution_count": 7,
     "metadata": {},
     "output_type": "execute_result"
    }
   ],
   "source": [
    "df['id'].nunique()"
   ]
  },
  {
   "cell_type": "markdown",
   "metadata": {},
   "source": [
    "### state"
   ]
  },
  {
   "cell_type": "code",
   "execution_count": 8,
   "metadata": {},
   "outputs": [
    {
     "name": "stdout",
     "output_type": "stream",
     "text": [
      "Unique values: ['Haryana']\n",
      "No. of unique values: 1\n",
      "Missing values count: 0 / 1741978\n",
      "Missing values %: 0.0\n",
      "Value counts: \n",
      "Haryana    100.0\n",
      "Name: state, dtype: float64\n"
     ]
    },
    {
     "data": {
      "image/png": "[encoded data removed]",
      "text/plain": [
       "<Figure size 720x360 with 1 Axes>"
      ]
     },
     "metadata": {},
     "output_type": "display_data"
    }
   ],
   "source": [
    "categorical_eda(df, 'state', (10, 5))"
   ]
  },
  {
   "cell_type": "markdown",
   "metadata": {},
   "source": [
    "### district"
   ]
  },
  {
   "cell_type": "code",
   "execution_count": 9,
   "metadata": {},
   "outputs": [
    {
     "name": "stdout",
     "output_type": "stream",
     "text": [
      "Unique values: ['Panchkula' 'Mewat' 'Palwal' 'Yamunanagar' 'Ambala' 'Mahendragarh'\n",
      " 'Karnal' 'Gurgaon' 'Hisar' 'Jind' 'Sirsa' 'Kaithal']\n",
      "No. of unique values: 12\n",
      "Missing values count: 0 / 1741978\n",
      "Missing values %: 0.0\n",
      "Value counts: \n",
      "Karnal          14.037261\n",
      "Jind            13.521239\n",
      "Hisar           13.231510\n",
      "Yamunanagar     11.369317\n",
      "Kaithal          9.811720\n",
      "Sirsa            8.207853\n",
      "Ambala           8.207164\n",
      "Mewat            7.327417\n",
      "Gurgaon          3.992358\n",
      "Mahendragarh     3.555613\n",
      "Panchkula        3.436266\n",
      "Palwal           3.302281\n",
      "Name: district, dtype: float64\n"
     ]
    },
    {
     "data": {
      "image/png": "[encoded data removed]",
      "text/plain": [
       "<Figure size 1080x360 with 1 Axes>"
      ]
     },
     "metadata": {},
     "output_type": "display_data"
    }
   ],
   "source": [
    "categorical_eda(df, 'district', (15, 5))"
   ]
  },
  {
   "cell_type": "markdown",
   "metadata": {},
   "source": [
    "### poverty_line"
   ]
  },
  {
   "cell_type": "code",
   "execution_count": 10,
   "metadata": {},
   "outputs": [
    {
     "name": "stdout",
     "output_type": "stream",
     "text": [
      "Unique values: ['Not known' 'APL' 'BPL']\n",
      "No. of unique values: 3\n",
      "Missing values count: 0 / 1741978\n",
      "Missing values %: 0.0\n",
      "Value counts: \n",
      "APL          48.818010\n",
      "Not known    37.124235\n",
      "BPL          14.057755\n",
      "Name: poverty_line, dtype: float64\n"
     ]
    },
    {
     "data": {
      "image/png": "[encoded data removed]",
      "text/plain": [
       "<Figure size 216x360 with 1 Axes>"
      ]
     },
     "metadata": {},
     "output_type": "display_data"
    }
   ],
   "source": [
    "categorical_eda(df, 'poverty_line', (3, 5))"
   ]
  },
  {
   "cell_type": "code",
   "execution_count": 11,
   "metadata": {},
   "outputs": [
    {
     "name": "stdout",
     "output_type": "stream",
     "text": [
      "<class 'pandas.core.frame.DataFrame'>\n",
      "RangeIndex: 1741978 entries, 0 to 1741977\n",
      "Data columns (total 34 columns):\n",
      " #   Column                 Dtype  \n",
      "---  ------                 -----  \n",
      " 0   id                     object \n",
      " 1   state                  object \n",
      " 2   district               object \n",
      " 3   poverty_line           object \n",
      " 4   case_no                float64\n",
      " 5   caste                  object \n",
      " 6   registration_date      object \n",
      " 7   mother_deleted         object \n",
      " 8   mother_deleted_time    object \n",
      " 9   female_child_born      float64\n",
      " 10  female_child_live      float64\n",
      " 11  infertility_options    object \n",
      " 12  infertility_refer      object \n",
      " 13  infertility_status     object \n",
      " 14  male_child_born        float64\n",
      " 15  male_child_live        float64\n",
      " 16  is_pregnant            object \n",
      " 17  pregnancy_test_result  object \n",
      " 18  pw_aadhaar_linked      object \n",
      " 19  re_reg_status          object \n",
      " 20  reason_for_deletion    object \n",
      " 21  registration_no        float64\n",
      " 22  religion               object \n",
      " 23  rural_urban            object \n",
      " 24  wife_current_age       float64\n",
      " 25  wife_marry_age         float64\n",
      " 26  young_child_age_month  float64\n",
      " 27  young_child_age_year   float64\n",
      " 28  young_child_gender     object \n",
      " 29  hus_current_age        float64\n",
      " 30  hus_marry_age          float64\n",
      " 31  isactive               object \n",
      " 32  previous_status        float64\n",
      " 33  created_on             object \n",
      "dtypes: float64(13), object(21)\n",
      "memory usage: 451.9+ MB\n"
     ]
    }
   ],
   "source": [
    "df.info()"
   ]
  },
  {
   "cell_type": "markdown",
   "metadata": {},
   "source": [
    "### case_no"
   ]
  },
  {
   "cell_type": "code",
   "execution_count": 12,
   "metadata": {},
   "outputs": [
    {
     "name": "stdout",
     "output_type": "stream",
     "text": [
      "Unique values: [2. 1. 3. 4. 5.]\n",
      "No. of unique values: 5\n",
      "Missing values count: 0 / 1741978\n",
      "Missing values %: 0.0\n",
      "Value counts: \n",
      "1.0    56.353008\n",
      "2.0    43.059786\n",
      "3.0     0.563842\n",
      "4.0     0.022044\n",
      "5.0     0.001320\n",
      "Name: case_no, dtype: float64\n"
     ]
    },
    {
     "data": {
      "image/png": "[encoded data removed]",
      "text/plain": [
       "<Figure size 360x360 with 1 Axes>"
      ]
     },
     "metadata": {},
     "output_type": "display_data"
    }
   ],
   "source": [
    "categorical_eda(df, 'case_no', (5, 5))"
   ]
  },
  {
   "cell_type": "markdown",
   "metadata": {},
   "source": [
    "### caste"
   ]
  },
  {
   "cell_type": "code",
   "execution_count": 13,
   "metadata": {},
   "outputs": [
    {
     "name": "stdout",
     "output_type": "stream",
     "text": [
      "Unique values: ['SC' 'Other' 'Not known' 'ST']\n",
      "No. of unique values: 4\n",
      "Missing values count: 0 / 1741978\n",
      "Missing values %: 0.0\n",
      "Value counts: \n",
      "Other        71.465311\n",
      "SC           23.809658\n",
      "Not known     4.342822\n",
      "ST            0.382209\n",
      "Name: caste, dtype: float64\n"
     ]
    },
    {
     "data": {
      "image/png": "[encoded data removed]",
      "text/plain": [
       "<Figure size 288x360 with 1 Axes>"
      ]
     },
     "metadata": {},
     "output_type": "display_data"
    }
   ],
   "source": [
    "categorical_eda(df, 'caste', (4, 5))"
   ]
  },
  {
   "cell_type": "markdown",
   "metadata": {},
   "source": [
    "### registration_date"
   ]
  },
  {
   "cell_type": "code",
   "execution_count": 14,
   "metadata": {},
   "outputs": [
    {
     "name": "stdout",
     "output_type": "stream",
     "text": [
      "Unique values: ['2018-04-09 00:00:00' '2018-04-02 00:00:00' '2018-04-04 00:00:00' ...\n",
      " '2020-06-10 00:00:00' '2020-06-24 00:00:00' '2020-05-27 00:00:00']\n",
      "No. of unique values: 1155\n",
      "Missing values count: 0 / 1741978\n",
      "Missing values %: 0.0\n",
      "Value counts: \n",
      "2018-04-01 00:00:00    4.692310\n",
      "2019-03-01 00:00:00    3.531847\n",
      "2017-04-01 00:00:00    3.522892\n",
      "2018-04-04 00:00:00    3.355209\n",
      "2019-04-01 00:00:00    3.117261\n",
      "                         ...   \n",
      "2020-05-17 00:00:00    0.000057\n",
      "2020-11-15 00:00:00    0.000057\n",
      "2020-05-27 00:00:00    0.000057\n",
      "2020-05-28 00:00:00    0.000057\n",
      "2020-06-10 00:00:00    0.000057\n",
      "Name: registration_date, Length: 1155, dtype: float64\n",
      "Description: \n",
      "count        40.00000\n",
      "mean      43549.45000\n",
      "std       70193.32739\n",
      "min           1.00000\n",
      "25%       10704.75000\n",
      "50%       17025.50000\n",
      "75%       39217.25000\n",
      "max      363339.00000\n",
      "Name: id, dtype: float64\n"
     ]
    },
    {
     "data": {
      "image/png": "[encoded data removed]",
      "text/plain": [
       "<Figure size 1080x360 with 1 Axes>"
      ]
     },
     "metadata": {},
     "output_type": "display_data"
    }
   ],
   "source": [
    "timeseries_eda(df, 'registration_date', (15, 5))"
   ]
  },
  {
   "cell_type": "markdown",
   "metadata": {},
   "source": [
    "### mother_deleted"
   ]
  },
  {
   "cell_type": "code",
   "execution_count": 15,
   "metadata": {},
   "outputs": [
    {
     "data": {
      "text/plain": [
       "2"
      ]
     },
     "execution_count": 15,
     "metadata": {},
     "output_type": "execute_result"
    }
   ],
   "source": [
    "df['mother_deleted'].nunique()"
   ]
  },
  {
   "cell_type": "code",
   "execution_count": 16,
   "metadata": {},
   "outputs": [
    {
     "name": "stdout",
     "output_type": "stream",
     "text": [
      "Unique values: ['No' 'Yes']\n",
      "No. of unique values: 2\n",
      "Missing values count: 0 / 1741978\n",
      "Missing values %: 0.0\n",
      "Value counts: \n",
      "No     99.92032\n",
      "Yes     0.07968\n",
      "Name: mother_deleted, dtype: float64\n"
     ]
    },
    {
     "data": {
      "image/png": "[encoded data removed]",
      "text/plain": [
       "<Figure size 720x360 with 1 Axes>"
      ]
     },
     "metadata": {},
     "output_type": "display_data"
    }
   ],
   "source": [
    "categorical_eda(df, 'mother_deleted', (10, 5))"
   ]
  },
  {
   "cell_type": "code",
   "execution_count": 17,
   "metadata": {},
   "outputs": [
    {
     "name": "stdout",
     "output_type": "stream",
     "text": [
      "<class 'pandas.core.frame.DataFrame'>\n",
      "RangeIndex: 1741978 entries, 0 to 1741977\n",
      "Data columns (total 34 columns):\n",
      " #   Column                 Dtype  \n",
      "---  ------                 -----  \n",
      " 0   id                     object \n",
      " 1   state                  object \n",
      " 2   district               object \n",
      " 3   poverty_line           object \n",
      " 4   case_no                float64\n",
      " 5   caste                  object \n",
      " 6   registration_date      object \n",
      " 7   mother_deleted         object \n",
      " 8   mother_deleted_time    object \n",
      " 9   female_child_born      float64\n",
      " 10  female_child_live      float64\n",
      " 11  infertility_options    object \n",
      " 12  infertility_refer      object \n",
      " 13  infertility_status     object \n",
      " 14  male_child_born        float64\n",
      " 15  male_child_live        float64\n",
      " 16  is_pregnant            object \n",
      " 17  pregnancy_test_result  object \n",
      " 18  pw_aadhaar_linked      object \n",
      " 19  re_reg_status          object \n",
      " 20  reason_for_deletion    object \n",
      " 21  registration_no        float64\n",
      " 22  religion               object \n",
      " 23  rural_urban            object \n",
      " 24  wife_current_age       float64\n",
      " 25  wife_marry_age         float64\n",
      " 26  young_child_age_month  float64\n",
      " 27  young_child_age_year   float64\n",
      " 28  young_child_gender     object \n",
      " 29  hus_current_age        float64\n",
      " 30  hus_marry_age          float64\n",
      " 31  isactive               object \n",
      " 32  previous_status        float64\n",
      " 33  created_on             object \n",
      "dtypes: float64(13), object(21)\n",
      "memory usage: 451.9+ MB\n"
     ]
    }
   ],
   "source": [
    "df.info()"
   ]
  },
  {
   "cell_type": "markdown",
   "metadata": {},
   "source": [
    "### mother_deleted_time"
   ]
  },
  {
   "cell_type": "code",
   "execution_count": 18,
   "metadata": {},
   "outputs": [
    {
     "name": "stdout",
     "output_type": "stream",
     "text": [
      "Unique values: [nan '2019-07-20 11:10:56' '2019-07-20 11:10:55' ... '2020-06-11 12:49:25'\n",
      " '2020-06-16 13:54:37' '2020-06-15 13:46:20']\n",
      "No. of unique values: 1426\n",
      "Missing values count: 1736698 / 1741978\n",
      "Missing values %: 0.996968962868647\n",
      "Value counts: \n",
      "2018-09-14 14:26:18    0.587121\n",
      "2018-08-20 15:25:32    0.568182\n",
      "2019-01-04 13:22:07    0.549242\n",
      "2018-12-20 19:07:34    0.549242\n",
      "2018-09-13 10:38:02    0.530303\n",
      "                         ...   \n",
      "2019-11-04 16:17:26    0.018939\n",
      "2019-05-29 12:58:08    0.018939\n",
      "2019-05-01 14:45:01    0.018939\n",
      "2019-05-13 11:05:05    0.018939\n",
      "2019-05-09 15:23:03    0.018939\n",
      "Name: mother_deleted_time, Length: 1426, dtype: float64\n",
      "Description: \n",
      "count     44.000000\n",
      "mean     120.000000\n",
      "std      105.886293\n",
      "min        3.000000\n",
      "25%       48.000000\n",
      "50%       93.000000\n",
      "75%      158.000000\n",
      "max      522.000000\n",
      "Name: id, dtype: float64\n"
     ]
    },
    {
     "data": {
      "image/png": "[encoded data removed]",
      "text/plain": [
       "<Figure size 1080x360 with 1 Axes>"
      ]
     },
     "metadata": {},
     "output_type": "display_data"
    }
   ],
   "source": [
    "timeseries_eda(df, 'mother_deleted_time', (15, 5))"
   ]
  },
  {
   "cell_type": "code",
   "execution_count": 20,
   "metadata": {},
   "outputs": [
    {
     "data": {
      "text/plain": [
       "array(['2019-07-20 11:10:56', '2019-05-18 13:52:20',\n",
       "       '2019-05-20 13:19:46', ..., '2020-06-11 12:49:25',\n",
       "       '2020-06-16 13:54:37', '2020-06-15 13:46:20'], dtype=object)"
      ]
     },
     "execution_count": 20,
     "metadata": {},
     "output_type": "execute_result"
    }
   ],
   "source": [
    "df[df['mother_deleted'] == 'Yes']['mother_deleted_time'].unique()"
   ]
  },
  {
   "cell_type": "code",
   "execution_count": 21,
   "metadata": {},
   "outputs": [
    {
     "data": {
      "text/plain": [
       "array([nan, '2019-07-20 11:10:56', '2019-07-20 11:10:55',\n",
       "       '2019-05-18 13:52:20', '2019-06-11 12:55:36',\n",
       "       '2019-12-05 13:16:05', '2019-10-25 13:48:28',\n",
       "       '2020-02-07 15:50:03', '2020-02-07 15:50:04',\n",
       "       '2020-02-06 11:48:32', '2020-02-06 11:49:49',\n",
       "       '2020-02-14 23:01:31', '2020-02-14 23:02:54',\n",
       "       '2017-11-13 10:51:39', '2018-02-19 11:03:46',\n",
       "       '2017-11-13 11:12:12', '2018-02-19 10:51:05',\n",
       "       '2018-02-16 10:44:40', '2018-10-12 12:32:55',\n",
       "       '2018-09-29 13:24:39', '2018-06-04 12:51:54',\n",
       "       '2017-11-15 10:02:57', '2018-06-04 12:51:55',\n",
       "       '2018-06-04 11:27:07', '2018-04-10 11:26:01',\n",
       "       '2018-04-09 13:20:58', '2018-06-30 13:38:07',\n",
       "       '2018-06-19 11:30:02', '2018-11-27 10:27:48',\n",
       "       '2018-11-27 10:27:49', '2018-10-01 13:04:52',\n",
       "       '2019-10-30 10:23:00', '2017-11-20 14:06:32',\n",
       "       '2017-09-27 13:16:45', '2017-11-15 14:02:07',\n",
       "       '2016-12-20 15:05:29', '2017-11-15 14:02:08',\n",
       "       '2018-06-14 13:17:51', '2017-09-20 12:01:27',\n",
       "       '2017-12-01 12:04:41', '2018-02-16 10:40:35',\n",
       "       '2018-10-30 10:43:33', '2017-11-30 11:36:13',\n",
       "       '2017-11-30 11:37:45', '2018-03-12 15:04:25',\n",
       "       '2018-06-14 11:04:30', '2018-03-12 15:04:26',\n",
       "       '2018-03-12 15:06:42', '2018-03-12 15:03:36',\n",
       "       '2018-02-19 11:16:28', '2017-12-21 13:48:39',\n",
       "       '2018-01-06 13:02:32', '2017-11-17 11:29:41',\n",
       "       '2017-12-20 15:25:06', '2020-04-07 11:35:39',\n",
       "       '2018-01-30 11:16:12', '2019-05-29 11:52:52',\n",
       "       '2018-03-19 12:38:47', '2020-02-04 11:15:59',\n",
       "       '2019-07-02 12:56:34', '2019-05-30 09:15:38',\n",
       "       '2019-05-31 09:21:53', '2018-09-13 10:59:16',\n",
       "       '2019-04-20 10:14:50', '2018-05-11 11:26:42',\n",
       "       '2019-04-30 10:45:26', '2019-08-31 10:13:43',\n",
       "       '2019-10-15 10:39:51', '2020-04-30 14:47:33',\n",
       "       '2019-05-01 15:33:39', '2019-02-01 10:50:02',\n",
       "       '2018-05-07 10:55:26', '2019-03-16 11:27:24',\n",
       "       '2019-12-31 11:18:44', '2019-07-18 12:17:16',\n",
       "       '2020-02-28 13:21:48', '2019-11-21 17:32:16',\n",
       "       '2020-06-11 12:16:12', '2019-07-15 13:56:28',\n",
       "       '2019-11-14 17:01:24', '2019-11-14 17:01:25',\n",
       "       '2019-01-04 13:22:07', '2018-06-14 10:50:10',\n",
       "       '2019-12-06 11:53:25', '2019-09-27 21:01:03',\n",
       "       '2019-03-20 19:08:18', '2019-04-16 19:51:20',\n",
       "       '2019-11-21 14:35:05', '2019-11-21 14:35:04',\n",
       "       '2018-08-09 13:50:15', '2019-03-15 14:20:49',\n",
       "       '2019-11-21 10:46:43', '2019-11-21 10:46:44',\n",
       "       '2019-11-27 09:07:18', '2019-11-27 09:07:19',\n",
       "       '2017-05-15 12:17:58', '2019-11-29 11:53:24',\n",
       "       '2019-11-30 10:38:07', '2017-09-11 14:26:21',\n",
       "       '2019-12-17 11:04:34', '2019-11-11 12:24:52',\n",
       "       '2020-01-25 12:23:00', '2019-07-23 15:23:23',\n",
       "       '2017-08-29 09:49:12', '2017-07-28 10:24:34',\n",
       "       '2017-11-17 19:58:13', '2020-04-03 13:02:33',\n",
       "       '2018-10-17 12:53:17', '2019-03-05 10:34:37',\n",
       "       '2019-01-17 11:25:22', '2019-05-14 10:28:52',\n",
       "       '2018-07-07 13:38:28', '2018-07-07 13:39:33',\n",
       "       '2018-07-30 13:01:12', '2018-07-10 13:46:51',\n",
       "       '2018-07-10 13:46:52', '2018-07-10 12:51:22',\n",
       "       '2018-07-19 14:06:48', '2018-11-15 12:43:07',\n",
       "       '2019-05-14 15:46:24', '2018-07-12 11:45:16',\n",
       "       '2019-01-23 12:50:33', '2019-01-25 13:19:04',\n",
       "       '2017-09-22 14:52:39', '2019-09-06 13:59:47',\n",
       "       '2018-12-29 10:09:06', '2018-12-29 09:53:04',\n",
       "       '2018-12-29 10:14:16', '2018-12-29 09:59:54',\n",
       "       '2018-12-29 10:20:44', '2017-08-13 18:42:28',\n",
       "       '2019-04-12 13:12:42', '2018-11-27 11:13:33',\n",
       "       '2020-01-09 15:10:09', '2018-07-18 13:55:41',\n",
       "       '2018-11-24 12:10:51', '2019-06-21 13:50:32',\n",
       "       '2019-05-02 13:13:58', '2019-05-02 13:07:38',\n",
       "       '2019-11-26 12:12:53', '2017-08-04 08:58:39',\n",
       "       '2018-03-22 14:30:02', '2018-03-07 15:31:40',\n",
       "       '2017-08-04 09:12:06', '2017-08-04 08:53:03',\n",
       "       '2017-08-04 09:02:22', '2017-08-04 08:56:47',\n",
       "       '2019-07-25 14:49:23', '2018-04-14 10:48:13',\n",
       "       '2019-07-25 15:04:38', '2019-10-13 15:47:22',\n",
       "       '2018-03-23 12:46:56', '2018-03-23 12:22:56',\n",
       "       '2018-05-22 15:30:11', '2016-11-22 12:26:24',\n",
       "       '2016-12-05 11:13:11', '2016-11-23 13:08:49',\n",
       "       '2019-12-19 11:52:55', '2017-05-26 11:32:06',\n",
       "       '2017-11-30 10:28:21', '2019-05-09 13:32:22',\n",
       "       '2019-05-22 12:28:26', '2019-05-22 12:19:34',\n",
       "       '2019-05-22 12:22:21', '2019-05-22 12:22:42',\n",
       "       '2020-02-13 11:43:21', '2020-02-13 11:42:02',\n",
       "       '2019-12-19 11:38:04', '2019-01-11 18:52:06',\n",
       "       '2017-11-22 15:47:41', '2017-11-22 15:41:03',\n",
       "       '2017-11-22 15:44:03', '2017-11-22 15:47:42',\n",
       "       '2017-11-22 15:53:09', '2020-02-19 16:48:31',\n",
       "       '2019-03-24 20:28:43', '2019-04-11 11:45:30',\n",
       "       '2017-07-07 13:02:44', '2018-05-25 13:36:10',\n",
       "       '2018-07-12 12:46:54', '2019-03-23 16:09:00',\n",
       "       '2017-06-13 12:33:55', '2017-08-19 19:38:39',\n",
       "       '2017-07-25 11:05:55', '2019-05-20 14:39:02',\n",
       "       '2018-02-25 20:37:08', '2019-07-29 14:25:11',\n",
       "       '2020-02-19 11:26:19', '2018-11-13 14:22:35',\n",
       "       '2018-11-13 14:22:36', '2018-10-08 14:47:51',\n",
       "       '2017-07-31 11:21:13', '2019-09-12 10:12:54',\n",
       "       '2019-09-12 10:12:55', '2018-06-26 10:17:06',\n",
       "       '2020-03-31 13:13:29', '2017-09-12 13:45:06',\n",
       "       '2019-03-29 14:12:39', '2019-08-09 18:21:36',\n",
       "       '2019-09-14 16:16:14', '2019-08-10 11:12:07',\n",
       "       '2019-12-19 14:24:56', '2018-06-21 12:39:06',\n",
       "       '2019-06-10 13:12:16', '2019-09-20 13:47:01',\n",
       "       '2019-05-10 12:36:39', '2019-09-20 13:47:52',\n",
       "       '2019-07-12 11:34:47', '2019-05-31 14:14:29',\n",
       "       '2020-03-17 11:37:11', '2020-03-17 11:37:12',\n",
       "       '2020-03-17 12:42:59', '2019-11-21 14:55:27',\n",
       "       '2018-11-22 11:25:20', '2019-01-01 15:26:51',\n",
       "       '2019-07-16 13:17:15', '2019-07-16 13:14:01',\n",
       "       '2019-07-16 13:14:00', '2019-07-16 13:15:20',\n",
       "       '2020-04-05 12:02:39', '2019-01-01 15:07:43',\n",
       "       '2019-07-18 10:27:26', '2016-12-23 10:50:38',\n",
       "       '2019-06-14 10:02:51', '2018-12-20 19:10:16',\n",
       "       '2018-12-20 19:09:39', '2018-12-20 19:07:34',\n",
       "       '2019-06-03 11:00:34', '2018-03-19 12:59:08',\n",
       "       '2018-10-05 12:55:21', '2019-11-07 11:59:54',\n",
       "       '2017-08-03 13:23:09', '2018-10-31 15:14:36',\n",
       "       '2018-10-31 15:14:35', '2020-01-16 11:13:08',\n",
       "       '2020-01-16 11:17:35', '2018-12-11 11:26:36',\n",
       "       '2017-07-31 10:04:18', '2018-08-20 15:25:32',\n",
       "       '2018-05-31 10:34:32', '2017-10-30 15:09:58',\n",
       "       '2018-03-16 10:38:43', '2019-04-08 10:54:02',\n",
       "       '2019-04-08 10:41:04', '2019-04-08 10:44:15',\n",
       "       '2018-09-14 14:26:18', '2018-07-03 10:25:25',\n",
       "       '2018-07-17 11:35:28', '2019-07-17 11:02:13',\n",
       "       '2019-07-17 10:20:32', '2019-12-13 11:27:28',\n",
       "       '2019-11-14 11:16:16', '2019-12-13 11:26:12',\n",
       "       '2019-04-30 11:42:25', '2019-05-28 11:41:30',\n",
       "       '2019-07-10 12:51:59', '2019-05-28 11:41:31',\n",
       "       '2019-12-13 11:27:29', '2019-05-09 10:23:55',\n",
       "       '2019-05-09 10:20:09', '2019-06-19 10:57:37',\n",
       "       '2019-09-09 10:24:18', '2020-01-27 12:59:45',\n",
       "       '2017-03-24 12:32:40', '2018-07-02 13:59:51',\n",
       "       '2019-11-19 12:13:34', '2018-12-19 10:17:56',\n",
       "       '2019-11-18 11:58:50', '2017-02-26 12:24:51',\n",
       "       '2017-01-25 14:28:28', '2019-04-10 11:01:28',\n",
       "       '2019-04-10 10:57:55', '2017-08-12 10:58:43',\n",
       "       '2019-04-10 10:58:40', '2018-09-25 12:02:36',\n",
       "       '2018-09-25 12:01:22', '2017-10-10 12:25:11',\n",
       "       '2018-09-25 12:01:21', '2018-06-26 22:07:26',\n",
       "       '2019-09-12 13:02:43', '2018-12-14 11:12:01',\n",
       "       '2017-09-25 10:21:01', '2017-09-25 10:21:02',\n",
       "       '2019-07-18 10:30:03', '2020-02-20 11:03:53',\n",
       "       '2019-03-26 19:12:18', '2019-05-23 18:58:08',\n",
       "       '2019-03-26 19:22:32', '2019-05-23 19:02:23',\n",
       "       '2019-03-26 19:17:03', '2019-05-17 19:00:30',\n",
       "       '2019-05-17 18:54:28', '2019-03-31 15:45:25',\n",
       "       '2019-05-31 22:59:59', '2019-07-10 14:55:10',\n",
       "       '2019-08-10 17:39:49', '2017-01-09 11:12:28',\n",
       "       '2017-10-10 09:11:55', '2018-08-02 12:06:25',\n",
       "       '2019-12-09 12:38:48', '2018-06-19 13:18:00',\n",
       "       '2019-12-24 13:34:48', '2019-03-29 13:26:30',\n",
       "       '2020-01-16 13:11:24', '2020-01-16 13:10:32',\n",
       "       '2018-12-23 19:44:07', '2019-11-26 12:29:06',\n",
       "       '2018-11-12 11:21:45', '2019-01-05 10:26:02',\n",
       "       '2020-02-18 13:57:51', '2018-01-20 10:22:50',\n",
       "       '2018-06-11 12:13:24', '2018-05-27 10:29:38',\n",
       "       '2019-02-07 12:12:55', '2018-02-21 14:41:01',\n",
       "       '2017-09-13 12:44:38', '2020-03-10 14:44:22',\n",
       "       '2019-11-25 11:01:28', '2019-02-25 10:00:21',\n",
       "       '2019-02-22 12:10:46', '2019-02-15 14:24:12',\n",
       "       '2017-07-21 12:12:26', '2017-07-21 12:12:27',\n",
       "       '2017-07-20 14:19:18', '2018-12-24 12:03:20',\n",
       "       '2018-12-24 12:12:24', '2018-12-06 12:02:08',\n",
       "       '2018-12-06 11:55:07', '2018-12-06 12:03:06',\n",
       "       '2018-12-06 12:04:45', '2018-12-28 10:39:12',\n",
       "       '2018-12-28 10:40:33', '2019-01-24 12:03:24',\n",
       "       '2018-09-11 11:11:07', '2018-11-13 14:37:36',\n",
       "       '2018-11-13 14:33:37', '2019-04-18 11:12:20',\n",
       "       '2017-01-23 15:47:45', '2019-08-17 13:00:06',\n",
       "       '2019-03-27 13:33:26', '2019-03-27 13:33:27',\n",
       "       '2019-03-27 10:55:17', '2019-03-27 10:55:19',\n",
       "       '2019-05-14 16:39:55', '2019-05-14 14:54:28',\n",
       "       '2019-12-12 11:30:43', '2019-04-26 17:04:57',\n",
       "       '2019-04-26 17:11:05', '2019-04-26 17:04:55',\n",
       "       '2019-04-26 17:01:41', '2017-09-20 17:58:00',\n",
       "       '2020-01-18 13:05:50', '2019-03-23 13:36:38',\n",
       "       '2017-08-24 12:31:53', '2019-08-20 20:14:29',\n",
       "       '2018-08-10 13:32:08', '2018-09-01 12:46:52',\n",
       "       '2018-09-13 10:38:02', '2018-06-09 12:38:11',\n",
       "       '2019-05-25 12:54:11', '2019-05-24 13:19:44',\n",
       "       '2019-06-26 11:29:53', '2019-05-22 10:57:15',\n",
       "       '2018-05-31 15:54:27', '2018-07-05 17:26:06',\n",
       "       '2019-08-10 13:05:48', '2019-11-02 14:35:30',\n",
       "       '2019-10-25 10:06:52', '2019-07-09 12:48:12',\n",
       "       '2018-04-23 10:18:38', '2018-07-22 13:51:03',\n",
       "       '2019-03-24 11:47:47', '2019-12-17 10:44:35',\n",
       "       '2019-12-17 10:40:04', '2019-10-29 12:25:05',\n",
       "       '2019-04-23 10:36:57', '2019-05-24 13:21:19',\n",
       "       '2019-08-09 10:28:10', '2019-05-23 13:55:04',\n",
       "       '2019-08-06 12:22:45', '2019-03-28 11:36:21',\n",
       "       '2018-10-15 14:25:13', '2019-09-06 13:51:31',\n",
       "       '2019-09-26 11:31:43', '2019-08-30 11:34:33',\n",
       "       '2019-08-19 12:15:34', '2019-05-25 12:07:14',\n",
       "       '2019-04-05 13:43:31', '2019-08-19 12:15:35',\n",
       "       '2019-07-11 12:33:09', '2018-10-17 10:32:33',\n",
       "       '2018-06-14 17:40:09', '2019-04-02 13:57:06',\n",
       "       '2018-10-18 13:10:13', '2019-05-21 15:47:17',\n",
       "       '2019-04-02 13:57:05', '2019-07-12 15:02:13',\n",
       "       '2019-07-12 15:03:13', '2019-07-12 15:02:59',\n",
       "       '2019-07-12 15:01:34', '2019-07-12 15:01:17',\n",
       "       '2019-07-12 15:02:47', '2019-07-12 15:01:05',\n",
       "       '2019-07-12 14:55:49', '2019-07-12 15:02:32',\n",
       "       '2019-07-12 15:02:31', '2019-07-12 15:01:46',\n",
       "       '2019-07-12 15:00:43', '2020-03-06 14:35:58',\n",
       "       '2019-07-12 15:00:25', '2020-03-06 14:35:59',\n",
       "       '2019-07-12 14:52:37', '2019-04-12 12:49:28',\n",
       "       '2020-04-14 14:24:33', '2020-04-25 13:11:14',\n",
       "       '2017-10-14 16:26:26', '2018-02-19 17:30:11',\n",
       "       '2019-11-26 12:27:48', '2019-11-26 12:25:24',\n",
       "       '2019-08-16 15:45:21', '2019-03-27 14:21:14',\n",
       "       '2019-03-27 14:25:02', '2019-03-27 14:21:06',\n",
       "       '2019-03-27 14:21:09', '2019-03-27 14:21:07',\n",
       "       '2019-03-27 14:21:19', '2019-09-03 11:24:16',\n",
       "       '2018-11-29 12:07:15', '2018-06-11 16:15:57',\n",
       "       '2019-04-05 15:59:03', '2020-03-12 14:15:45',\n",
       "       '2020-03-19 11:19:35', '2020-03-19 11:22:34',\n",
       "       '2018-08-30 13:05:45', '2018-09-06 15:06:40',\n",
       "       '2019-05-28 14:55:54', '2019-09-12 15:19:53',\n",
       "       '2017-11-24 14:44:20', '2018-10-27 12:31:49',\n",
       "       '2018-10-26 11:28:19', '2018-10-22 12:46:18',\n",
       "       '2019-06-14 12:40:29', '2019-06-14 10:37:11',\n",
       "       '2018-09-13 15:30:22', '2019-08-05 13:36:17',\n",
       "       '2019-05-08 12:26:01', '2019-05-08 11:44:52',\n",
       "       '2019-05-22 10:32:44', '2019-05-08 11:49:26',\n",
       "       '2019-04-23 11:52:39', '2019-05-08 12:20:10',\n",
       "       '2019-05-22 10:46:19', '2019-08-13 12:45:54',\n",
       "       '2019-05-08 12:11:31', '2019-05-16 11:20:27',\n",
       "       '2019-05-16 10:10:35', '2019-05-16 12:45:02',\n",
       "       '2019-05-16 15:00:42', '2019-05-16 14:39:30',\n",
       "       '2019-05-16 14:51:50', '2019-05-16 14:47:31',\n",
       "       '2019-05-16 14:55:52', '2019-05-16 14:43:12',\n",
       "       '2019-12-21 10:39:27', '2019-05-09 10:47:45',\n",
       "       '2019-05-10 13:56:26', '2019-07-10 11:41:08',\n",
       "       '2019-07-10 11:47:19', '2019-07-10 10:28:00',\n",
       "       '2019-07-10 12:13:23', '2019-07-10 09:41:37',\n",
       "       '2019-05-10 13:39:58', '2019-07-10 11:21:20',\n",
       "       '2019-07-10 13:10:34', '2019-08-16 15:20:49',\n",
       "       '2019-07-10 12:21:07', '2019-02-21 22:17:09',\n",
       "       '2020-04-01 13:42:22', '2020-05-10 14:56:16',\n",
       "       '2020-03-03 10:47:14', '2020-05-09 15:20:23',\n",
       "       '2019-04-17 11:00:36', '2019-04-17 10:58:18',\n",
       "       '2017-03-16 17:53:26', '2017-09-27 19:49:47',\n",
       "       '2018-05-08 15:50:47', '2017-11-29 10:47:26',\n",
       "       '2017-11-28 11:14:06', '2018-02-15 20:58:36',\n",
       "       '2018-10-18 09:08:56', '2018-08-09 11:55:10',\n",
       "       '2018-06-25 19:35:38', '2018-06-08 18:50:03',\n",
       "       '2018-07-16 17:29:43', '2020-05-08 05:28:14',\n",
       "       '2020-05-08 05:28:15', '2017-04-11 14:54:34',\n",
       "       '2017-04-11 14:54:35', '2017-02-08 10:01:33',\n",
       "       '2017-02-08 10:02:38', '2017-02-08 09:58:55',\n",
       "       '2017-02-08 10:03:27', '2017-05-20 12:44:07',\n",
       "       '2017-10-13 12:15:12', '2017-11-09 14:33:06',\n",
       "       '2018-10-13 13:20:54', '2017-11-09 14:33:07',\n",
       "       '2019-05-14 14:13:42', '2019-06-22 12:41:50',\n",
       "       '2019-06-21 14:07:31', '2017-11-17 13:37:25',\n",
       "       '2018-05-23 15:56:06', '2020-01-24 14:10:43',\n",
       "       '2017-10-23 13:33:10', '2019-07-26 10:44:55',\n",
       "       '2019-07-09 13:29:11', '2019-09-14 22:31:13',\n",
       "       '2020-03-07 21:36:29', '2019-09-08 18:22:42',\n",
       "       '2019-09-08 18:22:43', '2019-09-08 16:50:27',\n",
       "       '2019-06-17 13:13:57', '2018-05-09 10:46:21',\n",
       "       '2016-11-18 23:43:35', '2016-11-15 14:56:10',\n",
       "       '2020-01-03 10:39:34', '2020-01-24 11:00:54',\n",
       "       '2018-01-09 11:51:04', '2017-10-09 10:58:44',\n",
       "       '2019-01-15 19:56:53', '2017-08-22 16:42:30',\n",
       "       '2017-05-23 19:38:12', '2017-05-21 18:48:23',\n",
       "       '2020-03-17 11:39:37', '2020-03-19 10:37:22',\n",
       "       '2019-08-26 12:13:45', '2019-11-21 14:55:53',\n",
       "       '2019-12-10 12:59:01', '2019-12-24 13:26:37',\n",
       "       '2019-12-27 09:48:50', '2019-12-13 10:10:36',\n",
       "       '2020-04-09 14:54:33', '2020-02-06 11:48:33',\n",
       "       '2019-09-14 22:31:12', '2020-02-13 10:54:55',\n",
       "       '2020-02-13 12:46:36', '2019-04-11 11:20:16',\n",
       "       '2019-12-24 13:34:49', '2019-12-24 13:27:33',\n",
       "       '2020-03-11 10:06:28', '2020-03-11 10:03:52',\n",
       "       '2020-03-11 10:07:11', '2020-03-11 10:03:24',\n",
       "       '2019-12-16 14:04:30'], dtype=object)"
      ]
     },
     "execution_count": 21,
     "metadata": {},
     "output_type": "execute_result"
    }
   ],
   "source": [
    "df[df['mother_deleted'] == 'No']['mother_deleted_time'].unique()"
   ]
  },
  {
   "cell_type": "markdown",
   "metadata": {},
   "source": [
    "### female_child_born"
   ]
  },
  {
   "cell_type": "code",
   "execution_count": 23,
   "metadata": {},
   "outputs": [
    {
     "name": "stdout",
     "output_type": "stream",
     "text": [
      "Unique values: [ 0.  2.  1.  4.  3.  5.  6.  7.  9. 10. 14.  8. 12. 13. 11. 15.]\n",
      "No. of unique values: 16\n",
      "Missing values count: 0 / 1741978\n",
      "Missing values %: 0.0\n",
      "Value counts: \n",
      "0.0     74.424935\n",
      "1.0     16.637868\n",
      "2.0      6.188769\n",
      "3.0      1.913055\n",
      "4.0      0.560971\n",
      "5.0      0.172505\n",
      "6.0      0.059300\n",
      "7.0      0.018657\n",
      "10.0     0.008266\n",
      "8.0      0.007750\n",
      "9.0      0.003617\n",
      "12.0     0.001378\n",
      "11.0     0.001033\n",
      "14.0     0.000861\n",
      "15.0     0.000574\n",
      "13.0     0.000459\n",
      "Name: female_child_born, dtype: float64\n"
     ]
    },
    {
     "data": {
      "image/png": "[encoded data removed]",
      "text/plain": [
       "<Figure size 1152x360 with 1 Axes>"
      ]
     },
     "metadata": {},
     "output_type": "display_data"
    }
   ],
   "source": [
    "categorical_eda(df, 'female_child_born', (16, 5))"
   ]
  },
  {
   "cell_type": "markdown",
   "metadata": {},
   "source": [
    "### female_child_live"
   ]
  },
  {
   "cell_type": "code",
   "execution_count": 25,
   "metadata": {},
   "outputs": [
    {
     "name": "stdout",
     "output_type": "stream",
     "text": [
      "Unique values: [ 0.  2.  1.  4.  3.  5.  6.  7.  9. 10.  8. 11.]\n",
      "No. of unique values: 12\n",
      "Missing values count: 0 / 1741978\n",
      "Missing values %: 0.0\n",
      "Value counts: \n",
      "0.0     76.017148\n",
      "1.0     15.784700\n",
      "2.0      5.728029\n",
      "3.0      1.748243\n",
      "4.0      0.508502\n",
      "5.0      0.150289\n",
      "6.0      0.045925\n",
      "7.0      0.011596\n",
      "8.0      0.003904\n",
      "9.0      0.001206\n",
      "10.0     0.000344\n",
      "11.0     0.000115\n",
      "Name: female_child_live, dtype: float64\n"
     ]
    },
    {
     "data": {
      "image/png": "[encoded data removed]",
      "text/plain": [
       "<Figure size 864x360 with 1 Axes>"
      ]
     },
     "metadata": {},
     "output_type": "display_data"
    }
   ],
   "source": [
    "categorical_eda(df, 'female_child_live', (12, 5))"
   ]
  },
  {
   "cell_type": "code",
   "execution_count": 26,
   "metadata": {},
   "outputs": [
    {
     "data": {
      "text/plain": [
       "array([0.])"
      ]
     },
     "execution_count": 26,
     "metadata": {},
     "output_type": "execute_result"
    }
   ],
   "source": [
    "df[df['female_child_born'] == 0]['female_child_live'].unique()"
   ]
  },
  {
   "cell_type": "markdown",
   "metadata": {},
   "source": [
    "### infertility_options"
   ]
  },
  {
   "cell_type": "code",
   "execution_count": 27,
   "metadata": {},
   "outputs": [
    {
     "name": "stdout",
     "output_type": "stream",
     "text": [
      "Unique values: ['Default' 'FRU' 'Others' 'District Hospital']\n",
      "No. of unique values: 4\n",
      "Missing values count: 0 / 1741978\n",
      "Missing values %: 0.0\n",
      "Value counts: \n",
      "Default              99.105901\n",
      "FRU                   0.413323\n",
      "Others                0.355228\n",
      "District Hospital     0.125547\n",
      "Name: infertility_options, dtype: float64\n"
     ]
    },
    {
     "data": {
      "image/png": "[encoded data removed]",
      "text/plain": [
       "<Figure size 720x360 with 1 Axes>"
      ]
     },
     "metadata": {},
     "output_type": "display_data"
    }
   ],
   "source": [
    "categorical_eda(df, 'infertility_options', (10, 5))"
   ]
  },
  {
   "cell_type": "code",
   "execution_count": 28,
   "metadata": {},
   "outputs": [
    {
     "name": "stdout",
     "output_type": "stream",
     "text": [
      "<class 'pandas.core.frame.DataFrame'>\n",
      "RangeIndex: 1741978 entries, 0 to 1741977\n",
      "Data columns (total 34 columns):\n",
      " #   Column                 Dtype  \n",
      "---  ------                 -----  \n",
      " 0   id                     object \n",
      " 1   state                  object \n",
      " 2   district               object \n",
      " 3   poverty_line           object \n",
      " 4   case_no                float64\n",
      " 5   caste                  object \n",
      " 6   registration_date      object \n",
      " 7   mother_deleted         object \n",
      " 8   mother_deleted_time    object \n",
      " 9   female_child_born      float64\n",
      " 10  female_child_live      float64\n",
      " 11  infertility_options    object \n",
      " 12  infertility_refer      object \n",
      " 13  infertility_status     object \n",
      " 14  male_child_born        float64\n",
      " 15  male_child_live        float64\n",
      " 16  is_pregnant            object \n",
      " 17  pregnancy_test_result  object \n",
      " 18  pw_aadhaar_linked      object \n",
      " 19  re_reg_status          object \n",
      " 20  reason_for_deletion    object \n",
      " 21  registration_no        float64\n",
      " 22  religion               object \n",
      " 23  rural_urban            object \n",
      " 24  wife_current_age       float64\n",
      " 25  wife_marry_age         float64\n",
      " 26  young_child_age_month  float64\n",
      " 27  young_child_age_year   float64\n",
      " 28  young_child_gender     object \n",
      " 29  hus_current_age        float64\n",
      " 30  hus_marry_age          float64\n",
      " 31  isactive               object \n",
      " 32  previous_status        float64\n",
      " 33  created_on             object \n",
      "dtypes: float64(13), object(21)\n",
      "memory usage: 451.9+ MB\n"
     ]
    }
   ],
   "source": [
    "df.info()"
   ]
  },
  {
   "cell_type": "markdown",
   "metadata": {},
   "source": [
    "### infertility_refer"
   ]
  },
  {
   "cell_type": "code",
   "execution_count": 29,
   "metadata": {},
   "outputs": [
    {
     "name": "stdout",
     "output_type": "stream",
     "text": [
      "Unique values: [nan 'Civil Hospital Kalka' 'PhD pinjore' 'PhD Pinjore' 'PHC Pinjore'\n",
      " 'pinjore' 'PHC pinjore' 'PHC  pinjore' 'GH PANCHKULA' 'Pgichd' 'PGI' 'GH'\n",
      " 'hangola' 'PHC Hangola' 'General Hospital' 'Pgi chd' 'no'\n",
      " 'COMMUNITY HEALTH CENTER' 'govt polyclinic' 'c h mandikhera'\n",
      " 'ch mandikheta' 'CHC fpjhirka' 'phc' 'P H C' 'CHC Firojpur jhirka'\n",
      " 'CHC Firoj Pur jhirka' 'CHC FP jhirka' 'CHC' 'awc' 'Subcenter'\n",
      " 'Subcentre' 'nuh' 'Mandikhera' 'phx' 'MANDIKHERA' 'home' 'PHC HANGOLA'\n",
      " 'hodal' 'CHChadal' 'CHC hodal' 'chc hodal' 'CHC Hodal' 'phc hodal'\n",
      " 'sub center' 'sub' 'hofal' 'hodsl' 'su' 'horal' 'hodall' 'PhD dudola'\n",
      " 'PhD dudhola' 'dudhola' 'yes' 'yesterday' 'yes listening' 'dhudhola'\n",
      " 'dudhols' 'dufhola' 'didhola' 'dhoudhola' 'difhola' 'dudahola'\n",
      " 'Gh palwal' 'Gh  palwal' 'phc Dudhola' 'Gh palwsl' 'Phc Dudhola'\n",
      " 'Gh paleal' 'Phc dodhala' 'Phcdudhola' 'Gh pslwal' 'Phc dudhala'\n",
      " 'Ghpslwal' 'Gh palwalwal' 'Ghpalwal' 'Phc dohola' 'Phc Dufhola'\n",
      " 'Phc dudhola' 'GH palwal' 'G H PALWAL' 'Govt' 'phc alawalpur' 'alawalpur'\n",
      " 'alwalpur' 'phe alawalpur' 'CHC hathin' 'Palwal' 'CHC hathon' 'plwal'\n",
      " 'C H C Hathin' 'chc hathin' 'CHC Hathin' 'c h c hathin' 'CHC  hathin'\n",
      " 'Chc hathin' 'palwal' 'other' 'sc' 'medicalcollege' 'khkl' 'Hathin'\n",
      " 'HATHIN' 'phc nagal jat' 'Nangal jat' 'chc agsbad' 'p  h  c  Dighot'\n",
      " 'p h  c  deeghot' 'asd' 'gh pslwal' 'phc hatine' 'ghj' 'paalwal'\n",
      " 'Civil Hospital Palwal' 'c h c' 'Gh Palwal' 'G  H  Palwal' 'G H  palwal'\n",
      " 'G H Palwal' 'G H  Palwal' 'GH Palwal' 'GHPalwal' 'G H palwsl'\n",
      " 'g H palwal' 'G h palwal' 'G h Paliwal' 'Gh  Palwal' 'G h Palwal'\n",
      " 'oalwal' 'chchathin' 'ch Palwal' 'PALWAL' 'G.H.PALWAL' 'GH PALWAL'\n",
      " 'ch hospital' 'phcallika' 'phcsllika' 'military hospital'\n",
      " 'distic hospital' 'No' 'CHC Bilaspur ynagar Haryana'\n",
      " 'CHC Bilaspur ynagar' 'CHC Bilaspur' 'CHC bilaspur' 'ynr' 'phc kharwan'\n",
      " 'kot m' 'MLGH YNR' 'chc' 'civil hospital ynr' 'MLGH Yamunanagar'\n",
      " 'Masih hosoital' 'SP HOSPITAL YAMUNANAGAR' 'Chadda Hospital'\n",
      " 'Uhc Azad Nagar' 'OTHER' 'District Hospital' 'sc rasulpur' 'sc nizampur'\n",
      " 'sc Nizampur' 'sc nijampur' 'c hc chsurmsfpur' 'CHC chourmasatpur'\n",
      " 'G h Ambala City' 'c HC chsurmstpur' 'c HC  chaurmastpur'\n",
      " 'c HC chaurmastpur' 'Private nursing home' 'CHC chaurmastpur' 'gh'\n",
      " 'community health centre' 'chc chaur mast pur' 'PHC Chaurmastpur'\n",
      " 'c h c chaurmastpur' 'CHC Chaurmast pur' 'civil hospital Ambala'\n",
      " 'civil hospital Ambala City' 'phc naggal' 'fru' 'Pvt' 'pvt' 'gh city'\n",
      " 'pvt treet' 'pH c' 'pvt treatment' 'gh Ambala cantt'\n",
      " 'Civil Hospital Ambala City' 'GH ambala' 'CHC mullana' 'Mullana' 'govt'\n",
      " 'phc nohani' 'Ambala Cant' 'CHCbarara' 'Chc' 'CHC  barara' 'CHC barara'\n",
      " 'phc ugala' 'Phc  ugala' 'chcbarara' 'chcBarara' 'GHAmbalaCity'\n",
      " 'CHCBarara' 'CHC Barara' 'C H C Barara' 'C  H C Barara' 'P H C Ugala'\n",
      " 'PHC Ugala' 'chc Barara' 'Phc Ugala' 'phc Ugala' 'Ambala' 'Phc.   Barara'\n",
      " 'phc barara' 'Phc Barara' 'phc Barara' 'Phc barara' 'phc ugala no'\n",
      " 'phc barra' 'phc  barara' 'phc   barara' 'Phc  barara' 'Phc   barara'\n",
      " 'Phc   Barara' 'Phc  Barara' 'Phc    Barara' 'ambala cantt' 'PhD barara'\n",
      " 'Phc   Bsrara' 'Ambala cantt' 'CHC BARARA' 'phcbarara' 'phc bararA'\n",
      " 'Phcbarara' 'Ambala Cantt' 'CHC Barbara' 'CHC barars' 'ambala' 'barara'\n",
      " 'Barara' 'GH AMBALA' 'SDH AMBALA CANTT' 'shahzadpur' 'Shahzadpur'\n",
      " 'Shahzadpur lo' 'shahzadpur and' 'shahzadpur Ko' 'CSE Shahzadpur'\n",
      " 'Siddapura' 'Sujanpur' 'sduper' 'FRU' 'CHC Shahzadpur' 'CHC  sahzsdpur'\n",
      " 'CHC sahzadpur' 'CSC Sujanpur' 'PSC Sujanpur' 'CSC Shahzadpur'\n",
      " 'CSC Shahzadpurr' 'Sujapur' 'ShahzadpurMo' 'Shadpur' 'shswar'\n",
      " 'so job for' 'chazsdpur' 'Shajapur my' 'chc shazadpur' 'Shajapur'\n",
      " 'shahjadpur' 'Shahzad aur' 'SHADPUR' 'CHAZADPUR' 'ShajapurShajapur'\n",
      " 'chc Shahzadpur' 'hospital' 'p h c ambli' 'ch naraingarh' 'phc ambli'\n",
      " 'CHambala' 'ch naringarh' 'PHC ambli' 'phcambli' 'ch narsingsrh'\n",
      " 'ch narsingarh' 'ch nraingarh' 'ch naraingarh garh' 'phc ambji'\n",
      " 'ch nstaingsrh' 'ch  naraingarh' 'ch nsraingsrh' 'Ch naraingarh'\n",
      " 'ch naraingrh' 'ch lakhnora' 'chnaraingarh    to' 'ch Narsingh' 'ch ngh'\n",
      " 'ambli' 'kurali' 'premrial PSC kurali' 'CH' 'Kesari' 'phc Kesari' 'Gh'\n",
      " 'civil hospital Ambala cantt' 'GH ambala city' 'ghambalacity'\n",
      " 'Ghambalacity' 'UPHC RAVIDASS MAJARI' 'GH ambala City'\n",
      " 'uphc ravidass majari' 'uphcravidassmajari' 'GHAmbalacity'\n",
      " 'GH Ambala City' 'gh Ambala City' 'GH ambala city or' 'gh Ambala city'\n",
      " 'GhAmbalaCity' 'ghAmbalacity' 'uphc ravidassmajari' 'DUDHOLA'\n",
      " 'PH C ALLIKA' 'PHC PINJORE' 'PHC DUDHOLA' 'PHC DHUDHOLA' 'PHC ALAWALPUR'\n",
      " 'PHC ALWALPUR' 'PH ALAWALPUR' 'CH NARAINGARH' 'PHC AMBLI' 'PHC SMBLI'\n",
      " 'CH  NARAINGARH' 'ALAWALPUR' 'GHPALWAL' 'PHC BARARA' 'chc satnali'\n",
      " 'gh nnl' 'nnl' 'G.H' 'govt hospital narnaul' 'Gh Nnl'\n",
      " 'civil hospital narnaul' 'mohender garh' 'M' 'Male' 'gh marh' 'GH m garh'\n",
      " 'SDH MAHENDRAGARH' 'PHC UGALA' 'cH AMBALA CANTT' 'GH AMBALA CANTT'\n",
      " 'gh karnal' 'gh Karnal' 'ghkarnal' 'GH karnal' 'PHCMadhuban' 'Gh karnal'\n",
      " 'kutail' 'phc  kutsil' 'phc   kutail' 'phc  kutail' 'PHC  Kutil'\n",
      " 'phc kutail' 'kcmc' 'CHC assandh' 'Any Other' 'Bahri' 'sc nigdhu'\n",
      " 'phc nigrhu' 'gh nilokheri' 'sub centre abla' 'abla' 'ABELA' 'ABLA'\n",
      " 'nigdhu' 'nilokheri' 'njgdhu' 'karnal' 'Sitamai' 'Phc' 'sitamai'\n",
      " 'phcnilokheri' 'PhDnilokheri' 'nlk' 'PHCnlk' 'PHCnilokheri'\n",
      " 'phc nilokheri' 'PHc nlk' 'sdh nlk' 'phc nlk' 'SDH nlk' 'G h nlk' 'g'\n",
      " 'sdhnlk' 'Sdh nlk' 'sdh' 'sdh  nlk' 'SDH  nilokheri' 'Phc nlk'\n",
      " 'SDH nilokheri' 'Sdh Nilokheri' 'sab centre sandhir' 'sandhir sab centre'\n",
      " 'phc Nilokheri' 'phc  nilokheri' 'sdh nilokheri' 'SDH nilokhedi'\n",
      " 'GH NILOKHERI' 'GH nlk' 'GH Nlk' 'GHK' 'GHKNL' 'UPHCinderacoloney'\n",
      " 'uphc Ramnagr' 'District hospital' 'districthospital'\n",
      " 'uphcCitydispensary' 'civilhospital' 'Pataudi' 'Pataudi CHC'\n",
      " 'CHC Pataudi' 'Pataudi w no' 'c h c ptd' 'SDCHPTD' 'SDCH PTD'\n",
      " 'SDCH P t d' 'S D C H P T D' 'SDCH' 'S D C H PTD' 'Phckasan' 'phckasan'\n",
      " 'district  hospital Gurgaon' 'government hospital Gurgaon' 'Gh Gurgaon'\n",
      " 'Gh hospital Gurgaon' 'GH  Gurgaon' 'GH Gurgaon' 'phc kasan' 'PHC kasan'\n",
      " 'Phc kassn' 'Phc kasan' 'Manesar' 'folic acid' 'iron  folic acid' 'c H c'\n",
      " 'C H C' 'c hc' 'GH Gurgaon sec  ten' 'SDH Pataudi' 'safdarjang'\n",
      " 'narayni hospital' 'wajlrabsd' 'LEPRO' 'CC' 'OP' 'C.C.' 'O.P.' 'C.T.'\n",
      " 'C.C' 'C.T' 'NSV' 'Multiload' 'IUD' 'CT' 'GH SEC 10' 'Sec 10' 'sohna'\n",
      " 'G H sohns' 'GhHospital Gurgaon' 'P H C Badshahpur' 'ggn' 'Gurgaon'\n",
      " 'sidhrawali' 'ghgurugram' 'Pvt hospital ggn' 'ch' 'dh'\n",
      " 'uphc Rajendra park' 'uphc Rajendra' 'Ch' 'in' 'cH' 'ka' 'ch ggn'\n",
      " 'DH Gurgaon' 'DH   Gurgaon' 'CH Gurgaon' 'CH  Gurgaon' 'civil hospital'\n",
      " 'uphc Gandhi Nagar' 'Civil hospital' 'other Pvt' 'upch Gandhi nagar'\n",
      " 'uphcgandhinagar' 'civil Hospital' 'District Hospital Gurugram'\n",
      " 'district Hospital Gurugram' 'CHC HODAL' 'GH AMBALA CANYY'\n",
      " 'UPHC GANDHI NAGAR' 'UPHC GANDHI NAGAR ' 'SHAHZADPUR' 'PHC  BARARA'\n",
      " 'GHMGSRH' 'CHNARAINGARH' 'G H' 'P H C AMBLI' 'GGN' 'C H C NAGAL  SIROHI'\n",
      " 'CH GURUGRAM' 'PHC WEZIRA BAD' 'GH Hisar' 'CHC aryanagar' 'Arya Nagar'\n",
      " 'C H C Barwala' 'phcdhansu' 'gh Hisar' 'Hisar' 'subcenter' 'Gh Hisar'\n",
      " 'Gh Hansi' 'GHHisar' 'otherpablikfaciliti' 'phc umra' 'G H Hansi'\n",
      " 'general hospital hansi' 'SCjagan' 'ph' 'hissar' 'ghadmpur' 'hisar'\n",
      " 'phc noli Kalan' 'phc neoli clan' 'SDH Adampur' 'PRIVATE HOSPITAL'\n",
      " 'GH Hansi' 'PHC' 'Bass Akbarpur' 'gh Hansi' 'HAJAMPUR  to' 'HAJAMPUR'\n",
      " 'g h hanssi' 'hajampur' 'Subcenter Uklana' 'sc uklana' 'sc Madanpura'\n",
      " 'sc madanpura' 'Sc Madanpura' 'Sc madanpura' 'Sc Madsnpura' 'uklana'\n",
      " 'CHC uklana' 'sc chamsrkhera' 'chamarkhera' 'sc chamarkhera'\n",
      " 'chsmarkhera' 'sc chsmarkhera' 'sc chamarkhers' 'SC Chamarkhera'\n",
      " 'SC chamarkhera' 'SC chamarkhers' 'sc Chamarkhera' 'sc bithmara'\n",
      " 'bithmara' 'surewala' 'Sub center' 'subcentre' 'banbhori' 'CHCuklana'\n",
      " 'PHCdaulatpur' 'phc uklana' 'agroha' 'UHC AZAD NAGAR'\n",
      " 'UHC AZAD NAGAR HISAR' 'UHC AZAD ANAGR' 'Uhc Azad Ngar' 'UHC AZAD NAGR'\n",
      " 'UHC AZAD ANAGAR' 'Uhc Azad Nagar Hisar' 'UHC AGAD NAGAR' 'AZAD NAGAR'\n",
      " 'Uhc Azad Nagara' 'GHHiear' 'Uhc Azad ngr ar' 'GH Hissar'\n",
      " 'Uhc Azda Nagar' 'UHC AZDA NAGAR' 'GH hisar' 'Uhc AZAD NAGAR' 'GHHISAR'\n",
      " 'gh hiear' 'Uphc Patel Nagar' 'Uphc Patel Nagr' 'Patel Ngr' 'Patel Nagar'\n",
      " 'Patel Nagr' 'PATEL NAGAR' 'Patelnagar' 'Patel' 'PATEL NGR'\n",
      " 'Patel  Nagar' 'Ptl Ngr' 'PATELNGR' 'PATEL  NAGAR' 'Uphc Ptl Ngr'\n",
      " 'PTL NGR' 'uphc Patel Nagar' 'PATEL' 'Ptl Nagr' 'aazad Nagar'\n",
      " 'azad Nagar' 'Azad Nagar' 'Azad Naagr' 'UPHCPatel Nager'\n",
      " 'Patel Nagar _Hisar' 'PATEL NAGRAR' 'Uphc Patel Naagr' 'Azad Nagr'\n",
      " 'Patlenagar' 'Chander line' 'PATEL NAGR' 'PATEL NGAR' 'Ptel Nagr'\n",
      " 'Patelngr' 'Patl Ngr' 'PatelNagar' 'Pate Ngr' 'ups Patel Nagar' 'Gh hsr'\n",
      " 'UPHC Rishi Nagar' 'UHC SEC' 'UHC sec' 'UHC' 'uhc' 'uhc secter' 'SEC'\n",
      " 'Uhc' 'UHC SECTOR 1-4' 'GH hansi' 'uphc hansi' 'g h hansi' 'UPC hansi'\n",
      " 'uphc' 'UHC Sector 1-4_ Hisar' 'Urban Health Center'\n",
      " 'Urban Health Center _ Hisar' 'Urban Health  Center'\n",
      " 'Urban Health Center_ Hisar' 'G.H._ Hisar' 'G.H. Hisar' 'G H Hisar'\n",
      " 'PHC Kachhwa' 'AMBALA CANTT' 'C HC CHAURMASTPUR' 'PHC CHAURMASTPUR'\n",
      " 'CHC CHAURMASTPUR' 'C H C HATHIN' 'GHMG' 'CHC BARBARA' 'gh jind'\n",
      " 'PHC ALEWA' 'GH JIND' 'Phc ramrai' 'right hand on a mole' 'chc Julana'\n",
      " 'Rotak pgi' 'julana' 'CHC safidon' 'CHC safdon' 'CHCsafidon'\n",
      " 'cHc safidon' 'safidon' 'gh jid' 'g h jind' 'sub centre' 'gh kjind'\n",
      " 'ghjind' 'ghjinc' 'CHC uchana' 'PHC Chhatter' 'NIce' 'Narwana'\n",
      " 'general hospital narwana' 'g h Narwana' 'gharwans' 'ghnarwana'\n",
      " 'g h narwana' 'phcslinsar' 'phcsinsar' 'phcsisar' 'for fertility' 'Yes'\n",
      " 'PHC Dhamtan Sahib' 'SDH NARWANA' 'SDH Narwana' 'PHC Dhamtansahib'\n",
      " 'Phc Dhamtan Shib' 'YES' 'Yrs' 'Yès' 'Phone Dhanauri' 'GH Jind' 'Ghjind'\n",
      " 'Gh Jind' '0' 'GHJIND' 'Ghjnid' 'Hgjind' 'Ghjhind' 'Ggjind' 'Gh  Jind'\n",
      " 'Gh Ji Nd' 'Gh J9nd' 'Jind' 'Sc Danoda Khurd' 'Ghj Jind' 'Gh Jing'\n",
      " 'Gh Jnd' 'G Jind Ads' 'Gh Jined' 'Ghb Jind' 'Gi Jind' 'Gh Jinde'\n",
      " 'G H Jind' 'Gh jind' 'jind' 'CHC kandela' 'CHC  kandela' 'GHJind'\n",
      " 'CivilHospitalJind' 'DH Jind district hospital' 'Civil Hospital Jind'\n",
      " 'General Hospital Jind' 'Civil Hospital JindCivil Hospital Jind'\n",
      " 'Civil Hospital jind' 'Civil Hospital gym' 'Civil Hospital' 'Gh Narwana'\n",
      " 'pillukhera' 'civil hospital jind' 'ch jind' 'CH jind' 'c h Jind'\n",
      " 'chjind' 'GH  Jind' 'Gh  jind' 'gh  jind' 'high' 'PHC NLK' 'HWC NEWAL'\n",
      " 'PHC NOORPUR' 'g h sirsa' 'GH sirsa' 'Ghsirsa' 'gh sirsa' 'GH Sirsa'\n",
      " 'subcentrekanganpur' 'chattrian' 'chc baragudha' 'subcentre chattrian'\n",
      " 'phc keherwala' 'phc kehrwala' 'p h c kahar wala' 'phc keharwala'\n",
      " 'gh Sirsa' 'PHC keharwala' 'gen hospital Dabwali' 'GH Mandi Danwali'\n",
      " 'Dabwali' 'phcdadu' 'phcdadultI will' 'phcdadu fr' 'phcdadu FR'\n",
      " 'phcdaduI' 'phcdadu yr' 'Govt. Hospital Sirsa' 'phc jagmalera'\n",
      " 'CHATTARGARH PATTI' 'Chattargarh Patti Sirsa' 'Chattargarh Patti'\n",
      " 'CHATTARGARH P ATTI' 'CHATTARGARH PATTI SIRSA' 'PREM NAGAR'\n",
      " 'CIVIL HOSPITAL' 'SC BHAWDIN' 'GH SIRSA' 'PHC BHAVDEEN'\n",
      " 'CHC Nathusari Chopta' 'SC CHAMARKHERA' 'SUREWALA' 'PHC GGH ' 'GU'\n",
      " 'PINJOREI' 'PINJORE' 'GH KAITHAL' 'district hospital' 'gh kaithal'\n",
      " 'gh ktk' 'ghktl' 'gh Kylie' 'ktl' 'gh ktl' 'gh ktt' 'gh ktll' 'ghktl I'\n",
      " 'DELIVERY DATE 27/09/2016' 'Phc Siwan' 'CHC Rajound' 'chd' 'pgi' 'guhla'\n",
      " 'CHCGUHLA' 'GH ktl' 'Rajindra Hospital patiala' 'phc kharkna' 'kangthali'\n",
      " 'phc batta' 'KAITHAL' 'PHC Batta' 'Phc Batta' 'Phc batta' 'phc Batta'\n",
      " 'p h c' 'PHC BATTA' 'Phc  Batta' 'Phc Baata' 'CHC Kaul' 'Phc Dhand'\n",
      " 'Pvt Ktl' 'CHC kaul' 'phc   dhand' 'PHC DHAND' 'phc dhand'\n",
      " 'Pvt hospital with' 'GH ktl Im' 'Sub center for' 'Sub Center'\n",
      " 'chc rajound' 'c h c rajound' 'phc karora' 'karora' 'PHC jakholi'\n",
      " 'Civil  Ktl' 'Phc Padla' 'Phc padla' 'phc padla' 'Budhakhera'\n",
      " 'Civil Hospital Kaithal' 'Ch Kaithal' 'phc keorak' 'phc pettel nagar'\n",
      " 'GH kaithal' 'phc Patel nagar' 'phc Patel Nagar' 'gh Kaithal' 'ghkaithal'\n",
      " 'phc Patel nager' 'pettel nagar kaithal' 'phc Patel nagar kaithal'\n",
      " 'Jeewan Joyti Kaithal' 'GH Kaithal' 'PPC Kaithal' 'g h Kaithal'\n",
      " 'PPC GH Kaithal' 'GH kaithal you' 'UPHC RAJENDRA PARK' 'HODAL'\n",
      " 'GH AMBALA CITY' 'pHC DUDHOLA' 'P HC' 'GHSIRSA' 'S C CHATTRIAN'\n",
      " 'SC CHATTRIAN' 'DURGA NAGAR' 'Other' 'SUJANPUR' 'CHC SAFIDON' 'G H HANSI'\n",
      " 'NLK' 'SDH NOK' 'GURUGRAM' 'YNR' 'YMR' 'SDH NLK' 'PHC PALWAL'\n",
      " 'CH NSRAINGARH' 'CH NARAIN GARH' 'CIVIL HOSPITAL YNR' 'GHKTL'\n",
      " 'PHC NEOLI CLAN' 'PHC ' 'PHC JUNDIA' 'CH NARSINGARH' 'PHCAMBLI' 'NIGDHU'\n",
      " 'PHC DCDHOLA' 'PHC DODHOLS' 'PHC DODHOLA' 'PHC NILOKHERI' 'NO'\n",
      " 'SUB CENTER' 'SUB  CENTER' 'PHC NANAKPUR' 'GOVT' 'PHC PATEL NAGER'\n",
      " 'PHC PATEL NAGAR' ' GH KAITHAL' 'CHC BABARA' 'PHC DESU JODHA'\n",
      " 'CHC BILASPUR YNAGAR' 'KARNSL' 'SUKHRALI' 'C H C ARYANAGAR' ' CHC KANINA'\n",
      " 'PHC JAMALGARG ' 'SC NIGDHU' 'GH  JIND' 'SC PADHENI' 'NANGAL JAT'\n",
      " 'PATEL NAGER' 'Uhc  Azad Nagar' 'UPHC PATEL NAGERKTL' 'SUB CENTRE'\n",
      " 'SUBCENTRE CHATTRIAN' 'CH JIND' 'CHC BILASPUR' 'CSC SAHJADPUR'\n",
      " 'CHC Uklana' 'UHC AZAD  NAGAR' 'G H KNL' 'KNL' 'CIVIL HOSPITAL PALWAL'\n",
      " 'Uhc Zazad Nagar' 'Uhc Azad Ngr' 'GH JOND' 'JIND' 'SHAHZADPURSHAHZADPUR'\n",
      " 'SUBCENTER' 'RAIPUR RANI' 'SUBCENTRAL CHHATRIYAN' 'P H C DARBI'\n",
      " 'PHCBATTA' '  NO' 'DURGA NAGAR  AMBALA CITY' 'TUGALPUR' 'PHC NILOKHEDI'\n",
      " 'SDH NILOKHERI' 'Civil Hospital Sirsa' 'SUB ENTER' 'PHC FT' 'PVT'\n",
      " 'GH PKL' 'PHCDADU' 'CHC RANIA' 'SUB CENTRE SULTANPUR' 'DABWALI'\n",
      " 'PHC  UGALA' 'PRIVATE' 'AKALGARH' 'C H C KHARK Ramji' 'G HKNL'\n",
      " 'CIVIL HOSPITAL JADHARI' 'G H   K NL' 'Phc Nilokheri' 'PHC DADU' 'Sc'\n",
      " 'GH KARNAL' 'SUBCENTRE' 'CHPKL' 'Sdh Nlk' 'UPHC RAVIDAS MAJRI'\n",
      " 'SUBCENTRR']\n",
      "No. of unique values: 970\n",
      "Missing values count: 1728567 / 1741978\n",
      "Missing values %: 0.992301280498376\n",
      "Value counts: \n",
      "Ambala Cant       15.293416\n",
      "Gh Jind           10.812020\n",
      "Uhc Azad Nagar     5.055551\n",
      "UHC AZAD NAGAR     3.325628\n",
      "Ambala             2.736560\n",
      "                    ...    \n",
      "Phc dudhala        0.007457\n",
      "C H C Hathin       0.007457\n",
      "Subcentre          0.007457\n",
      "uphc               0.007457\n",
      "p h c ambli        0.007457\n",
      "Name: infertility_refer, Length: 970, dtype: float64\n"
     ]
    },
    {
     "ename": "KeyboardInterrupt",
     "evalue": "",
     "output_type": "error",
     "traceback": [
      "\u001b[1;31m---------------------------------------------------------------------------\u001b[0m",
      "\u001b[1;31mKeyboardInterrupt\u001b[0m                         Traceback (most recent call last)",
      "\u001b[1;32m<ipython-input-29-7bd5ab1fc05e>\u001b[0m in \u001b[0;36m<module>\u001b[1;34m\u001b[0m\n\u001b[1;32m----> 1\u001b[1;33m \u001b[0mcategorical_eda\u001b[0m\u001b[1;33m(\u001b[0m\u001b[0mdf\u001b[0m\u001b[1;33m,\u001b[0m \u001b[1;34m'infertility_refer'\u001b[0m\u001b[1;33m,\u001b[0m \u001b[1;33m(\u001b[0m\u001b[1;36m10\u001b[0m\u001b[1;33m,\u001b[0m \u001b[1;36m5\u001b[0m\u001b[1;33m)\u001b[0m\u001b[1;33m)\u001b[0m\u001b[1;33m\u001b[0m\u001b[1;33m\u001b[0m\u001b[0m\n\u001b[0m",
      "\u001b[1;32me:\\gokul\\research\\child_health_casestudy\\src\\visualization\\visualize.py\u001b[0m in \u001b[0;36mcategorical_eda\u001b[1;34m(df, feature, fig_size)\u001b[0m\n\u001b[0;32m     16\u001b[0m         \u001b[0mplt\u001b[0m\u001b[1;33m.\u001b[0m\u001b[0mxticks\u001b[0m\u001b[1;33m(\u001b[0m\u001b[0mrotation\u001b[0m \u001b[1;33m=\u001b[0m \u001b[1;36m90\u001b[0m\u001b[1;33m)\u001b[0m\u001b[1;33m\u001b[0m\u001b[1;33m\u001b[0m\u001b[0m\n\u001b[0;32m     17\u001b[0m         \u001b[0mplt\u001b[0m\u001b[1;33m.\u001b[0m\u001b[0mtitle\u001b[0m\u001b[1;33m(\u001b[0m\u001b[1;34m'{} countplot'\u001b[0m\u001b[1;33m.\u001b[0m\u001b[0mformat\u001b[0m\u001b[1;33m(\u001b[0m\u001b[0mfeature\u001b[0m\u001b[1;33m)\u001b[0m\u001b[1;33m)\u001b[0m\u001b[1;33m\u001b[0m\u001b[1;33m\u001b[0m\u001b[0m\n\u001b[1;32m---> 18\u001b[1;33m         \u001b[0mplt\u001b[0m\u001b[1;33m.\u001b[0m\u001b[0mshow\u001b[0m\u001b[1;33m(\u001b[0m\u001b[1;33m)\u001b[0m\u001b[1;33m\u001b[0m\u001b[1;33m\u001b[0m\u001b[0m\n\u001b[0m\u001b[0;32m     19\u001b[0m \u001b[1;33m\u001b[0m\u001b[0m\n\u001b[0;32m     20\u001b[0m \u001b[1;32mdef\u001b[0m \u001b[0mtimeseries_eda\u001b[0m\u001b[1;33m(\u001b[0m\u001b[0mdf\u001b[0m\u001b[1;33m,\u001b[0m \u001b[0mfeature\u001b[0m\u001b[1;33m,\u001b[0m \u001b[0mfig_size\u001b[0m\u001b[1;33m)\u001b[0m\u001b[1;33m:\u001b[0m\u001b[1;33m\u001b[0m\u001b[1;33m\u001b[0m\u001b[0m\n",
      "\u001b[1;32mE:\\Gokul\\Anaconda\\envs\\mldev\\lib\\site-packages\\matplotlib\\pyplot.py\u001b[0m in \u001b[0;36mshow\u001b[1;34m(*args, **kwargs)\u001b[0m\n\u001b[0;32m    351\u001b[0m     \"\"\"\n\u001b[0;32m    352\u001b[0m     \u001b[0m_warn_if_gui_out_of_main_thread\u001b[0m\u001b[1;33m(\u001b[0m\u001b[1;33m)\u001b[0m\u001b[1;33m\u001b[0m\u001b[1;33m\u001b[0m\u001b[0m\n\u001b[1;32m--> 353\u001b[1;33m     \u001b[1;32mreturn\u001b[0m \u001b[0m_backend_mod\u001b[0m\u001b[1;33m.\u001b[0m\u001b[0mshow\u001b[0m\u001b[1;33m(\u001b[0m\u001b[1;33m*\u001b[0m\u001b[0margs\u001b[0m\u001b[1;33m,\u001b[0m \u001b[1;33m**\u001b[0m\u001b[0mkwargs\u001b[0m\u001b[1;33m)\u001b[0m\u001b[1;33m\u001b[0m\u001b[1;33m\u001b[0m\u001b[0m\n\u001b[0m\u001b[0;32m    354\u001b[0m \u001b[1;33m\u001b[0m\u001b[0m\n\u001b[0;32m    355\u001b[0m \u001b[1;33m\u001b[0m\u001b[0m\n",
      "\u001b[1;32mE:\\Gokul\\Anaconda\\envs\\mldev\\lib\\site-packages\\ipykernel\\pylab\\backend_inline.py\u001b[0m in \u001b[0;36mshow\u001b[1;34m(close, block)\u001b[0m\n\u001b[0;32m     39\u001b[0m     \u001b[1;32mtry\u001b[0m\u001b[1;33m:\u001b[0m\u001b[1;33m\u001b[0m\u001b[1;33m\u001b[0m\u001b[0m\n\u001b[0;32m     40\u001b[0m         \u001b[1;32mfor\u001b[0m \u001b[0mfigure_manager\u001b[0m \u001b[1;32min\u001b[0m \u001b[0mGcf\u001b[0m\u001b[1;33m.\u001b[0m\u001b[0mget_all_fig_managers\u001b[0m\u001b[1;33m(\u001b[0m\u001b[1;33m)\u001b[0m\u001b[1;33m:\u001b[0m\u001b[1;33m\u001b[0m\u001b[1;33m\u001b[0m\u001b[0m\n\u001b[1;32m---> 41\u001b[1;33m             display(\n\u001b[0m\u001b[0;32m     42\u001b[0m                 \u001b[0mfigure_manager\u001b[0m\u001b[1;33m.\u001b[0m\u001b[0mcanvas\u001b[0m\u001b[1;33m.\u001b[0m\u001b[0mfigure\u001b[0m\u001b[1;33m,\u001b[0m\u001b[1;33m\u001b[0m\u001b[1;33m\u001b[0m\u001b[0m\n\u001b[0;32m     43\u001b[0m                 \u001b[0mmetadata\u001b[0m\u001b[1;33m=\u001b[0m\u001b[0m_fetch_figure_metadata\u001b[0m\u001b[1;33m(\u001b[0m\u001b[0mfigure_manager\u001b[0m\u001b[1;33m.\u001b[0m\u001b[0mcanvas\u001b[0m\u001b[1;33m.\u001b[0m\u001b[0mfigure\u001b[0m\u001b[1;33m)\u001b[0m\u001b[1;33m\u001b[0m\u001b[1;33m\u001b[0m\u001b[0m\n",
      "\u001b[1;32mE:\\Gokul\\Anaconda\\envs\\mldev\\lib\\site-packages\\IPython\\core\\display.py\u001b[0m in \u001b[0;36mdisplay\u001b[1;34m(include, exclude, metadata, transient, display_id, *objs, **kwargs)\u001b[0m\n\u001b[0;32m    311\u001b[0m             \u001b[0mpublish_display_data\u001b[0m\u001b[1;33m(\u001b[0m\u001b[0mdata\u001b[0m\u001b[1;33m=\u001b[0m\u001b[0mobj\u001b[0m\u001b[1;33m,\u001b[0m \u001b[0mmetadata\u001b[0m\u001b[1;33m=\u001b[0m\u001b[0mmetadata\u001b[0m\u001b[1;33m,\u001b[0m \u001b[1;33m**\u001b[0m\u001b[0mkwargs\u001b[0m\u001b[1;33m)\u001b[0m\u001b[1;33m\u001b[0m\u001b[1;33m\u001b[0m\u001b[0m\n\u001b[0;32m    312\u001b[0m         \u001b[1;32melse\u001b[0m\u001b[1;33m:\u001b[0m\u001b[1;33m\u001b[0m\u001b[1;33m\u001b[0m\u001b[0m\n\u001b[1;32m--> 313\u001b[1;33m             \u001b[0mformat_dict\u001b[0m\u001b[1;33m,\u001b[0m \u001b[0mmd_dict\u001b[0m \u001b[1;33m=\u001b[0m \u001b[0mformat\u001b[0m\u001b[1;33m(\u001b[0m\u001b[0mobj\u001b[0m\u001b[1;33m,\u001b[0m \u001b[0minclude\u001b[0m\u001b[1;33m=\u001b[0m\u001b[0minclude\u001b[0m\u001b[1;33m,\u001b[0m \u001b[0mexclude\u001b[0m\u001b[1;33m=\u001b[0m\u001b[0mexclude\u001b[0m\u001b[1;33m)\u001b[0m\u001b[1;33m\u001b[0m\u001b[1;33m\u001b[0m\u001b[0m\n\u001b[0m\u001b[0;32m    314\u001b[0m             \u001b[1;32mif\u001b[0m \u001b[1;32mnot\u001b[0m \u001b[0mformat_dict\u001b[0m\u001b[1;33m:\u001b[0m\u001b[1;33m\u001b[0m\u001b[1;33m\u001b[0m\u001b[0m\n\u001b[0;32m    315\u001b[0m                 \u001b[1;31m# nothing to display (e.g. _ipython_display_ took over)\u001b[0m\u001b[1;33m\u001b[0m\u001b[1;33m\u001b[0m\u001b[1;33m\u001b[0m\u001b[0m\n",
      "\u001b[1;32mE:\\Gokul\\Anaconda\\envs\\mldev\\lib\\site-packages\\IPython\\core\\formatters.py\u001b[0m in \u001b[0;36mformat\u001b[1;34m(self, obj, include, exclude)\u001b[0m\n\u001b[0;32m    178\u001b[0m             \u001b[0mmd\u001b[0m \u001b[1;33m=\u001b[0m \u001b[1;32mNone\u001b[0m\u001b[1;33m\u001b[0m\u001b[1;33m\u001b[0m\u001b[0m\n\u001b[0;32m    179\u001b[0m             \u001b[1;32mtry\u001b[0m\u001b[1;33m:\u001b[0m\u001b[1;33m\u001b[0m\u001b[1;33m\u001b[0m\u001b[0m\n\u001b[1;32m--> 180\u001b[1;33m                 \u001b[0mdata\u001b[0m \u001b[1;33m=\u001b[0m \u001b[0mformatter\u001b[0m\u001b[1;33m(\u001b[0m\u001b[0mobj\u001b[0m\u001b[1;33m)\u001b[0m\u001b[1;33m\u001b[0m\u001b[1;33m\u001b[0m\u001b[0m\n\u001b[0m\u001b[0;32m    181\u001b[0m             \u001b[1;32mexcept\u001b[0m\u001b[1;33m:\u001b[0m\u001b[1;33m\u001b[0m\u001b[1;33m\u001b[0m\u001b[0m\n\u001b[0;32m    182\u001b[0m                 \u001b[1;31m# FIXME: log the exception\u001b[0m\u001b[1;33m\u001b[0m\u001b[1;33m\u001b[0m\u001b[1;33m\u001b[0m\u001b[0m\n",
      "\u001b[1;32m<decorator-gen-2>\u001b[0m in \u001b[0;36m__call__\u001b[1;34m(self, obj)\u001b[0m\n",
      "\u001b[1;32mE:\\Gokul\\Anaconda\\envs\\mldev\\lib\\site-packages\\IPython\\core\\formatters.py\u001b[0m in \u001b[0;36mcatch_format_error\u001b[1;34m(method, self, *args, **kwargs)\u001b[0m\n\u001b[0;32m    222\u001b[0m     \u001b[1;34m\"\"\"show traceback on failed format call\"\"\"\u001b[0m\u001b[1;33m\u001b[0m\u001b[1;33m\u001b[0m\u001b[0m\n\u001b[0;32m    223\u001b[0m     \u001b[1;32mtry\u001b[0m\u001b[1;33m:\u001b[0m\u001b[1;33m\u001b[0m\u001b[1;33m\u001b[0m\u001b[0m\n\u001b[1;32m--> 224\u001b[1;33m         \u001b[0mr\u001b[0m \u001b[1;33m=\u001b[0m \u001b[0mmethod\u001b[0m\u001b[1;33m(\u001b[0m\u001b[0mself\u001b[0m\u001b[1;33m,\u001b[0m \u001b[1;33m*\u001b[0m\u001b[0margs\u001b[0m\u001b[1;33m,\u001b[0m \u001b[1;33m**\u001b[0m\u001b[0mkwargs\u001b[0m\u001b[1;33m)\u001b[0m\u001b[1;33m\u001b[0m\u001b[1;33m\u001b[0m\u001b[0m\n\u001b[0m\u001b[0;32m    225\u001b[0m     \u001b[1;32mexcept\u001b[0m \u001b[0mNotImplementedError\u001b[0m\u001b[1;33m:\u001b[0m\u001b[1;33m\u001b[0m\u001b[1;33m\u001b[0m\u001b[0m\n\u001b[0;32m    226\u001b[0m         \u001b[1;31m# don't warn on NotImplementedErrors\u001b[0m\u001b[1;33m\u001b[0m\u001b[1;33m\u001b[0m\u001b[1;33m\u001b[0m\u001b[0m\n",
      "\u001b[1;32mE:\\Gokul\\Anaconda\\envs\\mldev\\lib\\site-packages\\IPython\\core\\formatters.py\u001b[0m in \u001b[0;36m__call__\u001b[1;34m(self, obj)\u001b[0m\n\u001b[0;32m    339\u001b[0m                 \u001b[1;32mpass\u001b[0m\u001b[1;33m\u001b[0m\u001b[1;33m\u001b[0m\u001b[0m\n\u001b[0;32m    340\u001b[0m             \u001b[1;32melse\u001b[0m\u001b[1;33m:\u001b[0m\u001b[1;33m\u001b[0m\u001b[1;33m\u001b[0m\u001b[0m\n\u001b[1;32m--> 341\u001b[1;33m                 \u001b[1;32mreturn\u001b[0m \u001b[0mprinter\u001b[0m\u001b[1;33m(\u001b[0m\u001b[0mobj\u001b[0m\u001b[1;33m)\u001b[0m\u001b[1;33m\u001b[0m\u001b[1;33m\u001b[0m\u001b[0m\n\u001b[0m\u001b[0;32m    342\u001b[0m             \u001b[1;31m# Finally look for special method names\u001b[0m\u001b[1;33m\u001b[0m\u001b[1;33m\u001b[0m\u001b[1;33m\u001b[0m\u001b[0m\n\u001b[0;32m    343\u001b[0m             \u001b[0mmethod\u001b[0m \u001b[1;33m=\u001b[0m \u001b[0mget_real_method\u001b[0m\u001b[1;33m(\u001b[0m\u001b[0mobj\u001b[0m\u001b[1;33m,\u001b[0m \u001b[0mself\u001b[0m\u001b[1;33m.\u001b[0m\u001b[0mprint_method\u001b[0m\u001b[1;33m)\u001b[0m\u001b[1;33m\u001b[0m\u001b[1;33m\u001b[0m\u001b[0m\n",
      "\u001b[1;32mE:\\Gokul\\Anaconda\\envs\\mldev\\lib\\site-packages\\IPython\\core\\pylabtools.py\u001b[0m in \u001b[0;36m<lambda>\u001b[1;34m(fig)\u001b[0m\n\u001b[0;32m    246\u001b[0m \u001b[1;33m\u001b[0m\u001b[0m\n\u001b[0;32m    247\u001b[0m     \u001b[1;32mif\u001b[0m \u001b[1;34m'png'\u001b[0m \u001b[1;32min\u001b[0m \u001b[0mformats\u001b[0m\u001b[1;33m:\u001b[0m\u001b[1;33m\u001b[0m\u001b[1;33m\u001b[0m\u001b[0m\n\u001b[1;32m--> 248\u001b[1;33m         \u001b[0mpng_formatter\u001b[0m\u001b[1;33m.\u001b[0m\u001b[0mfor_type\u001b[0m\u001b[1;33m(\u001b[0m\u001b[0mFigure\u001b[0m\u001b[1;33m,\u001b[0m \u001b[1;32mlambda\u001b[0m \u001b[0mfig\u001b[0m\u001b[1;33m:\u001b[0m \u001b[0mprint_figure\u001b[0m\u001b[1;33m(\u001b[0m\u001b[0mfig\u001b[0m\u001b[1;33m,\u001b[0m \u001b[1;34m'png'\u001b[0m\u001b[1;33m,\u001b[0m \u001b[1;33m**\u001b[0m\u001b[0mkwargs\u001b[0m\u001b[1;33m)\u001b[0m\u001b[1;33m)\u001b[0m\u001b[1;33m\u001b[0m\u001b[1;33m\u001b[0m\u001b[0m\n\u001b[0m\u001b[0;32m    249\u001b[0m     \u001b[1;32mif\u001b[0m \u001b[1;34m'retina'\u001b[0m \u001b[1;32min\u001b[0m \u001b[0mformats\u001b[0m \u001b[1;32mor\u001b[0m \u001b[1;34m'png2x'\u001b[0m \u001b[1;32min\u001b[0m \u001b[0mformats\u001b[0m\u001b[1;33m:\u001b[0m\u001b[1;33m\u001b[0m\u001b[1;33m\u001b[0m\u001b[0m\n\u001b[0;32m    250\u001b[0m         \u001b[0mpng_formatter\u001b[0m\u001b[1;33m.\u001b[0m\u001b[0mfor_type\u001b[0m\u001b[1;33m(\u001b[0m\u001b[0mFigure\u001b[0m\u001b[1;33m,\u001b[0m \u001b[1;32mlambda\u001b[0m \u001b[0mfig\u001b[0m\u001b[1;33m:\u001b[0m \u001b[0mretina_figure\u001b[0m\u001b[1;33m(\u001b[0m\u001b[0mfig\u001b[0m\u001b[1;33m,\u001b[0m \u001b[1;33m**\u001b[0m\u001b[0mkwargs\u001b[0m\u001b[1;33m)\u001b[0m\u001b[1;33m)\u001b[0m\u001b[1;33m\u001b[0m\u001b[1;33m\u001b[0m\u001b[0m\n",
      "\u001b[1;32mE:\\Gokul\\Anaconda\\envs\\mldev\\lib\\site-packages\\IPython\\core\\pylabtools.py\u001b[0m in \u001b[0;36mprint_figure\u001b[1;34m(fig, fmt, bbox_inches, **kwargs)\u001b[0m\n\u001b[0;32m    130\u001b[0m         \u001b[0mFigureCanvasBase\u001b[0m\u001b[1;33m(\u001b[0m\u001b[0mfig\u001b[0m\u001b[1;33m)\u001b[0m\u001b[1;33m\u001b[0m\u001b[1;33m\u001b[0m\u001b[0m\n\u001b[0;32m    131\u001b[0m \u001b[1;33m\u001b[0m\u001b[0m\n\u001b[1;32m--> 132\u001b[1;33m     \u001b[0mfig\u001b[0m\u001b[1;33m.\u001b[0m\u001b[0mcanvas\u001b[0m\u001b[1;33m.\u001b[0m\u001b[0mprint_figure\u001b[0m\u001b[1;33m(\u001b[0m\u001b[0mbytes_io\u001b[0m\u001b[1;33m,\u001b[0m \u001b[1;33m**\u001b[0m\u001b[0mkw\u001b[0m\u001b[1;33m)\u001b[0m\u001b[1;33m\u001b[0m\u001b[1;33m\u001b[0m\u001b[0m\n\u001b[0m\u001b[0;32m    133\u001b[0m     \u001b[0mdata\u001b[0m \u001b[1;33m=\u001b[0m \u001b[0mbytes_io\u001b[0m\u001b[1;33m.\u001b[0m\u001b[0mgetvalue\u001b[0m\u001b[1;33m(\u001b[0m\u001b[1;33m)\u001b[0m\u001b[1;33m\u001b[0m\u001b[1;33m\u001b[0m\u001b[0m\n\u001b[0;32m    134\u001b[0m     \u001b[1;32mif\u001b[0m \u001b[0mfmt\u001b[0m \u001b[1;33m==\u001b[0m \u001b[1;34m'svg'\u001b[0m\u001b[1;33m:\u001b[0m\u001b[1;33m\u001b[0m\u001b[1;33m\u001b[0m\u001b[0m\n",
      "\u001b[1;32mE:\\Gokul\\Anaconda\\envs\\mldev\\lib\\site-packages\\matplotlib\\backend_bases.py\u001b[0m in \u001b[0;36mprint_figure\u001b[1;34m(self, filename, dpi, facecolor, edgecolor, orientation, format, bbox_inches, pad_inches, bbox_extra_artists, backend, **kwargs)\u001b[0m\n\u001b[0;32m   2191\u001b[0m                            else suppress())\n\u001b[0;32m   2192\u001b[0m                     \u001b[1;32mwith\u001b[0m \u001b[0mctx\u001b[0m\u001b[1;33m:\u001b[0m\u001b[1;33m\u001b[0m\u001b[1;33m\u001b[0m\u001b[0m\n\u001b[1;32m-> 2193\u001b[1;33m                         \u001b[0mself\u001b[0m\u001b[1;33m.\u001b[0m\u001b[0mfigure\u001b[0m\u001b[1;33m.\u001b[0m\u001b[0mdraw\u001b[0m\u001b[1;33m(\u001b[0m\u001b[0mrenderer\u001b[0m\u001b[1;33m)\u001b[0m\u001b[1;33m\u001b[0m\u001b[1;33m\u001b[0m\u001b[0m\n\u001b[0m\u001b[0;32m   2194\u001b[0m \u001b[1;33m\u001b[0m\u001b[0m\n\u001b[0;32m   2195\u001b[0m                     bbox_inches = self.figure.get_tightbbox(\n",
      "\u001b[1;32mE:\\Gokul\\Anaconda\\envs\\mldev\\lib\\site-packages\\matplotlib\\artist.py\u001b[0m in \u001b[0;36mdraw_wrapper\u001b[1;34m(artist, renderer, *args, **kwargs)\u001b[0m\n\u001b[0;32m     39\u001b[0m                 \u001b[0mrenderer\u001b[0m\u001b[1;33m.\u001b[0m\u001b[0mstart_filter\u001b[0m\u001b[1;33m(\u001b[0m\u001b[1;33m)\u001b[0m\u001b[1;33m\u001b[0m\u001b[1;33m\u001b[0m\u001b[0m\n\u001b[0;32m     40\u001b[0m \u001b[1;33m\u001b[0m\u001b[0m\n\u001b[1;32m---> 41\u001b[1;33m             \u001b[1;32mreturn\u001b[0m \u001b[0mdraw\u001b[0m\u001b[1;33m(\u001b[0m\u001b[0martist\u001b[0m\u001b[1;33m,\u001b[0m \u001b[0mrenderer\u001b[0m\u001b[1;33m,\u001b[0m \u001b[1;33m*\u001b[0m\u001b[0margs\u001b[0m\u001b[1;33m,\u001b[0m \u001b[1;33m**\u001b[0m\u001b[0mkwargs\u001b[0m\u001b[1;33m)\u001b[0m\u001b[1;33m\u001b[0m\u001b[1;33m\u001b[0m\u001b[0m\n\u001b[0m\u001b[0;32m     42\u001b[0m         \u001b[1;32mfinally\u001b[0m\u001b[1;33m:\u001b[0m\u001b[1;33m\u001b[0m\u001b[1;33m\u001b[0m\u001b[0m\n\u001b[0;32m     43\u001b[0m             \u001b[1;32mif\u001b[0m \u001b[0martist\u001b[0m\u001b[1;33m.\u001b[0m\u001b[0mget_agg_filter\u001b[0m\u001b[1;33m(\u001b[0m\u001b[1;33m)\u001b[0m \u001b[1;32mis\u001b[0m \u001b[1;32mnot\u001b[0m \u001b[1;32mNone\u001b[0m\u001b[1;33m:\u001b[0m\u001b[1;33m\u001b[0m\u001b[1;33m\u001b[0m\u001b[0m\n",
      "\u001b[1;32mE:\\Gokul\\Anaconda\\envs\\mldev\\lib\\site-packages\\matplotlib\\figure.py\u001b[0m in \u001b[0;36mdraw\u001b[1;34m(self, renderer)\u001b[0m\n\u001b[0;32m   1861\u001b[0m \u001b[1;33m\u001b[0m\u001b[0m\n\u001b[0;32m   1862\u001b[0m             \u001b[0mself\u001b[0m\u001b[1;33m.\u001b[0m\u001b[0mpatch\u001b[0m\u001b[1;33m.\u001b[0m\u001b[0mdraw\u001b[0m\u001b[1;33m(\u001b[0m\u001b[0mrenderer\u001b[0m\u001b[1;33m)\u001b[0m\u001b[1;33m\u001b[0m\u001b[1;33m\u001b[0m\u001b[0m\n\u001b[1;32m-> 1863\u001b[1;33m             mimage._draw_list_compositing_images(\n\u001b[0m\u001b[0;32m   1864\u001b[0m                 renderer, self, artists, self.suppressComposite)\n\u001b[0;32m   1865\u001b[0m \u001b[1;33m\u001b[0m\u001b[0m\n",
      "\u001b[1;32mE:\\Gokul\\Anaconda\\envs\\mldev\\lib\\site-packages\\matplotlib\\image.py\u001b[0m in \u001b[0;36m_draw_list_compositing_images\u001b[1;34m(renderer, parent, artists, suppress_composite)\u001b[0m\n\u001b[0;32m    129\u001b[0m     \u001b[1;32mif\u001b[0m \u001b[0mnot_composite\u001b[0m \u001b[1;32mor\u001b[0m \u001b[1;32mnot\u001b[0m \u001b[0mhas_images\u001b[0m\u001b[1;33m:\u001b[0m\u001b[1;33m\u001b[0m\u001b[1;33m\u001b[0m\u001b[0m\n\u001b[0;32m    130\u001b[0m         \u001b[1;32mfor\u001b[0m \u001b[0ma\u001b[0m \u001b[1;32min\u001b[0m \u001b[0martists\u001b[0m\u001b[1;33m:\u001b[0m\u001b[1;33m\u001b[0m\u001b[1;33m\u001b[0m\u001b[0m\n\u001b[1;32m--> 131\u001b[1;33m             \u001b[0ma\u001b[0m\u001b[1;33m.\u001b[0m\u001b[0mdraw\u001b[0m\u001b[1;33m(\u001b[0m\u001b[0mrenderer\u001b[0m\u001b[1;33m)\u001b[0m\u001b[1;33m\u001b[0m\u001b[1;33m\u001b[0m\u001b[0m\n\u001b[0m\u001b[0;32m    132\u001b[0m     \u001b[1;32melse\u001b[0m\u001b[1;33m:\u001b[0m\u001b[1;33m\u001b[0m\u001b[1;33m\u001b[0m\u001b[0m\n\u001b[0;32m    133\u001b[0m         \u001b[1;31m# Composite any adjacent images together\u001b[0m\u001b[1;33m\u001b[0m\u001b[1;33m\u001b[0m\u001b[1;33m\u001b[0m\u001b[0m\n",
      "\u001b[1;32mE:\\Gokul\\Anaconda\\envs\\mldev\\lib\\site-packages\\matplotlib\\artist.py\u001b[0m in \u001b[0;36mdraw_wrapper\u001b[1;34m(artist, renderer, *args, **kwargs)\u001b[0m\n\u001b[0;32m     39\u001b[0m                 \u001b[0mrenderer\u001b[0m\u001b[1;33m.\u001b[0m\u001b[0mstart_filter\u001b[0m\u001b[1;33m(\u001b[0m\u001b[1;33m)\u001b[0m\u001b[1;33m\u001b[0m\u001b[1;33m\u001b[0m\u001b[0m\n\u001b[0;32m     40\u001b[0m \u001b[1;33m\u001b[0m\u001b[0m\n\u001b[1;32m---> 41\u001b[1;33m             \u001b[1;32mreturn\u001b[0m \u001b[0mdraw\u001b[0m\u001b[1;33m(\u001b[0m\u001b[0martist\u001b[0m\u001b[1;33m,\u001b[0m \u001b[0mrenderer\u001b[0m\u001b[1;33m,\u001b[0m \u001b[1;33m*\u001b[0m\u001b[0margs\u001b[0m\u001b[1;33m,\u001b[0m \u001b[1;33m**\u001b[0m\u001b[0mkwargs\u001b[0m\u001b[1;33m)\u001b[0m\u001b[1;33m\u001b[0m\u001b[1;33m\u001b[0m\u001b[0m\n\u001b[0m\u001b[0;32m     42\u001b[0m         \u001b[1;32mfinally\u001b[0m\u001b[1;33m:\u001b[0m\u001b[1;33m\u001b[0m\u001b[1;33m\u001b[0m\u001b[0m\n\u001b[0;32m     43\u001b[0m             \u001b[1;32mif\u001b[0m \u001b[0martist\u001b[0m\u001b[1;33m.\u001b[0m\u001b[0mget_agg_filter\u001b[0m\u001b[1;33m(\u001b[0m\u001b[1;33m)\u001b[0m \u001b[1;32mis\u001b[0m \u001b[1;32mnot\u001b[0m \u001b[1;32mNone\u001b[0m\u001b[1;33m:\u001b[0m\u001b[1;33m\u001b[0m\u001b[1;33m\u001b[0m\u001b[0m\n",
      "\u001b[1;32mE:\\Gokul\\Anaconda\\envs\\mldev\\lib\\site-packages\\matplotlib\\cbook\\deprecation.py\u001b[0m in \u001b[0;36mwrapper\u001b[1;34m(*inner_args, **inner_kwargs)\u001b[0m\n\u001b[0;32m    409\u001b[0m                          \u001b[1;32melse\u001b[0m \u001b[0mdeprecation_addendum\u001b[0m\u001b[1;33m,\u001b[0m\u001b[1;33m\u001b[0m\u001b[1;33m\u001b[0m\u001b[0m\n\u001b[0;32m    410\u001b[0m                 **kwargs)\n\u001b[1;32m--> 411\u001b[1;33m         \u001b[1;32mreturn\u001b[0m \u001b[0mfunc\u001b[0m\u001b[1;33m(\u001b[0m\u001b[1;33m*\u001b[0m\u001b[0minner_args\u001b[0m\u001b[1;33m,\u001b[0m \u001b[1;33m**\u001b[0m\u001b[0minner_kwargs\u001b[0m\u001b[1;33m)\u001b[0m\u001b[1;33m\u001b[0m\u001b[1;33m\u001b[0m\u001b[0m\n\u001b[0m\u001b[0;32m    412\u001b[0m \u001b[1;33m\u001b[0m\u001b[0m\n\u001b[0;32m    413\u001b[0m     \u001b[1;32mreturn\u001b[0m \u001b[0mwrapper\u001b[0m\u001b[1;33m\u001b[0m\u001b[1;33m\u001b[0m\u001b[0m\n",
      "\u001b[1;32mE:\\Gokul\\Anaconda\\envs\\mldev\\lib\\site-packages\\matplotlib\\axes\\_base.py\u001b[0m in \u001b[0;36mdraw\u001b[1;34m(self, renderer, inframe)\u001b[0m\n\u001b[0;32m   2705\u001b[0m                 \u001b[0martists\u001b[0m\u001b[1;33m.\u001b[0m\u001b[0mremove\u001b[0m\u001b[1;33m(\u001b[0m\u001b[0mspine\u001b[0m\u001b[1;33m)\u001b[0m\u001b[1;33m\u001b[0m\u001b[1;33m\u001b[0m\u001b[0m\n\u001b[0;32m   2706\u001b[0m \u001b[1;33m\u001b[0m\u001b[0m\n\u001b[1;32m-> 2707\u001b[1;33m         \u001b[0mself\u001b[0m\u001b[1;33m.\u001b[0m\u001b[0m_update_title_position\u001b[0m\u001b[1;33m(\u001b[0m\u001b[0mrenderer\u001b[0m\u001b[1;33m)\u001b[0m\u001b[1;33m\u001b[0m\u001b[1;33m\u001b[0m\u001b[0m\n\u001b[0m\u001b[0;32m   2708\u001b[0m \u001b[1;33m\u001b[0m\u001b[0m\n\u001b[0;32m   2709\u001b[0m         \u001b[1;32mif\u001b[0m \u001b[1;32mnot\u001b[0m \u001b[0mself\u001b[0m\u001b[1;33m.\u001b[0m\u001b[0maxison\u001b[0m \u001b[1;32mor\u001b[0m \u001b[0minframe\u001b[0m\u001b[1;33m:\u001b[0m\u001b[1;33m\u001b[0m\u001b[1;33m\u001b[0m\u001b[0m\n",
      "\u001b[1;32mE:\\Gokul\\Anaconda\\envs\\mldev\\lib\\site-packages\\matplotlib\\axes\\_base.py\u001b[0m in \u001b[0;36m_update_title_position\u001b[1;34m(self, renderer)\u001b[0m\n\u001b[0;32m   2636\u001b[0m                 if (ax.xaxis.get_ticks_position() in ['top', 'unknown']\n\u001b[0;32m   2637\u001b[0m                         or ax.xaxis.get_label_position() == 'top'):\n\u001b[1;32m-> 2638\u001b[1;33m                     \u001b[0mbb\u001b[0m \u001b[1;33m=\u001b[0m \u001b[0max\u001b[0m\u001b[1;33m.\u001b[0m\u001b[0mxaxis\u001b[0m\u001b[1;33m.\u001b[0m\u001b[0mget_tightbbox\u001b[0m\u001b[1;33m(\u001b[0m\u001b[0mrenderer\u001b[0m\u001b[1;33m)\u001b[0m\u001b[1;33m\u001b[0m\u001b[1;33m\u001b[0m\u001b[0m\n\u001b[0m\u001b[0;32m   2639\u001b[0m                 \u001b[1;32melse\u001b[0m\u001b[1;33m:\u001b[0m\u001b[1;33m\u001b[0m\u001b[1;33m\u001b[0m\u001b[0m\n\u001b[0;32m   2640\u001b[0m                     \u001b[0mbb\u001b[0m \u001b[1;33m=\u001b[0m \u001b[0max\u001b[0m\u001b[1;33m.\u001b[0m\u001b[0mget_window_extent\u001b[0m\u001b[1;33m(\u001b[0m\u001b[0mrenderer\u001b[0m\u001b[1;33m)\u001b[0m\u001b[1;33m\u001b[0m\u001b[1;33m\u001b[0m\u001b[0m\n",
      "\u001b[1;32mE:\\Gokul\\Anaconda\\envs\\mldev\\lib\\site-packages\\matplotlib\\axis.py\u001b[0m in \u001b[0;36mget_tightbbox\u001b[1;34m(self, renderer, for_layout_only)\u001b[0m\n\u001b[0;32m   1112\u001b[0m \u001b[1;33m\u001b[0m\u001b[0m\n\u001b[0;32m   1113\u001b[0m         \u001b[1;31m# go back to just this axis's tick labels\u001b[0m\u001b[1;33m\u001b[0m\u001b[1;33m\u001b[0m\u001b[1;33m\u001b[0m\u001b[0m\n\u001b[1;32m-> 1114\u001b[1;33m         ticklabelBoxes, ticklabelBoxes2 = self._get_tick_bboxes(\n\u001b[0m\u001b[0;32m   1115\u001b[0m                     ticks_to_draw, renderer)\n\u001b[0;32m   1116\u001b[0m \u001b[1;33m\u001b[0m\u001b[0m\n",
      "\u001b[1;32mE:\\Gokul\\Anaconda\\envs\\mldev\\lib\\site-packages\\matplotlib\\axis.py\u001b[0m in \u001b[0;36m_get_tick_bboxes\u001b[1;34m(self, ticks, renderer)\u001b[0m\n\u001b[0;32m   1089\u001b[0m     \u001b[1;32mdef\u001b[0m \u001b[0m_get_tick_bboxes\u001b[0m\u001b[1;33m(\u001b[0m\u001b[0mself\u001b[0m\u001b[1;33m,\u001b[0m \u001b[0mticks\u001b[0m\u001b[1;33m,\u001b[0m \u001b[0mrenderer\u001b[0m\u001b[1;33m)\u001b[0m\u001b[1;33m:\u001b[0m\u001b[1;33m\u001b[0m\u001b[1;33m\u001b[0m\u001b[0m\n\u001b[0;32m   1090\u001b[0m         \u001b[1;34m\"\"\"Return lists of bboxes for ticks' label1's and label2's.\"\"\"\u001b[0m\u001b[1;33m\u001b[0m\u001b[1;33m\u001b[0m\u001b[0m\n\u001b[1;32m-> 1091\u001b[1;33m         return ([tick.label1.get_window_extent(renderer)\n\u001b[0m\u001b[0;32m   1092\u001b[0m                  for tick in ticks if tick.label1.get_visible()],\n\u001b[0;32m   1093\u001b[0m                 [tick.label2.get_window_extent(renderer)\n",
      "\u001b[1;32mE:\\Gokul\\Anaconda\\envs\\mldev\\lib\\site-packages\\matplotlib\\axis.py\u001b[0m in \u001b[0;36m<listcomp>\u001b[1;34m(.0)\u001b[0m\n\u001b[0;32m   1089\u001b[0m     \u001b[1;32mdef\u001b[0m \u001b[0m_get_tick_bboxes\u001b[0m\u001b[1;33m(\u001b[0m\u001b[0mself\u001b[0m\u001b[1;33m,\u001b[0m \u001b[0mticks\u001b[0m\u001b[1;33m,\u001b[0m \u001b[0mrenderer\u001b[0m\u001b[1;33m)\u001b[0m\u001b[1;33m:\u001b[0m\u001b[1;33m\u001b[0m\u001b[1;33m\u001b[0m\u001b[0m\n\u001b[0;32m   1090\u001b[0m         \u001b[1;34m\"\"\"Return lists of bboxes for ticks' label1's and label2's.\"\"\"\u001b[0m\u001b[1;33m\u001b[0m\u001b[1;33m\u001b[0m\u001b[0m\n\u001b[1;32m-> 1091\u001b[1;33m         return ([tick.label1.get_window_extent(renderer)\n\u001b[0m\u001b[0;32m   1092\u001b[0m                  for tick in ticks if tick.label1.get_visible()],\n\u001b[0;32m   1093\u001b[0m                 [tick.label2.get_window_extent(renderer)\n",
      "\u001b[1;32mE:\\Gokul\\Anaconda\\envs\\mldev\\lib\\site-packages\\matplotlib\\text.py\u001b[0m in \u001b[0;36mget_window_extent\u001b[1;34m(self, renderer, dpi)\u001b[0m\n\u001b[0;32m    900\u001b[0m \u001b[1;33m\u001b[0m\u001b[0m\n\u001b[0;32m    901\u001b[0m         \u001b[1;32mwith\u001b[0m \u001b[0mcbook\u001b[0m\u001b[1;33m.\u001b[0m\u001b[0m_setattr_cm\u001b[0m\u001b[1;33m(\u001b[0m\u001b[0mself\u001b[0m\u001b[1;33m.\u001b[0m\u001b[0mfigure\u001b[0m\u001b[1;33m,\u001b[0m \u001b[0mdpi\u001b[0m\u001b[1;33m=\u001b[0m\u001b[0mdpi\u001b[0m\u001b[1;33m)\u001b[0m\u001b[1;33m:\u001b[0m\u001b[1;33m\u001b[0m\u001b[1;33m\u001b[0m\u001b[0m\n\u001b[1;32m--> 902\u001b[1;33m             \u001b[0mbbox\u001b[0m\u001b[1;33m,\u001b[0m \u001b[0minfo\u001b[0m\u001b[1;33m,\u001b[0m \u001b[0mdescent\u001b[0m \u001b[1;33m=\u001b[0m \u001b[0mself\u001b[0m\u001b[1;33m.\u001b[0m\u001b[0m_get_layout\u001b[0m\u001b[1;33m(\u001b[0m\u001b[0mself\u001b[0m\u001b[1;33m.\u001b[0m\u001b[0m_renderer\u001b[0m\u001b[1;33m)\u001b[0m\u001b[1;33m\u001b[0m\u001b[1;33m\u001b[0m\u001b[0m\n\u001b[0m\u001b[0;32m    903\u001b[0m             \u001b[0mx\u001b[0m\u001b[1;33m,\u001b[0m \u001b[0my\u001b[0m \u001b[1;33m=\u001b[0m \u001b[0mself\u001b[0m\u001b[1;33m.\u001b[0m\u001b[0mget_unitless_position\u001b[0m\u001b[1;33m(\u001b[0m\u001b[1;33m)\u001b[0m\u001b[1;33m\u001b[0m\u001b[1;33m\u001b[0m\u001b[0m\n\u001b[0;32m    904\u001b[0m             \u001b[0mx\u001b[0m\u001b[1;33m,\u001b[0m \u001b[0my\u001b[0m \u001b[1;33m=\u001b[0m \u001b[0mself\u001b[0m\u001b[1;33m.\u001b[0m\u001b[0mget_transform\u001b[0m\u001b[1;33m(\u001b[0m\u001b[1;33m)\u001b[0m\u001b[1;33m.\u001b[0m\u001b[0mtransform\u001b[0m\u001b[1;33m(\u001b[0m\u001b[1;33m(\u001b[0m\u001b[0mx\u001b[0m\u001b[1;33m,\u001b[0m \u001b[0my\u001b[0m\u001b[1;33m)\u001b[0m\u001b[1;33m)\u001b[0m\u001b[1;33m\u001b[0m\u001b[1;33m\u001b[0m\u001b[0m\n",
      "\u001b[1;32mE:\\Gokul\\Anaconda\\envs\\mldev\\lib\\site-packages\\matplotlib\\text.py\u001b[0m in \u001b[0;36m_get_layout\u001b[1;34m(self, renderer)\u001b[0m\n\u001b[0;32m    293\u001b[0m             \u001b[0mclean_line\u001b[0m\u001b[1;33m,\u001b[0m \u001b[0mismath\u001b[0m \u001b[1;33m=\u001b[0m \u001b[0mself\u001b[0m\u001b[1;33m.\u001b[0m\u001b[0m_preprocess_math\u001b[0m\u001b[1;33m(\u001b[0m\u001b[0mline\u001b[0m\u001b[1;33m)\u001b[0m\u001b[1;33m\u001b[0m\u001b[1;33m\u001b[0m\u001b[0m\n\u001b[0;32m    294\u001b[0m             \u001b[1;32mif\u001b[0m \u001b[0mclean_line\u001b[0m\u001b[1;33m:\u001b[0m\u001b[1;33m\u001b[0m\u001b[1;33m\u001b[0m\u001b[0m\n\u001b[1;32m--> 295\u001b[1;33m                 w, h, d = renderer.get_text_width_height_descent(\n\u001b[0m\u001b[0;32m    296\u001b[0m                     clean_line, self._fontproperties, ismath=ismath)\n\u001b[0;32m    297\u001b[0m             \u001b[1;32melse\u001b[0m\u001b[1;33m:\u001b[0m\u001b[1;33m\u001b[0m\u001b[1;33m\u001b[0m\u001b[0m\n",
      "\u001b[1;32mE:\\Gokul\\Anaconda\\envs\\mldev\\lib\\site-packages\\matplotlib\\backends\\backend_agg.py\u001b[0m in \u001b[0;36mget_text_width_height_descent\u001b[1;34m(self, s, prop, ismath)\u001b[0m\n\u001b[0;32m    235\u001b[0m \u001b[1;33m\u001b[0m\u001b[0m\n\u001b[0;32m    236\u001b[0m         \u001b[0mflags\u001b[0m \u001b[1;33m=\u001b[0m \u001b[0mget_hinting_flag\u001b[0m\u001b[1;33m(\u001b[0m\u001b[1;33m)\u001b[0m\u001b[1;33m\u001b[0m\u001b[1;33m\u001b[0m\u001b[0m\n\u001b[1;32m--> 237\u001b[1;33m         \u001b[0mfont\u001b[0m \u001b[1;33m=\u001b[0m \u001b[0mself\u001b[0m\u001b[1;33m.\u001b[0m\u001b[0m_get_agg_font\u001b[0m\u001b[1;33m(\u001b[0m\u001b[0mprop\u001b[0m\u001b[1;33m)\u001b[0m\u001b[1;33m\u001b[0m\u001b[1;33m\u001b[0m\u001b[0m\n\u001b[0m\u001b[0;32m    238\u001b[0m         \u001b[0mfont\u001b[0m\u001b[1;33m.\u001b[0m\u001b[0mset_text\u001b[0m\u001b[1;33m(\u001b[0m\u001b[0ms\u001b[0m\u001b[1;33m,\u001b[0m \u001b[1;36m0.0\u001b[0m\u001b[1;33m,\u001b[0m \u001b[0mflags\u001b[0m\u001b[1;33m=\u001b[0m\u001b[0mflags\u001b[0m\u001b[1;33m)\u001b[0m\u001b[1;33m\u001b[0m\u001b[1;33m\u001b[0m\u001b[0m\n\u001b[0;32m    239\u001b[0m         \u001b[0mw\u001b[0m\u001b[1;33m,\u001b[0m \u001b[0mh\u001b[0m \u001b[1;33m=\u001b[0m \u001b[0mfont\u001b[0m\u001b[1;33m.\u001b[0m\u001b[0mget_width_height\u001b[0m\u001b[1;33m(\u001b[0m\u001b[1;33m)\u001b[0m  \u001b[1;31m# width and height of unrotated string\u001b[0m\u001b[1;33m\u001b[0m\u001b[1;33m\u001b[0m\u001b[0m\n",
      "\u001b[1;32mE:\\Gokul\\Anaconda\\envs\\mldev\\lib\\site-packages\\matplotlib\\backends\\backend_agg.py\u001b[0m in \u001b[0;36m_get_agg_font\u001b[1;34m(self, prop)\u001b[0m\n\u001b[0;32m    270\u001b[0m         \u001b[0mGet\u001b[0m \u001b[0mthe\u001b[0m \u001b[0mfont\u001b[0m \u001b[1;32mfor\u001b[0m \u001b[0mtext\u001b[0m \u001b[0minstance\u001b[0m \u001b[0mt\u001b[0m\u001b[1;33m,\u001b[0m \u001b[0mcaching\u001b[0m \u001b[1;32mfor\u001b[0m \u001b[0mefficiency\u001b[0m\u001b[1;33m\u001b[0m\u001b[1;33m\u001b[0m\u001b[0m\n\u001b[0;32m    271\u001b[0m         \"\"\"\n\u001b[1;32m--> 272\u001b[1;33m         \u001b[0mfname\u001b[0m \u001b[1;33m=\u001b[0m \u001b[0mfindfont\u001b[0m\u001b[1;33m(\u001b[0m\u001b[0mprop\u001b[0m\u001b[1;33m)\u001b[0m\u001b[1;33m\u001b[0m\u001b[1;33m\u001b[0m\u001b[0m\n\u001b[0m\u001b[0;32m    273\u001b[0m         \u001b[0mfont\u001b[0m \u001b[1;33m=\u001b[0m \u001b[0mget_font\u001b[0m\u001b[1;33m(\u001b[0m\u001b[0mfname\u001b[0m\u001b[1;33m)\u001b[0m\u001b[1;33m\u001b[0m\u001b[1;33m\u001b[0m\u001b[0m\n\u001b[0;32m    274\u001b[0m \u001b[1;33m\u001b[0m\u001b[0m\n",
      "\u001b[1;32mE:\\Gokul\\Anaconda\\envs\\mldev\\lib\\site-packages\\matplotlib\\font_manager.py\u001b[0m in \u001b[0;36mfindfont\u001b[1;34m(self, prop, fontext, directory, fallback_to_default, rebuild_if_missing)\u001b[0m\n\u001b[0;32m   1312\u001b[0m             \u001b[0mprop\u001b[0m\u001b[1;33m,\u001b[0m \u001b[0mfontext\u001b[0m\u001b[1;33m,\u001b[0m \u001b[0mdirectory\u001b[0m\u001b[1;33m,\u001b[0m \u001b[0mfallback_to_default\u001b[0m\u001b[1;33m,\u001b[0m \u001b[0mrebuild_if_missing\u001b[0m\u001b[1;33m,\u001b[0m\u001b[1;33m\u001b[0m\u001b[1;33m\u001b[0m\u001b[0m\n\u001b[0;32m   1313\u001b[0m             rc_params)\n\u001b[1;32m-> 1314\u001b[1;33m         \u001b[1;32mreturn\u001b[0m \u001b[0mos\u001b[0m\u001b[1;33m.\u001b[0m\u001b[0mpath\u001b[0m\u001b[1;33m.\u001b[0m\u001b[0mrealpath\u001b[0m\u001b[1;33m(\u001b[0m\u001b[0mfilename\u001b[0m\u001b[1;33m)\u001b[0m\u001b[1;33m\u001b[0m\u001b[1;33m\u001b[0m\u001b[0m\n\u001b[0m\u001b[0;32m   1315\u001b[0m \u001b[1;33m\u001b[0m\u001b[0m\n\u001b[0;32m   1316\u001b[0m     \u001b[1;33m@\u001b[0m\u001b[0mlru_cache\u001b[0m\u001b[1;33m(\u001b[0m\u001b[1;33m)\u001b[0m\u001b[1;33m\u001b[0m\u001b[1;33m\u001b[0m\u001b[0m\n",
      "\u001b[1;32mE:\\Gokul\\Anaconda\\envs\\mldev\\lib\\ntpath.py\u001b[0m in \u001b[0;36mrealpath\u001b[1;34m(path)\u001b[0m\n\u001b[0;32m    645\u001b[0m             \u001b[0mpath\u001b[0m \u001b[1;33m=\u001b[0m \u001b[0mjoin\u001b[0m\u001b[1;33m(\u001b[0m\u001b[0mcwd\u001b[0m\u001b[1;33m,\u001b[0m \u001b[0mpath\u001b[0m\u001b[1;33m)\u001b[0m\u001b[1;33m\u001b[0m\u001b[1;33m\u001b[0m\u001b[0m\n\u001b[0;32m    646\u001b[0m         \u001b[1;32mtry\u001b[0m\u001b[1;33m:\u001b[0m\u001b[1;33m\u001b[0m\u001b[1;33m\u001b[0m\u001b[0m\n\u001b[1;32m--> 647\u001b[1;33m             \u001b[0mpath\u001b[0m \u001b[1;33m=\u001b[0m \u001b[0m_getfinalpathname\u001b[0m\u001b[1;33m(\u001b[0m\u001b[0mpath\u001b[0m\u001b[1;33m)\u001b[0m\u001b[1;33m\u001b[0m\u001b[1;33m\u001b[0m\u001b[0m\n\u001b[0m\u001b[0;32m    648\u001b[0m             \u001b[0minitial_winerror\u001b[0m \u001b[1;33m=\u001b[0m \u001b[1;36m0\u001b[0m\u001b[1;33m\u001b[0m\u001b[1;33m\u001b[0m\u001b[0m\n\u001b[0;32m    649\u001b[0m         \u001b[1;32mexcept\u001b[0m \u001b[0mOSError\u001b[0m \u001b[1;32mas\u001b[0m \u001b[0mex\u001b[0m\u001b[1;33m:\u001b[0m\u001b[1;33m\u001b[0m\u001b[1;33m\u001b[0m\u001b[0m\n",
      "\u001b[1;31mKeyboardInterrupt\u001b[0m: "
     ]
    }
   ],
   "source": [
    "categorical_eda(df, 'infertility_refer', (10, 5))"
   ]
  },
  {
   "cell_type": "code",
   "execution_count": 32,
   "metadata": {},
   "outputs": [
    {
     "data": {
      "text/plain": [
       "array(['Default', 'District Hospital', 'Others', 'FRU'], dtype=object)"
      ]
     },
     "execution_count": 32,
     "metadata": {},
     "output_type": "execute_result"
    }
   ],
   "source": [
    "df[df['infertility_refer'].isna()]['infertility_options'].unique()"
   ]
  },
  {
   "cell_type": "markdown",
   "metadata": {},
   "source": [
    "### infertility_status"
   ]
  },
  {
   "cell_type": "code",
   "execution_count": 33,
   "metadata": {},
   "outputs": [
    {
     "name": "stdout",
     "output_type": "stream",
     "text": [
      "Unique values: ['N' 'Y']\n",
      "No. of unique values: 2\n",
      "Missing values count: 0 / 1741978\n",
      "Missing values %: 0.0\n",
      "Value counts: \n",
      "N    99.399074\n",
      "Y     0.600926\n",
      "Name: infertility_status, dtype: float64\n"
     ]
    },
    {
     "data": {
      "image/png": "[encoded data removed]",
      "text/plain": [
       "<Figure size 720x360 with 1 Axes>"
      ]
     },
     "metadata": {},
     "output_type": "display_data"
    }
   ],
   "source": [
    "categorical_eda(df, 'infertility_status', (10, 5))"
   ]
  },
  {
   "cell_type": "markdown",
   "metadata": {},
   "source": [
    "### male_child_born"
   ]
  },
  {
   "cell_type": "code",
   "execution_count": 35,
   "metadata": {},
   "outputs": [
    {
     "name": "stdout",
     "output_type": "stream",
     "text": [
      "Unique values: [ 0.  1.  2.  3.  5.  4. 10. 15.  9.  7. 14. 11.  6. 12.  8. 13.]\n",
      "No. of unique values: 16\n",
      "Missing values count: 0 / 1741978\n",
      "Missing values %: 0.0\n",
      "Value counts: \n",
      "0.0     73.962013\n",
      "1.0     19.459890\n",
      "2.0      5.438071\n",
      "3.0      0.804086\n",
      "4.0      0.205169\n",
      "5.0      0.068772\n",
      "6.0      0.025029\n",
      "10.0     0.010161\n",
      "7.0      0.009874\n",
      "8.0      0.004478\n",
      "15.0     0.003387\n",
      "9.0      0.003215\n",
      "11.0     0.001894\n",
      "13.0     0.001722\n",
      "12.0     0.001320\n",
      "14.0     0.000918\n",
      "Name: male_child_born, dtype: float64\n"
     ]
    },
    {
     "data": {
      "image/png": "[encoded data removed]",
      "text/plain": [
       "<Figure size 1152x360 with 1 Axes>"
      ]
     },
     "metadata": {},
     "output_type": "display_data"
    }
   ],
   "source": [
    "categorical_eda(df, 'male_child_born', (16, 5))"
   ]
  },
  {
   "cell_type": "markdown",
   "metadata": {},
   "source": [
    "### male_child_live"
   ]
  },
  {
   "cell_type": "code",
   "execution_count": 37,
   "metadata": {},
   "outputs": [
    {
     "name": "stdout",
     "output_type": "stream",
     "text": [
      "Unique values: [ 0.  1.  2.  3.  4.  5.  7. 15.  6.  8.  9. 10. 11. 14. 12.]\n",
      "No. of unique values: 15\n",
      "Missing values count: 0 / 1741978\n",
      "Missing values %: 0.0\n",
      "Value counts: \n",
      "0.0     75.675066\n",
      "1.0     18.356432\n",
      "2.0      4.984736\n",
      "3.0      0.716484\n",
      "4.0      0.184273\n",
      "5.0      0.056717\n",
      "6.0      0.017451\n",
      "7.0      0.005970\n",
      "8.0      0.001378\n",
      "9.0      0.000804\n",
      "15.0     0.000230\n",
      "11.0     0.000172\n",
      "10.0     0.000172\n",
      "14.0     0.000057\n",
      "12.0     0.000057\n",
      "Name: male_child_live, dtype: float64\n"
     ]
    },
    {
     "data": {
      "image/png": "[encoded data removed]",
      "text/plain": [
       "<Figure size 1080x360 with 1 Axes>"
      ]
     },
     "metadata": {},
     "output_type": "display_data"
    }
   ],
   "source": [
    "categorical_eda(df, 'male_child_live', (15, 5))"
   ]
  },
  {
   "cell_type": "code",
   "execution_count": null,
   "metadata": {},
   "outputs": [],
   "source": []
  }
 ],
 "metadata": {
  "interpreter": {
   "hash": "61f292929c70be9f47fe75d2ecc2313898416d309dcb2c8bc8f4dc81e69dae7f"
  },
  "kernelspec": {
   "display_name": "Python 3.8.8 64-bit ('mldev': conda)",
   "language": "python",
   "name": "python3"
  },
  "language_info": {
   "codemirror_mode": {
    "name": "ipython",
    "version": 3
   },
   "file_extension": ".py",
   "mimetype": "text/x-python",
   "name": "python",
   "nbconvert_exporter": "python",
   "pygments_lexer": "ipython3",
   "version": "3.8.8"
  },
  "orig_nbformat": 4
 },
 "nbformat": 4,
 "nbformat_minor": 2
}
