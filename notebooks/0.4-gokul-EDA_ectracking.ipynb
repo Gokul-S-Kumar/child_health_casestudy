{
 "cells": [
  {
   "cell_type": "markdown",
   "metadata": {},
   "source": [
    "### Importing Libs"
   ]
  },
  {
   "cell_type": "code",
   "execution_count": 10,
   "metadata": {},
   "outputs": [
    {
     "name": "stdout",
     "output_type": "stream",
     "text": [
      "The autoreload extension is already loaded. To reload it, use:\n",
      "  %reload_ext autoreload\n"
     ]
    }
   ],
   "source": [
    "import pandas as pd\n",
    "pd.set_option('display.float_format', lambda x: '%.3f' % x)\n",
    "import numpy as np\n",
    "import matplotlib.pyplot as plt\n",
    "import seaborn as sns\n",
    "from src.visualization.visualize import categorical_eda, timeseries_eda, continuous_eda\n",
    "sns.set(style = 'whitegrid')\n",
    "%load_ext autoreload\n",
    "%autoreload 2"
   ]
  },
  {
   "cell_type": "markdown",
   "metadata": {},
   "source": [
    "### Loading dataset"
   ]
  },
  {
   "cell_type": "code",
   "execution_count": 2,
   "metadata": {},
   "outputs": [
    {
     "name": "stderr",
     "output_type": "stream",
     "text": [
      "E:\\Gokul\\Anaconda\\envs\\mldev\\lib\\site-packages\\IPython\\core\\interactiveshell.py:3165: DtypeWarning: Columns (0,12) have mixed types.Specify dtype option on import or set low_memory=False.\n",
      "  has_raised = await self.run_ast_nodes(code_ast.body, cell_name,\n"
     ]
    }
   ],
   "source": [
    "df_raw = pd.read_csv('../data/interim/attr_added/ectracking.csv')"
   ]
  },
  {
   "cell_type": "code",
   "execution_count": 3,
   "metadata": {},
   "outputs": [
    {
     "data": {
      "text/html": [
       "<div>\n",
       "<style scoped>\n",
       "    .dataframe tbody tr th:only-of-type {\n",
       "        vertical-align: middle;\n",
       "    }\n",
       "\n",
       "    .dataframe tbody tr th {\n",
       "        vertical-align: top;\n",
       "    }\n",
       "\n",
       "    .dataframe thead th {\n",
       "        text-align: right;\n",
       "    }\n",
       "</style>\n",
       "<table border=\"1\" class=\"dataframe\">\n",
       "  <thead>\n",
       "    <tr style=\"text-align: right;\">\n",
       "      <th></th>\n",
       "      <th>id</th>\n",
       "      <th>state</th>\n",
       "      <th>district</th>\n",
       "      <th>case_no</th>\n",
       "      <th>contraception_method</th>\n",
       "      <th>other</th>\n",
       "      <th>pregnancy_test_done</th>\n",
       "      <th>pregnancy_test_result</th>\n",
       "      <th>registration_no</th>\n",
       "      <th>rural_urban</th>\n",
       "      <th>visit_date</th>\n",
       "      <th>visit_no</th>\n",
       "      <th>isactive</th>\n",
       "      <th>previous_status</th>\n",
       "      <th>created_on</th>\n",
       "    </tr>\n",
       "  </thead>\n",
       "  <tbody>\n",
       "    <tr>\n",
       "      <th>0</th>\n",
       "      <td>1</td>\n",
       "      <td>Haryana</td>\n",
       "      <td>Panchkula</td>\n",
       "      <td>1.000</td>\n",
       "      <td>NaN</td>\n",
       "      <td>NaN</td>\n",
       "      <td>Yes</td>\n",
       "      <td>Positive</td>\n",
       "      <td>106003464700.000</td>\n",
       "      <td>Rural</td>\n",
       "      <td>2019-04-02 00:00:00</td>\n",
       "      <td>1.000</td>\n",
       "      <td>NaN</td>\n",
       "      <td>EC</td>\n",
       "      <td>2019-04-04 14:28:27</td>\n",
       "    </tr>\n",
       "    <tr>\n",
       "      <th>1</th>\n",
       "      <td>2</td>\n",
       "      <td>Haryana</td>\n",
       "      <td>Panchkula</td>\n",
       "      <td>2.000</td>\n",
       "      <td>NaN</td>\n",
       "      <td>NaN</td>\n",
       "      <td>Yes</td>\n",
       "      <td>Positive</td>\n",
       "      <td>106000012873.000</td>\n",
       "      <td>Rural</td>\n",
       "      <td>2019-05-28 00:00:00</td>\n",
       "      <td>1.000</td>\n",
       "      <td>NaN</td>\n",
       "      <td>EC</td>\n",
       "      <td>2019-06-26 15:33:08</td>\n",
       "    </tr>\n",
       "    <tr>\n",
       "      <th>2</th>\n",
       "      <td>3</td>\n",
       "      <td>Haryana</td>\n",
       "      <td>Panchkula</td>\n",
       "      <td>2.000</td>\n",
       "      <td>NaN</td>\n",
       "      <td>NaN</td>\n",
       "      <td>Yes</td>\n",
       "      <td>Positive</td>\n",
       "      <td>106000012930.000</td>\n",
       "      <td>Rural</td>\n",
       "      <td>2019-04-16 00:00:00</td>\n",
       "      <td>1.000</td>\n",
       "      <td>NaN</td>\n",
       "      <td>EC</td>\n",
       "      <td>2019-06-26 11:18:21</td>\n",
       "    </tr>\n",
       "    <tr>\n",
       "      <th>3</th>\n",
       "      <td>4</td>\n",
       "      <td>Haryana</td>\n",
       "      <td>Panchkula</td>\n",
       "      <td>2.000</td>\n",
       "      <td>NaN</td>\n",
       "      <td>NaN</td>\n",
       "      <td>Yes</td>\n",
       "      <td>Positive</td>\n",
       "      <td>106000012956.000</td>\n",
       "      <td>Rural</td>\n",
       "      <td>2019-08-06 00:00:00</td>\n",
       "      <td>1.000</td>\n",
       "      <td>NaN</td>\n",
       "      <td>EC</td>\n",
       "      <td>2019-09-15 09:45:37</td>\n",
       "    </tr>\n",
       "    <tr>\n",
       "      <th>4</th>\n",
       "      <td>5</td>\n",
       "      <td>Haryana</td>\n",
       "      <td>Panchkula</td>\n",
       "      <td>1.000</td>\n",
       "      <td>NaN</td>\n",
       "      <td>NaN</td>\n",
       "      <td>Yes</td>\n",
       "      <td>Positive</td>\n",
       "      <td>106002357153.000</td>\n",
       "      <td>Rural</td>\n",
       "      <td>2017-04-11 00:00:00</td>\n",
       "      <td>1.000</td>\n",
       "      <td>NaN</td>\n",
       "      <td>EC</td>\n",
       "      <td>2017-05-27 12:34:16</td>\n",
       "    </tr>\n",
       "  </tbody>\n",
       "</table>\n",
       "</div>"
      ],
      "text/plain": [
       "  id    state   district  case_no contraception_method other  \\\n",
       "0  1  Haryana  Panchkula    1.000                  NaN   NaN   \n",
       "1  2  Haryana  Panchkula    2.000                  NaN   NaN   \n",
       "2  3  Haryana  Panchkula    2.000                  NaN   NaN   \n",
       "3  4  Haryana  Panchkula    2.000                  NaN   NaN   \n",
       "4  5  Haryana  Panchkula    1.000                  NaN   NaN   \n",
       "\n",
       "  pregnancy_test_done pregnancy_test_result  registration_no rural_urban  \\\n",
       "0                 Yes              Positive 106003464700.000       Rural   \n",
       "1                 Yes              Positive 106000012873.000       Rural   \n",
       "2                 Yes              Positive 106000012930.000       Rural   \n",
       "3                 Yes              Positive 106000012956.000       Rural   \n",
       "4                 Yes              Positive 106002357153.000       Rural   \n",
       "\n",
       "            visit_date  visit_no isactive previous_status           created_on  \n",
       "0  2019-04-02 00:00:00     1.000      NaN              EC  2019-04-04 14:28:27  \n",
       "1  2019-05-28 00:00:00     1.000      NaN              EC  2019-06-26 15:33:08  \n",
       "2  2019-04-16 00:00:00     1.000      NaN              EC  2019-06-26 11:18:21  \n",
       "3  2019-08-06 00:00:00     1.000      NaN              EC  2019-09-15 09:45:37  \n",
       "4  2017-04-11 00:00:00     1.000      NaN              EC  2017-05-27 12:34:16  "
      ]
     },
     "execution_count": 3,
     "metadata": {},
     "output_type": "execute_result"
    }
   ],
   "source": [
    "df_raw.head()"
   ]
  },
  {
   "cell_type": "code",
   "execution_count": 4,
   "metadata": {},
   "outputs": [
    {
     "name": "stdout",
     "output_type": "stream",
     "text": [
      "<class 'pandas.core.frame.DataFrame'>\n",
      "RangeIndex: 887279 entries, 0 to 887278\n",
      "Data columns (total 15 columns):\n",
      " #   Column                 Non-Null Count   Dtype  \n",
      "---  ------                 --------------   -----  \n",
      " 0   id                     887279 non-null  object \n",
      " 1   state                  887278 non-null  object \n",
      " 2   district               887123 non-null  object \n",
      " 3   case_no                887278 non-null  float64\n",
      " 4   contraception_method   194764 non-null  object \n",
      " 5   other                  1234 non-null    object \n",
      " 6   pregnancy_test_done    887278 non-null  object \n",
      " 7   pregnancy_test_result  629479 non-null  object \n",
      " 8   registration_no        887278 non-null  float64\n",
      " 9   rural_urban            887278 non-null  object \n",
      " 10  visit_date             887278 non-null  object \n",
      " 11  visit_no               887278 non-null  float64\n",
      " 12  isactive               162904 non-null  object \n",
      " 13  previous_status        887278 non-null  object \n",
      " 14  created_on             887278 non-null  object \n",
      "dtypes: float64(3), object(12)\n",
      "memory usage: 101.5+ MB\n"
     ]
    }
   ],
   "source": [
    "df_raw.info()"
   ]
  },
  {
   "cell_type": "code",
   "execution_count": 5,
   "metadata": {},
   "outputs": [
    {
     "data": {
      "text/html": [
       "<div>\n",
       "<style scoped>\n",
       "    .dataframe tbody tr th:only-of-type {\n",
       "        vertical-align: middle;\n",
       "    }\n",
       "\n",
       "    .dataframe tbody tr th {\n",
       "        vertical-align: top;\n",
       "    }\n",
       "\n",
       "    .dataframe thead th {\n",
       "        text-align: right;\n",
       "    }\n",
       "</style>\n",
       "<table border=\"1\" class=\"dataframe\">\n",
       "  <thead>\n",
       "    <tr style=\"text-align: right;\">\n",
       "      <th></th>\n",
       "      <th>id</th>\n",
       "      <th>state</th>\n",
       "      <th>district</th>\n",
       "      <th>case_no</th>\n",
       "      <th>contraception_method</th>\n",
       "      <th>other</th>\n",
       "      <th>pregnancy_test_done</th>\n",
       "      <th>pregnancy_test_result</th>\n",
       "      <th>registration_no</th>\n",
       "      <th>rural_urban</th>\n",
       "      <th>visit_date</th>\n",
       "      <th>visit_no</th>\n",
       "      <th>isactive</th>\n",
       "      <th>previous_status</th>\n",
       "      <th>created_on</th>\n",
       "    </tr>\n",
       "  </thead>\n",
       "  <tbody>\n",
       "    <tr>\n",
       "      <th>0</th>\n",
       "      <td>1</td>\n",
       "      <td>Haryana</td>\n",
       "      <td>Panchkula</td>\n",
       "      <td>1.000</td>\n",
       "      <td>NaN</td>\n",
       "      <td>NaN</td>\n",
       "      <td>Yes</td>\n",
       "      <td>Positive</td>\n",
       "      <td>106003464700.000</td>\n",
       "      <td>Rural</td>\n",
       "      <td>2019-04-02 00:00:00</td>\n",
       "      <td>1.000</td>\n",
       "      <td>NaN</td>\n",
       "      <td>EC</td>\n",
       "      <td>2019-04-04 14:28:27</td>\n",
       "    </tr>\n",
       "    <tr>\n",
       "      <th>1</th>\n",
       "      <td>2</td>\n",
       "      <td>Haryana</td>\n",
       "      <td>Panchkula</td>\n",
       "      <td>2.000</td>\n",
       "      <td>NaN</td>\n",
       "      <td>NaN</td>\n",
       "      <td>Yes</td>\n",
       "      <td>Positive</td>\n",
       "      <td>106000012873.000</td>\n",
       "      <td>Rural</td>\n",
       "      <td>2019-05-28 00:00:00</td>\n",
       "      <td>1.000</td>\n",
       "      <td>NaN</td>\n",
       "      <td>EC</td>\n",
       "      <td>2019-06-26 15:33:08</td>\n",
       "    </tr>\n",
       "    <tr>\n",
       "      <th>2</th>\n",
       "      <td>3</td>\n",
       "      <td>Haryana</td>\n",
       "      <td>Panchkula</td>\n",
       "      <td>2.000</td>\n",
       "      <td>NaN</td>\n",
       "      <td>NaN</td>\n",
       "      <td>Yes</td>\n",
       "      <td>Positive</td>\n",
       "      <td>106000012930.000</td>\n",
       "      <td>Rural</td>\n",
       "      <td>2019-04-16 00:00:00</td>\n",
       "      <td>1.000</td>\n",
       "      <td>NaN</td>\n",
       "      <td>EC</td>\n",
       "      <td>2019-06-26 11:18:21</td>\n",
       "    </tr>\n",
       "    <tr>\n",
       "      <th>3</th>\n",
       "      <td>4</td>\n",
       "      <td>Haryana</td>\n",
       "      <td>Panchkula</td>\n",
       "      <td>2.000</td>\n",
       "      <td>NaN</td>\n",
       "      <td>NaN</td>\n",
       "      <td>Yes</td>\n",
       "      <td>Positive</td>\n",
       "      <td>106000012956.000</td>\n",
       "      <td>Rural</td>\n",
       "      <td>2019-08-06 00:00:00</td>\n",
       "      <td>1.000</td>\n",
       "      <td>NaN</td>\n",
       "      <td>EC</td>\n",
       "      <td>2019-09-15 09:45:37</td>\n",
       "    </tr>\n",
       "    <tr>\n",
       "      <th>4</th>\n",
       "      <td>5</td>\n",
       "      <td>Haryana</td>\n",
       "      <td>Panchkula</td>\n",
       "      <td>1.000</td>\n",
       "      <td>NaN</td>\n",
       "      <td>NaN</td>\n",
       "      <td>Yes</td>\n",
       "      <td>Positive</td>\n",
       "      <td>106002357153.000</td>\n",
       "      <td>Rural</td>\n",
       "      <td>2017-04-11 00:00:00</td>\n",
       "      <td>1.000</td>\n",
       "      <td>NaN</td>\n",
       "      <td>EC</td>\n",
       "      <td>2017-05-27 12:34:16</td>\n",
       "    </tr>\n",
       "    <tr>\n",
       "      <th>...</th>\n",
       "      <td>...</td>\n",
       "      <td>...</td>\n",
       "      <td>...</td>\n",
       "      <td>...</td>\n",
       "      <td>...</td>\n",
       "      <td>...</td>\n",
       "      <td>...</td>\n",
       "      <td>...</td>\n",
       "      <td>...</td>\n",
       "      <td>...</td>\n",
       "      <td>...</td>\n",
       "      <td>...</td>\n",
       "      <td>...</td>\n",
       "      <td>...</td>\n",
       "      <td>...</td>\n",
       "    </tr>\n",
       "    <tr>\n",
       "      <th>887273</th>\n",
       "      <td>887274</td>\n",
       "      <td>Haryana</td>\n",
       "      <td>Sirsa</td>\n",
       "      <td>1.000</td>\n",
       "      <td>OC PILLS</td>\n",
       "      <td>NaN</td>\n",
       "      <td>No</td>\n",
       "      <td>NaN</td>\n",
       "      <td>106003403198.000</td>\n",
       "      <td>Rural</td>\n",
       "      <td>2019-09-21 00:00:00</td>\n",
       "      <td>6.000</td>\n",
       "      <td>NaN</td>\n",
       "      <td>EC</td>\n",
       "      <td>2019-12-10 19:02:52</td>\n",
       "    </tr>\n",
       "    <tr>\n",
       "      <th>887274</th>\n",
       "      <td>887275</td>\n",
       "      <td>Haryana</td>\n",
       "      <td>Sirsa</td>\n",
       "      <td>1.000</td>\n",
       "      <td>OC PILLS</td>\n",
       "      <td>NaN</td>\n",
       "      <td>No</td>\n",
       "      <td>NaN</td>\n",
       "      <td>106003403198.000</td>\n",
       "      <td>Rural</td>\n",
       "      <td>2019-10-19 00:00:00</td>\n",
       "      <td>7.000</td>\n",
       "      <td>NaN</td>\n",
       "      <td>EC</td>\n",
       "      <td>2019-12-10 19:02:53</td>\n",
       "    </tr>\n",
       "    <tr>\n",
       "      <th>887275</th>\n",
       "      <td>887276</td>\n",
       "      <td>Haryana</td>\n",
       "      <td>Kaithal</td>\n",
       "      <td>1.000</td>\n",
       "      <td>NaN</td>\n",
       "      <td>NaN</td>\n",
       "      <td>Yes</td>\n",
       "      <td>Positive</td>\n",
       "      <td>106004520370.000</td>\n",
       "      <td>Rural</td>\n",
       "      <td>2020-01-16 05:30:00</td>\n",
       "      <td>1.000</td>\n",
       "      <td>t</td>\n",
       "      <td>EC</td>\n",
       "      <td>2020-01-16 05:30:00</td>\n",
       "    </tr>\n",
       "    <tr>\n",
       "      <th>887276</th>\n",
       "      <td>887277</td>\n",
       "      <td>Haryana</td>\n",
       "      <td>Gurgaon</td>\n",
       "      <td>1.000</td>\n",
       "      <td>NaN</td>\n",
       "      <td>NaN</td>\n",
       "      <td>Yes</td>\n",
       "      <td>Positive</td>\n",
       "      <td>106004520375.000</td>\n",
       "      <td>Rural</td>\n",
       "      <td>2020-04-26 05:30:00</td>\n",
       "      <td>1.000</td>\n",
       "      <td>t</td>\n",
       "      <td>EC</td>\n",
       "      <td>2020-04-26 05:30:00</td>\n",
       "    </tr>\n",
       "    <tr>\n",
       "      <th>887277</th>\n",
       "      <td>887278</td>\n",
       "      <td>Haryana</td>\n",
       "      <td>Yamunanagar</td>\n",
       "      <td>1.000</td>\n",
       "      <td>NaN</td>\n",
       "      <td>NaN</td>\n",
       "      <td>Yes</td>\n",
       "      <td>Positive</td>\n",
       "      <td>106004520380.000</td>\n",
       "      <td>Rural</td>\n",
       "      <td>2020-05-20 05:30:00</td>\n",
       "      <td>1.000</td>\n",
       "      <td>t</td>\n",
       "      <td>EC</td>\n",
       "      <td>2020-05-20 05:30:00</td>\n",
       "    </tr>\n",
       "  </tbody>\n",
       "</table>\n",
       "<p>887278 rows × 15 columns</p>\n",
       "</div>"
      ],
      "text/plain": [
       "            id    state     district  case_no contraception_method other  \\\n",
       "0            1  Haryana    Panchkula    1.000                  NaN   NaN   \n",
       "1            2  Haryana    Panchkula    2.000                  NaN   NaN   \n",
       "2            3  Haryana    Panchkula    2.000                  NaN   NaN   \n",
       "3            4  Haryana    Panchkula    2.000                  NaN   NaN   \n",
       "4            5  Haryana    Panchkula    1.000                  NaN   NaN   \n",
       "...        ...      ...          ...      ...                  ...   ...   \n",
       "887273  887274  Haryana        Sirsa    1.000             OC PILLS   NaN   \n",
       "887274  887275  Haryana        Sirsa    1.000             OC PILLS   NaN   \n",
       "887275  887276  Haryana      Kaithal    1.000                  NaN   NaN   \n",
       "887276  887277  Haryana      Gurgaon    1.000                  NaN   NaN   \n",
       "887277  887278  Haryana  Yamunanagar    1.000                  NaN   NaN   \n",
       "\n",
       "       pregnancy_test_done pregnancy_test_result  registration_no rural_urban  \\\n",
       "0                      Yes              Positive 106003464700.000       Rural   \n",
       "1                      Yes              Positive 106000012873.000       Rural   \n",
       "2                      Yes              Positive 106000012930.000       Rural   \n",
       "3                      Yes              Positive 106000012956.000       Rural   \n",
       "4                      Yes              Positive 106002357153.000       Rural   \n",
       "...                    ...                   ...              ...         ...   \n",
       "887273                  No                   NaN 106003403198.000       Rural   \n",
       "887274                  No                   NaN 106003403198.000       Rural   \n",
       "887275                 Yes              Positive 106004520370.000       Rural   \n",
       "887276                 Yes              Positive 106004520375.000       Rural   \n",
       "887277                 Yes              Positive 106004520380.000       Rural   \n",
       "\n",
       "                 visit_date  visit_no isactive previous_status  \\\n",
       "0       2019-04-02 00:00:00     1.000      NaN              EC   \n",
       "1       2019-05-28 00:00:00     1.000      NaN              EC   \n",
       "2       2019-04-16 00:00:00     1.000      NaN              EC   \n",
       "3       2019-08-06 00:00:00     1.000      NaN              EC   \n",
       "4       2017-04-11 00:00:00     1.000      NaN              EC   \n",
       "...                     ...       ...      ...             ...   \n",
       "887273  2019-09-21 00:00:00     6.000      NaN              EC   \n",
       "887274  2019-10-19 00:00:00     7.000      NaN              EC   \n",
       "887275  2020-01-16 05:30:00     1.000        t              EC   \n",
       "887276  2020-04-26 05:30:00     1.000        t              EC   \n",
       "887277  2020-05-20 05:30:00     1.000        t              EC   \n",
       "\n",
       "                 created_on  \n",
       "0       2019-04-04 14:28:27  \n",
       "1       2019-06-26 15:33:08  \n",
       "2       2019-06-26 11:18:21  \n",
       "3       2019-09-15 09:45:37  \n",
       "4       2017-05-27 12:34:16  \n",
       "...                     ...  \n",
       "887273  2019-12-10 19:02:52  \n",
       "887274  2019-12-10 19:02:53  \n",
       "887275  2020-01-16 05:30:00  \n",
       "887276  2020-04-26 05:30:00  \n",
       "887277  2020-05-20 05:30:00  \n",
       "\n",
       "[887278 rows x 15 columns]"
      ]
     },
     "execution_count": 5,
     "metadata": {},
     "output_type": "execute_result"
    }
   ],
   "source": [
    "df_raw.iloc[:-1]"
   ]
  },
  {
   "cell_type": "code",
   "execution_count": 6,
   "metadata": {},
   "outputs": [],
   "source": [
    "df = df_raw.iloc[:-1].copy()"
   ]
  },
  {
   "cell_type": "markdown",
   "metadata": {},
   "source": [
    "### Univariate EDA"
   ]
  },
  {
   "cell_type": "code",
   "execution_count": 9,
   "metadata": {},
   "outputs": [
    {
     "name": "stdout",
     "output_type": "stream",
     "text": [
      "id 887278\n",
      "state 1\n",
      "district 12\n",
      "case_no 5\n",
      "contraception_method 8\n",
      "other 254\n",
      "pregnancy_test_done 3\n",
      "pregnancy_test_result 3\n",
      "registration_no 721662\n",
      "rural_urban 1\n",
      "visit_date 2698\n",
      "visit_no 48\n",
      "isactive 1\n",
      "previous_status 1\n",
      "created_on 573073\n"
     ]
    }
   ],
   "source": [
    "for col in df:\n",
    "\tprint(col, df[col].nunique())"
   ]
  },
  {
   "cell_type": "code",
   "execution_count": 11,
   "metadata": {},
   "outputs": [],
   "source": [
    "categorical_cols = [] \n",
    "continuous_cols = [] \n",
    "datetime_cols = [] \n",
    "other_cols = [] "
   ]
  },
  {
   "cell_type": "code",
   "execution_count": 12,
   "metadata": {},
   "outputs": [],
   "source": [
    "for col in df:\n",
    "\tif df[col].nunique() <= 15:\n",
    "\t\tcategorical_cols.append(col)\n",
    "\telse:\n",
    "\t\tcontinuous_cols.append(col)"
   ]
  },
  {
   "cell_type": "code",
   "execution_count": 13,
   "metadata": {},
   "outputs": [
    {
     "data": {
      "text/plain": [
       "['state',\n",
       " 'district',\n",
       " 'case_no',\n",
       " 'contraception_method',\n",
       " 'pregnancy_test_done',\n",
       " 'pregnancy_test_result',\n",
       " 'rural_urban',\n",
       " 'isactive',\n",
       " 'previous_status']"
      ]
     },
     "execution_count": 13,
     "metadata": {},
     "output_type": "execute_result"
    }
   ],
   "source": [
    "categorical_cols"
   ]
  },
  {
   "cell_type": "code",
   "execution_count": 14,
   "metadata": {},
   "outputs": [
    {
     "data": {
      "text/plain": [
       "['id', 'other', 'registration_no', 'visit_date', 'visit_no', 'created_on']"
      ]
     },
     "execution_count": 14,
     "metadata": {},
     "output_type": "execute_result"
    }
   ],
   "source": [
    "continuous_cols"
   ]
  },
  {
   "cell_type": "code",
   "execution_count": 15,
   "metadata": {},
   "outputs": [
    {
     "data": {
      "text/plain": [
       "array([nan, 'Natural method', 'PPIUCD', 'Menopause', 'injection Antra',\n",
       "       'antra', 'Antra', 'chhaya', 'menopause', 'antral', 'no',\n",
       "       'dimpa injection', 'dimpa', 'dipma', 'ANC', 'condom', 'santosh',\n",
       "       'MALA N', 'MALA A AN', 'COPAR T', 'CHAYA GOLI', 'INJACTION DIMPA',\n",
       "       'f', 'Widower', 'Mala Arv', 'CT', 'ANTRAINGECION', 'Histacto my',\n",
       "       'ppiucd', 'ppuicd', 'Ppuicd', 'Dmpa', 'op', 'ppiucf', 'ppicud',\n",
       "       'none', 'injection antra', 'shaya', 'Ppiucd', 'DMPA', 'copper t',\n",
       "       'inj Antra', 'minopuse', 'Maltiload', 'Qntra', 'injection antwrs',\n",
       "       'INj  antra', 'IMG antra', 'INj  Antra', 'INJECTION', 'nil',\n",
       "       'hysterectomy', 'Antra injection', 'Menopouse', 'injuction',\n",
       "       'tube acti me', 'pregnant', 'mala d', 'No', 'OTHER', 'ants',\n",
       "       'inj dimpa first dose', 'antra injection', 'Uteres remove', 'Asha',\n",
       "       'Manju', 'Widhrol', 'other', 'Other', 'weekly pills', 'lnj antra',\n",
       "       'pp iucd', 'condoms', 'dont know', 'privet', 'Antara injection',\n",
       "       'CC', 'privet contraception', 'cc', 'Injection Antra',\n",
       "       'injection  Antra', 'Tablet chaya', 'tablet chaya',\n",
       "       'Antra Injection', 'injection Antara', 'Patel Nagar',\n",
       "       'injection antara', 'injection Antara civil hospital me lga',\n",
       "       'ink antra', 'inj antra', 'Natural Method', 'Any other i',\n",
       "       'Saheli', 'Injection', 'pppiucd', 'saheli user', 'Tub', 'na',\n",
       "       'nOt Know', 'ANY OTHER', 'antra injectsble', 'antra injectable',\n",
       "       'PPIuD', 'tubectomy', 'permanent method tubectomy', 'NO KNOWN',\n",
       "       'Multiload', 'nothing', 'not know', 'other mothed', 'antra enj',\n",
       "       'enjection', 'Not know', 'others mothed', 'n', 'parej', 'parhj',\n",
       "       'parhej', 'parehj', 'OP', 'safe methods', 'normal', 'Histectomy',\n",
       "       'CHAAYA', 'ingantra', 'lngAntra', 'Inganitar', 'ppiucd the same',\n",
       "       'Bhar clagui', 'huspand death', 'death', 'kuch nahin',\n",
       "       'antara injection', 'Tubectomi', 'ABORTION', 'injection',\n",
       "       'injantra', 'Eligible Couple Out', 'None', 'Hyscotomy', 'ANY',\n",
       "       'migrate out', 'husband death', 'private pills',\n",
       "       'hysterectomy Hui Hai', 'Divorce', 'widow',\n",
       "       'Antara injectable contraceptive',\n",
       "       'antra injectable contraceptive', 'Antra injectable contraceptive',\n",
       "       'HUSHBAND DEATH', 'Histectavy', 'uterus remove', 'histetmy',\n",
       "       'pregnent', 'PREGNANT', 'PREGNENT', 'Ghktl', 'pregenent',\n",
       "       'Pregnant', 'abortion', 'pargenant', 'pragnant', 'prenent',\n",
       "       'Multi lode', 'pregnanat', 'Pvt supply', 'Ppicud', 'I ppicud',\n",
       "       'Ppi cud', 'Pvt Supply', 'ing', 'pvt', 'maltilod',\n",
       "       'Injection Antrs', 'antra inj', 'mala n', 'Mala di', 'Mala d',\n",
       "       'Mala D', 'BGap Pill', 'husband out of country', 'antralnj',\n",
       "       'Injetion', 'Kalaso', 'withdrsl', 'Withdral ', 'Natural',\n",
       "       'not any method', 'Last baby by  IVF', 'Death of husband',\n",
       "       'natural', 'B  gap  op', 'injection anta', 'no any', 'Mala N',\n",
       "       'Chhaya o p', 'with drawl', 'Chhaya', 'Antra Inj',\n",
       "       'Antra injecsion', 'Antra ijecsion', 'antra enjection',\n",
       "       'Pvt doctor sy', 'tubctomy', 'inj Antara', 'inj atra first dose',\n",
       "       'inj antra sec dose', 'deaths', 'self', 'Histectomi', 'Chhaya  op',\n",
       "       'OP Chhaya', 'going to shiv chowk in sirsa', 'divorce ',\n",
       "       'infertility', 'going to chattergadpatti',\n",
       "       'going to out of station', 'Antra Second Dose',\n",
       "       'INj Antra First Dose', '    op  Chaya', 'Op  Chaya', 'Op Chaya',\n",
       "       'inj  antra', 'utrus remove', 'over Age', 'over age', 'Death',\n",
       "       'Male Death', 'Antara inj dose second', 'out of staton', 'divorce',\n",
       "       'i', 'Uterus Remove', 'no method use', 'Tab Chhaya',\n",
       "       'Kuchh Bhi Nahin', 'ing antra', 'death gurnam', 'chaya',\n",
       "       'Hunband Death', 'aantra', 'Antara', 'Pinki Devi', 'Nil',\n",
       "       'PPI ucd', 'hystectomy', 'Non', 'chaapil', 'contracept Inj',\n",
       "       'antra lnjection', 'Inj contra', 'cchaya', 'lnjaction lntra',\n",
       "       'Chhaya op'], dtype=object)"
      ]
     },
     "execution_count": 15,
     "metadata": {},
     "output_type": "execute_result"
    }
   ],
   "source": [
    "df['other'].unique()"
   ]
  },
  {
   "cell_type": "code",
   "execution_count": 16,
   "metadata": {},
   "outputs": [],
   "source": [
    "timeseries_cols = ['visit_date', 'created_on']\n",
    "other_cols = ['id', 'other', 'registration_no']\n",
    "continuous_cols = list(set(continuous_cols) - set(timeseries_cols) - set(other_cols))"
   ]
  },
  {
   "cell_type": "markdown",
   "metadata": {},
   "source": [
    "### Categorical features"
   ]
  },
  {
   "cell_type": "code",
   "execution_count": 18,
   "metadata": {},
   "outputs": [
    {
     "name": "stdout",
     "output_type": "stream",
     "text": [
      "******************** state ********************\n",
      "Unique values: ['Haryana']\n",
      "No. of unique values: 1\n",
      "Missing values count: 0 / 887278\n",
      "Missing values %: 0.0\n",
      "Value counts: \n",
      "Haryana   100.000\n",
      "Name: state, dtype: float64\n"
     ]
    },
    {
     "data": {
      "image/png": "[encoded data removed]",
      "text/plain": [
       "<Figure size 720x360 with 1 Axes>"
      ]
     },
     "metadata": {},
     "output_type": "display_data"
    },
    {
     "name": "stdout",
     "output_type": "stream",
     "text": [
      "******************** district ********************\n",
      "Unique values: ['Panchkula' 'Mewat' 'Palwal' 'Yamunanagar' 'Ambala' 'Mahendragarh' nan\n",
      " 'Hisar' 'Karnal' 'Jind' 'Kaithal' 'Sirsa' 'Gurgaon']\n",
      "No. of unique values: 12\n",
      "Missing values count: 155 / 887278\n",
      "Missing values %: 0.00017469158482459837\n",
      "Value counts: \n",
      "Sirsa          17.394\n",
      "Hisar          11.801\n",
      "Karnal         11.201\n",
      "Jind            9.480\n",
      "Kaithal         8.847\n",
      "Gurgaon         8.239\n",
      "Yamunanagar     7.468\n",
      "Ambala          7.065\n",
      "Palwal          6.106\n",
      "Mewat           4.840\n",
      "Mahendragarh    4.063\n",
      "Panchkula       3.496\n",
      "Name: district, dtype: float64\n"
     ]
    },
    {
     "data": {
      "image/png": "[encoded data removed]",
      "text/plain": [
       "<Figure size 864x360 with 1 Axes>"
      ]
     },
     "metadata": {},
     "output_type": "display_data"
    },
    {
     "name": "stdout",
     "output_type": "stream",
     "text": [
      "******************** case_no ********************\n",
      "Unique values: [1. 2. 3. 4. 5.]\n",
      "No. of unique values: 5\n",
      "Missing values count: 0 / 887278\n",
      "Missing values %: 0.0\n",
      "Value counts: \n",
      "1.000   88.926\n",
      "2.000   10.524\n",
      "3.000    0.517\n",
      "4.000    0.031\n",
      "5.000    0.001\n",
      "Name: case_no, dtype: float64\n"
     ]
    },
    {
     "data": {
      "image/png": "[encoded data removed]",
      "text/plain": [
       "<Figure size 720x360 with 1 Axes>"
      ]
     },
     "metadata": {},
     "output_type": "display_data"
    },
    {
     "name": "stdout",
     "output_type": "stream",
     "text": [
      "******************** contraception_method ********************\n",
      "Unique values: [nan 'CONDOM' 'OC PILLS' 'IUCD CU 380A(10 YRS)' 'EC PILLS'\n",
      " 'FEMALE STERILIZATION' 'IUCD CU 375(5 YRS)' 'MALE STERILIZATION'\n",
      " 'ANY OTHER SPECIFY']\n",
      "No. of unique values: 8\n",
      "Missing values count: 692514 / 887278\n",
      "Missing values %: 0.7804926978917544\n",
      "Value counts: \n",
      "CONDOM                 67.250\n",
      "IUCD CU 380A(10 YRS)    9.980\n",
      "OC PILLS                9.445\n",
      "FEMALE STERILIZATION    7.917\n",
      "IUCD CU 375(5 YRS)      3.382\n",
      "EC PILLS                0.842\n",
      "ANY OTHER SPECIFY       0.651\n",
      "MALE STERILIZATION      0.534\n",
      "Name: contraception_method, dtype: float64\n"
     ]
    },
    {
     "data": {
      "image/png": "[encoded data removed]",
      "text/plain": [
       "<Figure size 720x360 with 1 Axes>"
      ]
     },
     "metadata": {},
     "output_type": "display_data"
    },
    {
     "name": "stdout",
     "output_type": "stream",
     "text": [
      "******************** pregnancy_test_done ********************\n",
      "Unique values: ['Yes' 'No' 'Declined']\n",
      "No. of unique values: 3\n",
      "Missing values count: 0 / 887278\n",
      "Missing values %: 0.0\n",
      "Value counts: \n",
      "Yes        70.685\n",
      "No         29.057\n",
      "Declined    0.259\n",
      "Name: pregnancy_test_done, dtype: float64\n"
     ]
    },
    {
     "data": {
      "image/png": "[encoded data removed]",
      "text/plain": [
       "<Figure size 720x360 with 1 Axes>"
      ]
     },
     "metadata": {},
     "output_type": "display_data"
    },
    {
     "name": "stdout",
     "output_type": "stream",
     "text": [
      "******************** pregnancy_test_result ********************\n",
      "Unique values: ['Positive' nan 'Declined' 'Negative']\n",
      "No. of unique values: 3\n",
      "Missing values count: 257799 / 887278\n",
      "Missing values %: 0.2905504250077202\n",
      "Value counts: \n",
      "Positive   96.425\n",
      "Declined    3.402\n",
      "Negative    0.173\n",
      "Name: pregnancy_test_result, dtype: float64\n"
     ]
    },
    {
     "data": {
      "image/png": "[encoded data removed]",
      "text/plain": [
       "<Figure size 720x360 with 1 Axes>"
      ]
     },
     "metadata": {},
     "output_type": "display_data"
    },
    {
     "name": "stdout",
     "output_type": "stream",
     "text": [
      "******************** rural_urban ********************\n",
      "Unique values: ['Rural']\n",
      "No. of unique values: 1\n",
      "Missing values count: 0 / 887278\n",
      "Missing values %: 0.0\n",
      "Value counts: \n",
      "Rural   100.000\n",
      "Name: rural_urban, dtype: float64\n"
     ]
    },
    {
     "data": {
      "image/png": "[encoded data removed]",
      "text/plain": [
       "<Figure size 720x360 with 1 Axes>"
      ]
     },
     "metadata": {},
     "output_type": "display_data"
    },
    {
     "name": "stdout",
     "output_type": "stream",
     "text": [
      "******************** isactive ********************\n",
      "Unique values: [nan 't']\n",
      "No. of unique values: 1\n",
      "Missing values count: 724374 / 887278\n",
      "Missing values %: 0.8164002713918298\n",
      "Value counts: \n",
      "t   100.000\n",
      "Name: isactive, dtype: float64\n"
     ]
    },
    {
     "data": {
      "image/png": "[encoded data removed]",
      "text/plain": [
       "<Figure size 720x360 with 1 Axes>"
      ]
     },
     "metadata": {},
     "output_type": "display_data"
    },
    {
     "name": "stdout",
     "output_type": "stream",
     "text": [
      "******************** previous_status ********************\n",
      "Unique values: ['EC']\n",
      "No. of unique values: 1\n",
      "Missing values count: 0 / 887278\n",
      "Missing values %: 0.0\n",
      "Value counts: \n",
      "EC   100.000\n",
      "Name: previous_status, dtype: float64\n"
     ]
    },
    {
     "data": {
      "image/png": "[encoded data removed]",
      "text/plain": [
       "<Figure size 720x360 with 1 Axes>"
      ]
     },
     "metadata": {},
     "output_type": "display_data"
    }
   ],
   "source": [
    "for col in categorical_cols:\n",
    "\tprint('*'*20, col, '*'*20)\n",
    "\tif df[col].nunique() <= 10:\n",
    "\t\tcategorical_eda(df, col, (10, 5))\n",
    "\telse:\n",
    "\t\tcategorical_eda(df, col, (df[col].nunique(), 5))"
   ]
  },
  {
   "cell_type": "code",
   "execution_count": 20,
   "metadata": {},
   "outputs": [
    {
     "data": {
      "text/plain": [
       "array(['Positive', 'Declined', 'Negative'], dtype=object)"
      ]
     },
     "execution_count": 20,
     "metadata": {},
     "output_type": "execute_result"
    }
   ],
   "source": [
    "df[df['pregnancy_test_done'] == 'Declined']['pregnancy_test_result'].unique()"
   ]
  },
  {
   "cell_type": "code",
   "execution_count": null,
   "metadata": {},
   "outputs": [],
   "source": []
  }
 ],
 "metadata": {
  "interpreter": {
   "hash": "61f292929c70be9f47fe75d2ecc2313898416d309dcb2c8bc8f4dc81e69dae7f"
  },
  "kernelspec": {
   "display_name": "Python 3.8.8 64-bit ('mldev': conda)",
   "language": "python",
   "name": "python3"
  },
  "language_info": {
   "codemirror_mode": {
    "name": "ipython",
    "version": 3
   },
   "file_extension": ".py",
   "mimetype": "text/x-python",
   "name": "python",
   "nbconvert_exporter": "python",
   "pygments_lexer": "ipython3",
   "version": "3.8.8"
  },
  "orig_nbformat": 4
 },
 "nbformat": 4,
 "nbformat_minor": 2
}
